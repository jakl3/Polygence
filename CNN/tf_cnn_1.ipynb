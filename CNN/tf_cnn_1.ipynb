{
 "cells": [
  {
   "cell_type": "markdown",
   "id": "76c9a667-26fc-41e3-9cd8-d0b24241b12b",
   "metadata": {},
   "source": [
    "# CNN using Tensorflow Keras on MRI Image Data - failed attempt (memory out)"
   ]
  },
  {
   "cell_type": "markdown",
   "id": "2e9c8148-eadf-4723-8f49-31d72a9f4867",
   "metadata": {},
   "source": [
    "## Data Use Agreements\n",
    "The data used for this project were provided in part by OASIS and ADNI.\n",
    "\n",
    "OASIS-3: Principal Investigators: T. Benzinger, D. Marcus, J. Morris; NIH P50 AG00561, P30 NS09857781, P01 AG026276, P01 AG003991, R01 AG043434, UL1 TR000448, R01 EB009352. AV-45 doses were provided by Avid Radiopharmaceuticals, a wholly owned subsidiary of Eli Lilly.\n",
    "\n",
    "Data collection for this project was done through the Alzheimer's Disease Neuroimaging Initiative (ADNI) (National Institutes of Health Grant U01 AG024904) and DOD ADNI (Department of Defense award number W81XWH-12-2-0012). ADNI is funded by the National Institute on Aging, the National Institute of Biomedical Imaging and Bioengineering, and through generous contributions from the following: AbbVie, Alzheimer’s Association; Alzheimer’s Drug Discovery Foundation; Araclon Biotech; BioClinica, Inc.; Biogen; Bristol-Myers Squibb Company; CereSpir, Inc.; Cogstate; Eisai Inc.; Elan Pharmaceuticals, Inc.; Eli Lilly and Company; EuroImmun; F. Hoffmann-La Roche Ltd and its affiliated company Genentech, Inc.; Fujirebio; GE Healthcare; IXICO Ltd.; Janssen Alzheimer Immunotherapy Research & Development, LLC.; Johnson & Johnson Pharmaceutical Research & Development LLC.; Lumosity; Lundbeck; Merck & Co., Inc.; Meso Scale Diagnostics, LLC.; NeuroRx Research; Neurotrack Technologies; Novartis Pharmaceuticals Corporation; Pfizer Inc.; Piramal Imaging; Servier; Takeda Pharmaceutical Company; and Transition Therapeutics. The Canadian Institutes of Health Research is providing funds to support ADNI clinical sites in Canada. Private sector contributions are facilitated by the Foundation for the National Institutes of Health (www.fnih.org). The grantee organization is the Northern California Institute for Research and Education, and the study is coordinated by the Alzheimer’s Therapeutic Research Institute at the University of Southern California. ADNI data are disseminated by the Laboratory for Neuro Imaging at the University of Southern California."
   ]
  },
  {
   "cell_type": "markdown",
   "id": "6d8e915b-3864-4342-bce3-26a43ed940a0",
   "metadata": {},
   "source": [
    "## Setup"
   ]
  },
  {
   "cell_type": "markdown",
   "id": "ee22b725-9eda-42d6-bb1d-a24ea7dd4b3b",
   "metadata": {},
   "source": [
    "### General Imports"
   ]
  },
  {
   "cell_type": "code",
   "execution_count": 1,
   "id": "9aa47e39-bdbf-455c-830d-4a846bd285f9",
   "metadata": {},
   "outputs": [],
   "source": [
    "import nibabel.freesurfer.mghformat as mgh\n",
    "\n",
    "from tqdm.notebook import tqdm\n",
    "\n",
    "import os, sys\n",
    "\n",
    "import matplotlib.pyplot as plt\n",
    "import seaborn as sns\n",
    "import numpy as np\n",
    "import pandas as pd\n",
    "pd.set_option('display.max_colwidth', None)"
   ]
  },
  {
   "cell_type": "markdown",
   "id": "57203948-276a-43ee-8e82-477e6448f3e4",
   "metadata": {},
   "source": [
    "### Set up and test Tensorflow"
   ]
  },
  {
   "cell_type": "code",
   "execution_count": 2,
   "id": "86f6bfe6-91c3-4842-97bb-6a521ec333d2",
   "metadata": {},
   "outputs": [],
   "source": [
    "import tensorflow as tf"
   ]
  },
  {
   "cell_type": "code",
   "execution_count": 3,
   "id": "1e319bc6-614a-446a-8c5d-989b128be282",
   "metadata": {},
   "outputs": [
    {
     "name": "stdout",
     "output_type": "stream",
     "text": [
      "Tensor Flow Version: 2.2.0\n",
      "Keras Version: 2.3.0-tf\n",
      "\n",
      "Python 3.8.10 (default, Jun  4 2021, 15:09:15) \n",
      "[GCC 7.5.0]\n",
      "Pandas 1.2.4\n",
      "Num GPUs Available:  1\n"
     ]
    }
   ],
   "source": [
    "print(f\"Tensor Flow Version: {tf.__version__}\")\n",
    "print(f\"Keras Version: {tf.keras.__version__}\")\n",
    "print()\n",
    "print(f\"Python {sys.version}\")\n",
    "print(f\"Pandas {pd.__version__}\")\n",
    "print(\"Num GPUs Available: \", len(tf.config.list_physical_devices('GPU')))"
   ]
  },
  {
   "cell_type": "code",
   "execution_count": 4,
   "id": "496865be-e58b-426b-9683-1bf4d3ca906b",
   "metadata": {},
   "outputs": [
    {
     "name": "stdout",
     "output_type": "stream",
     "text": [
      "Executing op MatMul in device /job:localhost/replica:0/task:0/device:GPU:0\n",
      "tf.Tensor(\n",
      "[[22. 28.]\n",
      " [49. 64.]], shape=(2, 2), dtype=float32)\n"
     ]
    }
   ],
   "source": [
    "tf.debugging.set_log_device_placement(True)\n",
    "\n",
    "# Create some tensors\n",
    "a = tf.constant([[1.0, 2.0, 3.0], [4.0, 5.0, 6.0]])\n",
    "b = tf.constant([[1.0, 2.0], [3.0, 4.0], [5.0, 6.0]])\n",
    "c = tf.matmul(a, b)\n",
    "\n",
    "print(c)"
   ]
  },
  {
   "cell_type": "markdown",
   "id": "de1c79c7-fff2-4087-824f-5cf150986401",
   "metadata": {},
   "source": [
    "## Load data"
   ]
  },
  {
   "cell_type": "markdown",
   "id": "6e4b9e99-bc96-4574-8a92-8fc750d94f94",
   "metadata": {},
   "source": [
    "### CSV"
   ]
  },
  {
   "cell_type": "code",
   "execution_count": 5,
   "id": "5d3b27e9-f0e5-471a-8785-307404f84529",
   "metadata": {},
   "outputs": [
    {
     "data": {
      "text/html": [
       "<div>\n",
       "<style scoped>\n",
       "    .dataframe tbody tr th:only-of-type {\n",
       "        vertical-align: middle;\n",
       "    }\n",
       "\n",
       "    .dataframe tbody tr th {\n",
       "        vertical-align: top;\n",
       "    }\n",
       "\n",
       "    .dataframe thead th {\n",
       "        text-align: right;\n",
       "    }\n",
       "</style>\n",
       "<table border=\"1\" class=\"dataframe\">\n",
       "  <thead>\n",
       "    <tr style=\"text-align: right;\">\n",
       "      <th></th>\n",
       "      <th>Subject</th>\n",
       "      <th>MR ID</th>\n",
       "      <th>id</th>\n",
       "      <th>Age</th>\n",
       "      <th>M/F</th>\n",
       "      <th>dx1</th>\n",
       "      <th>mmse</th>\n",
       "      <th>cdr</th>\n",
       "      <th>apoe</th>\n",
       "      <th>TOTAL_HIPPOCAMPUS_VOLUME</th>\n",
       "      <th>...</th>\n",
       "      <th>rhCortexVol</th>\n",
       "      <th>CortexVol</th>\n",
       "      <th>SubCortGrayVol</th>\n",
       "      <th>TotalGrayVol</th>\n",
       "      <th>SupraTentorialVol</th>\n",
       "      <th>lhCorticalWhiteMatterVol</th>\n",
       "      <th>rhCorticalWhiteMatterVol</th>\n",
       "      <th>CorticalWhiteMatterVol</th>\n",
       "      <th>L.SurfArea</th>\n",
       "      <th>R.SurfArea</th>\n",
       "    </tr>\n",
       "  </thead>\n",
       "  <tbody>\n",
       "    <tr>\n",
       "      <th>0</th>\n",
       "      <td>OAS30001</td>\n",
       "      <td>OAS30001_MR_d3132</td>\n",
       "      <td>OAS30001_Freesurfer53_d3132</td>\n",
       "      <td>73.0</td>\n",
       "      <td>F</td>\n",
       "      <td>Cognitively normal</td>\n",
       "      <td>30.0</td>\n",
       "      <td>0.0</td>\n",
       "      <td>23.0</td>\n",
       "      <td>6861.9</td>\n",
       "      <td>...</td>\n",
       "      <td>178031.558882</td>\n",
       "      <td>359975.257636</td>\n",
       "      <td>48400.0</td>\n",
       "      <td>491102.257636</td>\n",
       "      <td>7.736716e+05</td>\n",
       "      <td>174372.329393</td>\n",
       "      <td>173244.012238</td>\n",
       "      <td>347616.341631</td>\n",
       "      <td>67598.1</td>\n",
       "      <td>67185.8</td>\n",
       "    </tr>\n",
       "    <tr>\n",
       "      <th>1</th>\n",
       "      <td>OAS30001</td>\n",
       "      <td>OAS30001_MR_d0129</td>\n",
       "      <td>OAS30001_Freesurfer53_d0129</td>\n",
       "      <td>65.0</td>\n",
       "      <td>F</td>\n",
       "      <td>Cognitively normal</td>\n",
       "      <td>30.0</td>\n",
       "      <td>0.0</td>\n",
       "      <td>23.0</td>\n",
       "      <td>7678.9</td>\n",
       "      <td>...</td>\n",
       "      <td>187528.786036</td>\n",
       "      <td>379446.180091</td>\n",
       "      <td>50687.0</td>\n",
       "      <td>517683.180091</td>\n",
       "      <td>8.105851e+05</td>\n",
       "      <td>184600.488060</td>\n",
       "      <td>182662.445419</td>\n",
       "      <td>367262.933479</td>\n",
       "      <td>70168.1</td>\n",
       "      <td>69483.8</td>\n",
       "    </tr>\n",
       "    <tr>\n",
       "      <th>2</th>\n",
       "      <td>OAS30001</td>\n",
       "      <td>OAS30001_MR_d2430</td>\n",
       "      <td>OAS30001_Freesurfer53_d2430</td>\n",
       "      <td>71.0</td>\n",
       "      <td>F</td>\n",
       "      <td>Cognitively normal</td>\n",
       "      <td>30.0</td>\n",
       "      <td>0.0</td>\n",
       "      <td>23.0</td>\n",
       "      <td>7105.9</td>\n",
       "      <td>...</td>\n",
       "      <td>178872.680224</td>\n",
       "      <td>357784.489639</td>\n",
       "      <td>49058.0</td>\n",
       "      <td>487405.489639</td>\n",
       "      <td>7.779313e+05</td>\n",
       "      <td>175955.968883</td>\n",
       "      <td>178172.812666</td>\n",
       "      <td>354128.781549</td>\n",
       "      <td>67905.7</td>\n",
       "      <td>68000.2</td>\n",
       "    </tr>\n",
       "    <tr>\n",
       "      <th>3</th>\n",
       "      <td>OAS30001</td>\n",
       "      <td>OAS30001_MR_d0757</td>\n",
       "      <td>OAS30001_Freesurfer53_d0757</td>\n",
       "      <td>67.0</td>\n",
       "      <td>F</td>\n",
       "      <td>Cognitively normal</td>\n",
       "      <td>29.0</td>\n",
       "      <td>0.0</td>\n",
       "      <td>23.0</td>\n",
       "      <td>7648.2</td>\n",
       "      <td>...</td>\n",
       "      <td>177566.874682</td>\n",
       "      <td>362040.150904</td>\n",
       "      <td>50071.0</td>\n",
       "      <td>500699.150904</td>\n",
       "      <td>7.993419e+05</td>\n",
       "      <td>185224.779932</td>\n",
       "      <td>188151.990316</td>\n",
       "      <td>373376.770247</td>\n",
       "      <td>69142.3</td>\n",
       "      <td>68558.8</td>\n",
       "    </tr>\n",
       "    <tr>\n",
       "      <th>4</th>\n",
       "      <td>OAS30002</td>\n",
       "      <td>OAS30002_MR_d2345</td>\n",
       "      <td>OAS30002_Freesurfer53_d2345</td>\n",
       "      <td>73.0</td>\n",
       "      <td>M</td>\n",
       "      <td>Cognitively normal</td>\n",
       "      <td>29.0</td>\n",
       "      <td>0.0</td>\n",
       "      <td>34.0</td>\n",
       "      <td>7833.2</td>\n",
       "      <td>...</td>\n",
       "      <td>230240.532783</td>\n",
       "      <td>457342.035802</td>\n",
       "      <td>56773.0</td>\n",
       "      <td>607473.035802</td>\n",
       "      <td>1.051714e+06</td>\n",
       "      <td>239168.338419</td>\n",
       "      <td>245361.377267</td>\n",
       "      <td>484529.715686</td>\n",
       "      <td>83138.1</td>\n",
       "      <td>85742.3</td>\n",
       "    </tr>\n",
       "  </tbody>\n",
       "</table>\n",
       "<p>5 rows × 22 columns</p>\n",
       "</div>"
      ],
      "text/plain": [
       "    Subject              MR ID                           id   Age M/F  \\\n",
       "0  OAS30001  OAS30001_MR_d3132  OAS30001_Freesurfer53_d3132  73.0   F   \n",
       "1  OAS30001  OAS30001_MR_d0129  OAS30001_Freesurfer53_d0129  65.0   F   \n",
       "2  OAS30001  OAS30001_MR_d2430  OAS30001_Freesurfer53_d2430  71.0   F   \n",
       "3  OAS30001  OAS30001_MR_d0757  OAS30001_Freesurfer53_d0757  67.0   F   \n",
       "4  OAS30002  OAS30002_MR_d2345  OAS30002_Freesurfer53_d2345  73.0   M   \n",
       "\n",
       "                  dx1  mmse  cdr  apoe  TOTAL_HIPPOCAMPUS_VOLUME  ...  \\\n",
       "0  Cognitively normal  30.0  0.0  23.0                    6861.9  ...   \n",
       "1  Cognitively normal  30.0  0.0  23.0                    7678.9  ...   \n",
       "2  Cognitively normal  30.0  0.0  23.0                    7105.9  ...   \n",
       "3  Cognitively normal  29.0  0.0  23.0                    7648.2  ...   \n",
       "4  Cognitively normal  29.0  0.0  34.0                    7833.2  ...   \n",
       "\n",
       "     rhCortexVol      CortexVol  SubCortGrayVol   TotalGrayVol  \\\n",
       "0  178031.558882  359975.257636         48400.0  491102.257636   \n",
       "1  187528.786036  379446.180091         50687.0  517683.180091   \n",
       "2  178872.680224  357784.489639         49058.0  487405.489639   \n",
       "3  177566.874682  362040.150904         50071.0  500699.150904   \n",
       "4  230240.532783  457342.035802         56773.0  607473.035802   \n",
       "\n",
       "   SupraTentorialVol  lhCorticalWhiteMatterVol  rhCorticalWhiteMatterVol  \\\n",
       "0       7.736716e+05             174372.329393             173244.012238   \n",
       "1       8.105851e+05             184600.488060             182662.445419   \n",
       "2       7.779313e+05             175955.968883             178172.812666   \n",
       "3       7.993419e+05             185224.779932             188151.990316   \n",
       "4       1.051714e+06             239168.338419             245361.377267   \n",
       "\n",
       "   CorticalWhiteMatterVol  L.SurfArea  R.SurfArea  \n",
       "0           347616.341631     67598.1     67185.8  \n",
       "1           367262.933479     70168.1     69483.8  \n",
       "2           354128.781549     67905.7     68000.2  \n",
       "3           373376.770247     69142.3     68558.8  \n",
       "4           484529.715686     83138.1     85742.3  \n",
       "\n",
       "[5 rows x 22 columns]"
      ]
     },
     "execution_count": 5,
     "metadata": {},
     "output_type": "execute_result"
    }
   ],
   "source": [
    "rootdir = '/home/jack/Code/GitHub/Polygence/'\n",
    "df = pd.read_csv(rootdir + 'Data/OASIS/csv_files/oasis_3.csv')\n",
    "df.head()"
   ]
  },
  {
   "cell_type": "code",
   "execution_count": 6,
   "id": "4973c9cb-8a0a-4ee3-961e-ea10f84457ca",
   "metadata": {},
   "outputs": [
    {
     "name": "stdout",
     "output_type": "stream",
     "text": [
      "(1022, 4)\n"
     ]
    }
   ],
   "source": [
    "df = df.dropna(axis=1, how='all') # Drop any empty columns\n",
    "df = df.dropna(axis=0, how='any') # Drop any rows with empty values \n",
    "df = df.rename(columns={'id':'FS ID', 'dx1':'Diagnosis'}) # Rename columns\n",
    "df = df.drop_duplicates(subset='Subject', keep='first') # Keep only the first visit\n",
    "df = df.reset_index(drop=True) # Reset the index\n",
    "df.loc[df['cdr'] < 0.5, 'Diagnosis'] = 'control'\n",
    "df.loc[~(df['cdr'] < 0.5), 'Diagnosis'] = 'dementia'\n",
    "# df['Diagnosis'].replace(['control','dementia'], [-1,1], inplace=True)\n",
    "df = df.drop(df.columns.difference(['Subject', 'MR ID', 'FS ID', 'Diagnosis']), axis=1) # Drop all columns unless needed\n",
    "print(df.shape)"
   ]
  },
  {
   "cell_type": "code",
   "execution_count": 7,
   "id": "2630ffe1-97ef-420c-a95d-4db07b22acd0",
   "metadata": {},
   "outputs": [
    {
     "data": {
      "text/html": [
       "<div>\n",
       "<style scoped>\n",
       "    .dataframe tbody tr th:only-of-type {\n",
       "        vertical-align: middle;\n",
       "    }\n",
       "\n",
       "    .dataframe tbody tr th {\n",
       "        vertical-align: top;\n",
       "    }\n",
       "\n",
       "    .dataframe thead th {\n",
       "        text-align: right;\n",
       "    }\n",
       "</style>\n",
       "<table border=\"1\" class=\"dataframe\">\n",
       "  <thead>\n",
       "    <tr style=\"text-align: right;\">\n",
       "      <th></th>\n",
       "      <th>Subject</th>\n",
       "      <th>MR ID</th>\n",
       "      <th>FS ID</th>\n",
       "      <th>Diagnosis</th>\n",
       "    </tr>\n",
       "  </thead>\n",
       "  <tbody>\n",
       "    <tr>\n",
       "      <th>0</th>\n",
       "      <td>OAS30001</td>\n",
       "      <td>OAS30001_MR_d3132</td>\n",
       "      <td>OAS30001_Freesurfer53_d3132</td>\n",
       "      <td>control</td>\n",
       "    </tr>\n",
       "    <tr>\n",
       "      <th>1</th>\n",
       "      <td>OAS30002</td>\n",
       "      <td>OAS30002_MR_d2345</td>\n",
       "      <td>OAS30002_Freesurfer53_d2345</td>\n",
       "      <td>control</td>\n",
       "    </tr>\n",
       "    <tr>\n",
       "      <th>2</th>\n",
       "      <td>OAS30003</td>\n",
       "      <td>OAS30003_MR_d2682</td>\n",
       "      <td>OAS30003_Freesurfer53_d2682</td>\n",
       "      <td>control</td>\n",
       "    </tr>\n",
       "    <tr>\n",
       "      <th>3</th>\n",
       "      <td>OAS30004</td>\n",
       "      <td>OAS30004_MR_d2232</td>\n",
       "      <td>OAS30004_Freesurfer53_d2232</td>\n",
       "      <td>control</td>\n",
       "    </tr>\n",
       "    <tr>\n",
       "      <th>4</th>\n",
       "      <td>OAS30005</td>\n",
       "      <td>OAS30005_MR_d2377</td>\n",
       "      <td>OAS30005_Freesurfer53_d2377</td>\n",
       "      <td>control</td>\n",
       "    </tr>\n",
       "  </tbody>\n",
       "</table>\n",
       "</div>"
      ],
      "text/plain": [
       "    Subject              MR ID                        FS ID Diagnosis\n",
       "0  OAS30001  OAS30001_MR_d3132  OAS30001_Freesurfer53_d3132   control\n",
       "1  OAS30002  OAS30002_MR_d2345  OAS30002_Freesurfer53_d2345   control\n",
       "2  OAS30003  OAS30003_MR_d2682  OAS30003_Freesurfer53_d2682   control\n",
       "3  OAS30004  OAS30004_MR_d2232  OAS30004_Freesurfer53_d2232   control\n",
       "4  OAS30005  OAS30005_MR_d2377  OAS30005_Freesurfer53_d2377   control"
      ]
     },
     "execution_count": 7,
     "metadata": {},
     "output_type": "execute_result"
    }
   ],
   "source": [
    "df.head()"
   ]
  },
  {
   "cell_type": "code",
   "execution_count": 8,
   "id": "4093c9f2-d513-47e5-84fe-ddcb62767cd5",
   "metadata": {},
   "outputs": [
    {
     "data": {
      "text/plain": [
       "<AxesSubplot:xlabel='Diagnosis', ylabel='count'>"
      ]
     },
     "execution_count": 8,
     "metadata": {},
     "output_type": "execute_result"
    },
    {
     "data": {
      "image/png": "[encoded data removed]",
      "text/plain": [
       "<Figure size 432x288 with 1 Axes>"
      ]
     },
     "metadata": {
      "needs_background": "light"
     },
     "output_type": "display_data"
    }
   ],
   "source": [
    "sns.countplot(x='Diagnosis', data=df)"
   ]
  },
  {
   "cell_type": "markdown",
   "id": "c3d4b384-8a21-4f4d-a985-94c9856caf36",
   "metadata": {},
   "source": [
    "### MRI\n",
    "Since all the files are already transformed via the freesurfer, I don't think we'll need to do any major preprocessing like cropping, flipping, or rotating.\n",
    "```\n",
    "main_directory/\n",
    "    control/\n",
    "        mr_id_001/\n",
    "            brain_image.mgz\n",
    "            brain_image_transformed.mgz\n",
    "            talairach.xfm\n",
    "        mr_id_002/\n",
    "            brain_image.mgz\n",
    "            brain_image_transformed.mgz\n",
    "            talairach.xfm\n",
    "    dementia/\n",
    "        mr_id_003/\n",
    "            brain_image.mgz\n",
    "            brain_image_transformed.mgz\n",
    "            talairach.xfm\n",
    "        mr_id_004/\n",
    "            brain_image.mgz\n",
    "            brain_image_transformed.mgz\n",
    "            talairach.xfm\n",
    "```"
   ]
  },
  {
   "cell_type": "code",
   "execution_count": 9,
   "id": "107df931-cdbe-498e-ba66-bca22d9df566",
   "metadata": {},
   "outputs": [],
   "source": [
    "def read_mri_scan(path):\n",
    "    \"\"\"Read and load an MRI volume from file path\"\"\"\n",
    "    volume = mgh.load(path).get_fdata().astype(\"float32\")\n",
    "\n",
    "    # In case the bash script missed a transform on a scan\n",
    "    if volume.shape != (256, 256, 256):\n",
    "        raise Exception(f\"Image shape is not standard. You need to do resizing on {path}.\")\n",
    "\n",
    "    return volume\n",
    "\n",
    "def normalize(volume):\n",
    "    \"\"\" Normalize the MRI volume \"\"\"\n",
    "    min = 0.0\n",
    "    max = 255.0\n",
    "    volume[volume < min] = min\n",
    "    volume[volume > max] = max\n",
    "    volume = (volume - min) / (max - min)\n",
    "    volume = volume.astype(\"float32\")\n",
    "    return volume\n",
    "\n",
    "def process_mri_scan(path):\n",
    "    \"\"\" Read in and process the MRI scan, if necessary \"\"\"\n",
    "    # Read the scan\n",
    "    volume = read_mri_scan(path)\n",
    "    # print(volume.max(), volume.min(), volume.dtype)\n",
    "    volume = normalize(volume)\n",
    "    # print(volume.max(), volume.min(), volume.dtype)\n",
    "    return volume"
   ]
  },
  {
   "cell_type": "markdown",
   "id": "191aed50-e254-4fb7-abcb-4c522b231b99",
   "metadata": {},
   "source": [
    "#### Example"
   ]
  },
  {
   "cell_type": "code",
   "execution_count": 10,
   "id": "434736df-69e9-4803-9346-aab1bb642311",
   "metadata": {},
   "outputs": [
    {
     "name": "stdout",
     "output_type": "stream",
     "text": [
      "0.7563453 0.0 float32 (256, 256, 256)\n"
     ]
    }
   ],
   "source": [
    "example_path = '/home/jack/Code/GitHub/Polygence/Data/OASIS/mri_data/control/OAS30001_MR_d3132/OAS30001_Freesurfer53_d3132_brain_transformed.mgz'\n",
    "volume = process_mri_scan(example_path)\n",
    "print(volume.max(), volume.min(), volume.dtype, volume.shape)"
   ]
  },
  {
   "cell_type": "code",
   "execution_count": 11,
   "id": "71c2f63d-45bd-415b-b9b9-6c5e75f737d2",
   "metadata": {},
   "outputs": [
    {
     "data": {
      "application/vnd.jupyter.widget-view+json": {
       "model_id": "736be4a3042f4b739918172303719464",
       "version_major": 2,
       "version_minor": 0
      },
      "text/plain": [
       "dementia:   0%|          | 0/310 [00:00<?, ?it/s]"
      ]
     },
     "metadata": {},
     "output_type": "display_data"
    },
    {
     "data": {
      "application/vnd.jupyter.widget-view+json": {
       "model_id": "d65e4a36134f4805887a10d2640a9c0c",
       "version_major": 2,
       "version_minor": 0
      },
      "text/plain": [
       "control:   0%|          | 0/712 [00:00<?, ?it/s]"
      ]
     },
     "metadata": {},
     "output_type": "display_data"
    }
   ],
   "source": [
    "data_dir = os.path.join(rootdir, 'Data/OASIS/mri_data/')\n",
    "\n",
    "control_scan_paths = []\n",
    "dementia_scan_paths = []\n",
    "\n",
    "labels = os.listdir(data_dir)\n",
    "for label in labels:\n",
    "    label_dir = os.path.join(data_dir, label)\n",
    "    ids = os.listdir(label_dir)\n",
    "    for id in tqdm(ids, desc=label):\n",
    "        mr_dir = os.path.join(label_dir, id)\n",
    "        img_file = [file for file in os.listdir(mr_dir) if \"transformed\" in file]\n",
    "        img_path = os.path.join(mr_dir, img_file[0])\n",
    "        if label == 'control':\n",
    "            control_scan_paths.append(img_path)\n",
    "        else:\n",
    "            dementia_scan_paths.append(img_path)"
   ]
  },
  {
   "cell_type": "code",
   "execution_count": 12,
   "id": "cd1ce1de-04cc-4db9-9956-2bd4a3681b34",
   "metadata": {},
   "outputs": [
    {
     "name": "stdout",
     "output_type": "stream",
     "text": [
      "712 310\n"
     ]
    }
   ],
   "source": [
    "print(len(control_scan_paths), len(dementia_scan_paths))"
   ]
  },
  {
   "cell_type": "code",
   "execution_count": 14,
   "id": "bd8b1c59-38ba-4727-98e8-804d0974c87e",
   "metadata": {},
   "outputs": [
    {
     "name": "stdout",
     "output_type": "stream",
     "text": [
      "/home/jack/Code/GitHub/Polygence/Data/OASIS/mri_data/control/OAS30050_MR_d1530/OAS30050_Freesurfer53_d1530_brain_transformed.mgz\n",
      "/home/jack/Code/GitHub/Polygence/Data/OASIS/mri_data/dementia/OAS30043_MR_d0145/OAS30043_Freesurfer53_d0145_brain_transformed.mgz\n"
     ]
    }
   ],
   "source": [
    "print(control_scan_paths[0])\n",
    "print(dementia_scan_paths[0])"
   ]
  },
  {
   "cell_type": "markdown",
   "id": "a280e54d-222f-4317-b5c5-63c2a117187f",
   "metadata": {},
   "source": [
    "## Create the train and validation datasets"
   ]
  },
  {
   "cell_type": "code",
   "execution_count": null,
   "id": "ce1de14d-8196-4cbf-988a-060ccf5b0b99",
   "metadata": {},
   "outputs": [
    {
     "data": {
      "application/vnd.jupyter.widget-view+json": {
       "model_id": "a69c666a8179429d8431f7918b6d6bb8",
       "version_major": 2,
       "version_minor": 0
      },
      "text/plain": [
       "  0%|          | 0/712 [00:00<?, ?it/s]"
      ]
     },
     "metadata": {},
     "output_type": "display_data"
    }
   ],
   "source": [
    "# Read in the control scans\n",
    "control_scans = np.array([process_mri_scan(path) for path in tqdm(control_scan_paths)])"
   ]
  },
  {
   "cell_type": "code",
   "execution_count": null,
   "id": "88d4bfc7-ac9d-4a0e-9316-44bc34be27d1",
   "metadata": {},
   "outputs": [],
   "source": [
    "# Read in the dementia scans\n",
    "dementia_scans = np.array([process_mri_scan(path) for path in tqdm(dementia_scan_paths)])"
   ]
  },
  {
   "cell_type": "code",
   "execution_count": null,
   "id": "3d19a957-9a63-4add-ab1a-793b1dd7c68e",
   "metadata": {},
   "outputs": [],
   "source": [
    "# Shuffle the data\n",
    "np.random.shuffle(control_scans)\n",
    "np.random.shuffle(dementia_scans)"
   ]
  },
  {
   "cell_type": "code",
   "execution_count": null,
   "id": "13a0a65a-b33a-43f5-a156-08d0d0a91240",
   "metadata": {},
   "outputs": [],
   "source": [
    "# Create the label arrays\n",
    "# assign 1 for dementia patients, and 0 for control\n",
    "control_labels = np.full(shape=len(control_scans), fill_value=0)\n",
    "dementia_labels = np.full(shape=len(dementia_scans), fill_value=1)"
   ]
  },
  {
   "cell_type": "code",
   "execution_count": null,
   "id": "456cbf12-da33-4a96-b3b2-5d2db9229a31",
   "metadata": {},
   "outputs": [],
   "source": []
  }
 ],
 "metadata": {
  "kernelspec": {
   "display_name": "Python 3.8 (polygence)",
   "language": "python",
   "name": "polygence"
  },
  "language_info": {
   "codemirror_mode": {
    "name": "ipython",
    "version": 3
   },
   "file_extension": ".py",
   "mimetype": "text/x-python",
   "name": "python",
   "nbconvert_exporter": "python",
   "pygments_lexer": "ipython3",
   "version": "3.8.10"
  }
 },
 "nbformat": 4,
 "nbformat_minor": 5
}
