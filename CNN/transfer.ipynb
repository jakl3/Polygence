{
 "cells": [
  {
   "cell_type": "markdown",
   "metadata": {
    "id": "8d3RH_mti6zR"
   },
   "source": [
    "# CNN using Tensorflow Keras on MRI Image Data"
   ]
  },
  {
   "cell_type": "markdown",
   "metadata": {
    "id": "v2QofnyQNZ3v"
   },
   "source": [
    "## Data Use Agreements\n",
    "The data used for this project were provided in part by OASIS and ADNI.\n",
    "\n",
    "OASIS-3: Principal Investigators: T. Benzinger, D. Marcus, J. Morris; NIH P50 AG00561, P30 NS09857781, P01 AG026276, P01 AG003991, R01 AG043434, UL1 TR000448, R01 EB009352. AV-45 doses were provided by Avid Radiopharmaceuticals, a wholly owned subsidiary of Eli Lilly.\n",
    "\n",
    "Data collection for this project was done through the Alzheimer's Disease Neuroimaging Initiative (ADNI) (National Institutes of Health Grant U01 AG024904) and DOD ADNI (Department of Defense award number W81XWH-12-2-0012). ADNI is funded by the National Institute on Aging, the National Institute of Biomedical Imaging and Bioengineering, and through generous contributions from the following: AbbVie, Alzheimer’s Association; Alzheimer’s Drug Discovery Foundation; Araclon Biotech; BioClinica, Inc.; Biogen; Bristol-Myers Squibb Company; CereSpir, Inc.; Cogstate; Eisai Inc.; Elan Pharmaceuticals, Inc.; Eli Lilly and Company; EuroImmun; F. Hoffmann-La Roche Ltd and its affiliated company Genentech, Inc.; Fujirebio; GE Healthcare; IXICO Ltd.; Janssen Alzheimer Immunotherapy Research & Development, LLC.; Johnson & Johnson Pharmaceutical Research & Development LLC.; Lumosity; Lundbeck; Merck & Co., Inc.; Meso Scale Diagnostics, LLC.; NeuroRx Research; Neurotrack Technologies; Novartis Pharmaceuticals Corporation; Pfizer Inc.; Piramal Imaging; Servier; Takeda Pharmaceutical Company; and Transition Therapeutics. The Canadian Institutes of Health Research is providing funds to support ADNI clinical sites in Canada. Private sector contributions are facilitated by the Foundation for the National Institutes of Health (www.fnih.org). The grantee organization is the Northern California Institute for Research and Education, and the study is coordinated by the Alzheimer’s Therapeutic Research Institute at the University of Southern California. ADNI data are disseminated by the Laboratory for Neuro Imaging at the University of Southern California."
   ]
  },
  {
   "cell_type": "markdown",
   "metadata": {
    "id": "9exLxeLrQOZ1"
   },
   "source": [
    "## Setup"
   ]
  },
  {
   "cell_type": "markdown",
   "metadata": {
    "id": "DtDJK9FTlVLu"
   },
   "source": [
    "### Imports"
   ]
  },
  {
   "cell_type": "code",
   "execution_count": 4,
   "metadata": {
    "id": "KR3Pz-JAlf3s"
   },
   "outputs": [],
   "source": [
    "import nibabel.freesurfer.mghformat as mgh\n",
    "\n",
    "from tqdm.notebook import tqdm\n",
    "\n",
    "import os, sys, shutil\n",
    "\n",
    "import matplotlib.pyplot as plt\n",
    "import seaborn as sns\n",
    "import numpy as np\n",
    "import pandas as pd\n",
    "pd.set_option('display.max_colwidth', None)"
   ]
  },
  {
   "cell_type": "markdown",
   "metadata": {
    "id": "DbR33L6Slg6F"
   },
   "source": [
    "### Set up and test Tensorflow"
   ]
  },
  {
   "cell_type": "code",
   "execution_count": 5,
   "metadata": {
    "id": "HHynMbRKljvO"
   },
   "outputs": [],
   "source": [
    "import tensorflow as tf\n",
    "from tensorflow.keras import layers"
   ]
  },
  {
   "cell_type": "code",
   "execution_count": 6,
   "metadata": {
    "colab": {
     "base_uri": "https://localhost:8080/"
    },
    "id": "yqDXV03ilrpa",
    "outputId": "bf9e6536-c051-4f67-fe80-3b460762199d"
   },
   "outputs": [
    {
     "name": "stdout",
     "output_type": "stream",
     "text": [
      "Tensor Flow Version: 2.5.0\n",
      "Keras Version: 2.5.0\n",
      "\n",
      "Python 3.8.10 (default, Jun  4 2021, 15:09:15) \n",
      "[GCC 7.5.0]\n",
      "Pandas 1.3.0\n",
      "\n",
      "Found GPU at: /device:GPU:0\n"
     ]
    }
   ],
   "source": [
    "print(f\"Tensor Flow Version: {tf.__version__}\")\n",
    "print(f\"Keras Version: {tf.keras.__version__}\")\n",
    "print()\n",
    "print(f\"Python {sys.version}\")\n",
    "print(f\"Pandas {pd.__version__}\")\n",
    "print()\n",
    "device_name = tf.test.gpu_device_name()\n",
    "if not device_name:\n",
    "    raise SystemError('GPU device not found')\n",
    "print('Found GPU at: {}'.format(device_name))"
   ]
  },
  {
   "cell_type": "markdown",
   "metadata": {
    "id": "Tjj3R6y7mhg9"
   },
   "source": [
    "## Load data"
   ]
  },
  {
   "cell_type": "markdown",
   "metadata": {
    "id": "_FroD3sTmnVl"
   },
   "source": [
    "### MRI scans\n",
    "Since all the files are already transformed via the freesurfer, I don't think we'll need to do any major preprocessing like cropping, flipping, or rotating.\n",
    "```\n",
    "main_directory/\n",
    "    control/\n",
    "        mr_id_001/\n",
    "            brain_image_001.mgz\n",
    "            brain_image_001_transformed.mgz\n",
    "            talairach_001.xfm\n",
    "        mr_id_002/\n",
    "            brain_image_002.mgz\n",
    "            brain_image_002_transformed.mgz\n",
    "            talairach_002.xfm\n",
    "    dementia/\n",
    "        mr_id_003/\n",
    "            brain_image_003.mgz\n",
    "            brain_image_003_transformed.mgz\n",
    "            talairach_003.xfm\n",
    "        mr_id_004/\n",
    "            brain_image_004.mgz\n",
    "            brain_image_004_transformed.mgz\n",
    "            talairach_004.xfm\n",
    "```"
   ]
  },
  {
   "cell_type": "markdown",
   "metadata": {
    "id": "PIWLffmdmo4L"
   },
   "source": [
    "#### Define some flags for general use"
   ]
  },
  {
   "cell_type": "code",
   "execution_count": null,
   "metadata": {
    "id": "Bx_SBhGWmtd_"
   },
   "outputs": [],
   "source": [
    "# This class allows you to access dictionary items with a dot\n",
    "# Gathered from here: https://stackoverflow.com/questions/2352181/how-to-use-a-dot-to-access-members-of-dictionary\n",
    "class dotdict(dict):\n",
    "    \"\"\"dot.notation access to dictionary attributes\"\"\"\n",
    "    __getattr__ = dict.get\n",
    "    __setattr__ = dict.__setitem__\n",
    "    __delattr__ = dict.__delitem__"
   ]
  },
  {
   "cell_type": "code",
   "execution_count": null,
   "metadata": {
    "colab": {
     "base_uri": "https://localhost:8080/"
    },
    "id": "Kso_fhgNmu3M",
    "outputId": "5212e3dc-696d-4ca0-cbb7-05f5611dcbe0"
   },
   "outputs": [],
   "source": [
    "FLAGS = {\n",
    "    'rescale_fac' : .5,\n",
    "    'scan_width'  : None,\n",
    "    'scan_height' : None,\n",
    "    'scan_depth'  : None,\n",
    "    # 'data_dir'    : '/content/drive/MyDrive/Extracurriculars/Summer_2021/Polygence/Data/OASIS/mri_data',  # use this if mounting on drive\n",
    "    'data_dir'    : '/home/jack/Code/GitHub/Polygence/Data/OASIS/mri_data',  # use this if on jupyter\n",
    "    'batch_size'  : 8,\n",
    "    'random_state': 47,\n",
    "    'epochs'      : 1\n",
    "}\n",
    "FLAGS = dotdict(FLAGS)\n",
    "print(FLAGS)"
   ]
  },
  {
   "cell_type": "markdown",
   "metadata": {
    "id": "FqImFV3Wm3nR"
   },
   "source": [
    "#### Generate the filenames\n",
    "The returned filenames list will be organized as follows:\n",
    "```\n",
    "[[path_to_scan_1, label_for_scan_1],\n",
    " [path_to_scan_2, label_for_scan_2],\n",
    " [path_to_scan_3, label_for_scan_3],\n",
    " ...\n",
    " [path_to_scan_n, label_for_scan_n]]\n",
    "\n",
    "```"
   ]
  },
  {
   "cell_type": "code",
   "execution_count": null,
   "metadata": {
    "colab": {
     "base_uri": "https://localhost:8080/",
     "height": 81,
     "referenced_widgets": [
      "52577ee5657b455e8628a16f0c71d6a1",
      "2ffabebb96044d36b0be61248eac5ae9",
      "64cd4fa2aeb54006869f5d91a7144dc7",
      "20b5a0f610324ee0b70df09e4340c1f4",
      "822621a35b8e4ceab75b355b2ce1e64c",
      "364cf4028c264ff285637a2a224e325b",
      "097ee826fe734760965445f6500aec71",
      "b501e1e6d14749ce8f74c754f3ee1630",
      "44270b4ab95c4715bb446f3f5cedeb78",
      "acca157fff6e48f2858d6b913d54e30a",
      "2b564fc955c8496889c343287954bdef",
      "752d75c034604c50bc120807913abf25",
      "e4f1e3c60ded465d8f079f7347d9af59",
      "c90a7c3af57149af88bf346161ce7610",
      "9d881853d8b14b1890d53fb1e30d9fbc",
      "d98f36333add46be8146eeef8f029356",
      "3a4d03864ee142c0be556ba56f478022",
      "13807e957b1f4682a1801596937e6bf2",
      "91d984dc6dc3454eb1be0c358b099004",
      "b0627e5114974e72ada5f25386b39081",
      "05ac634b547242e6810d45c1e5fa6966",
      "f4aeb1038f5f46979653c1dadf725e9b"
     ]
    },
    "id": "WikXy9BEm5VW",
    "outputId": "3bcfbacb-04d4-4d81-e464-b9ee1182e686"
   },
   "outputs": [],
   "source": [
    "def generate_filenames(labels=['control', 'dementia']):\n",
    "    pairs = []\n",
    "    \n",
    "    for label in labels:\n",
    "        label_dir = os.path.join(FLAGS.data_dir, label)\n",
    "        mr_ids = os.listdir(label_dir)\n",
    "        mr_ids.sort()\n",
    "        \n",
    "        for mr_id in tqdm(mr_ids, desc=label):\n",
    "            scans = os.path.join(label_dir, mr_id)\n",
    "            img_file = [file for file in os.listdir(scans) if \"transformed\" in file]\n",
    "            img_path = os.path.join(scans, img_file[0])\n",
    "            i = 1 if label == 'dementia' else 0\n",
    "            pairs.append([img_path, i])\n",
    "    \n",
    "    m = len(pairs)\n",
    "    filenames = []\n",
    "    labels = np.zeros((m, 1), dtype='int32')\n",
    "    \n",
    "    idx = 0\n",
    "    for filename, label in pairs:\n",
    "        filenames.append(filename)\n",
    "        labels[idx, 0] = label\n",
    "        idx += 1\n",
    "    \n",
    "    filenames = np.array(filenames)\n",
    "    return filenames, labels\n",
    "        \n",
    "\n",
    "X_filenames, y_labels = generate_filenames()"
   ]
  },
  {
   "cell_type": "markdown",
   "metadata": {
    "id": "kZv4-6Jbm6VE"
   },
   "source": [
    "### Split into training and validation set"
   ]
  },
  {
   "cell_type": "code",
   "execution_count": null,
   "metadata": {
    "id": "wmuzL-TznPUu"
   },
   "outputs": [],
   "source": [
    "from sklearn.model_selection import train_test_split"
   ]
  },
  {
   "cell_type": "code",
   "execution_count": null,
   "metadata": {
    "id": "3sCaZqCpnQzS"
   },
   "outputs": [],
   "source": [
    "X_train_filenames, X_val_filenames, y_train, y_val = train_test_split(\n",
    "    X_filenames, y_labels, test_size=.2, random_state=FLAGS.random_state, shuffle=True)"
   ]
  },
  {
   "cell_type": "code",
   "execution_count": null,
   "metadata": {
    "colab": {
     "base_uri": "https://localhost:8080/"
    },
    "id": "2tIZKYRjnR0l",
    "outputId": "ac606e19-2c78-473c-c788-7404e8881c68"
   },
   "outputs": [],
   "source": [
    "print(X_train_filenames.shape, y_train.shape)\n",
    "print(X_val_filenames.shape, y_val.shape)"
   ]
  },
  {
   "cell_type": "code",
   "execution_count": null,
   "metadata": {},
   "outputs": [],
   "source": [
    "print(X_train_filenames[:5])\n",
    "print(y_train[:5])"
   ]
  },
  {
   "cell_type": "code",
   "execution_count": null,
   "metadata": {},
   "outputs": [],
   "source": [
    "print(X_val_filenames[:5])\n",
    "print(y_val[:5])"
   ]
  },
  {
   "cell_type": "markdown",
   "metadata": {},
   "source": [
    "#### Check to see if its a relatively even split between classes between train and test sets"
   ]
  },
  {
   "cell_type": "code",
   "execution_count": null,
   "metadata": {},
   "outputs": [],
   "source": [
    "(unique, counts) = np.unique(y_labels, return_counts=True)\n",
    "frequencies = np.asarray((unique, counts)).T\n",
    "print(frequencies)\n",
    "print(f'{frequencies[0,1]/(np.sum(frequencies[:,1]))*100:.2f}% of the data is control')"
   ]
  },
  {
   "cell_type": "code",
   "execution_count": null,
   "metadata": {
    "tags": []
   },
   "outputs": [],
   "source": [
    "(unique, counts) = np.unique(y_train, return_counts=True)\n",
    "frequencies = np.asarray((unique, counts)).T\n",
    "print(frequencies)\n",
    "print(f'{frequencies[0,1]/(np.sum(frequencies[:,1]))*100:.2f}% of the data is control')"
   ]
  },
  {
   "cell_type": "code",
   "execution_count": null,
   "metadata": {},
   "outputs": [],
   "source": [
    "(unique, counts) = np.unique(y_val, return_counts=True)\n",
    "frequencies = np.asarray((unique, counts)).T\n",
    "print(frequencies)\n",
    "print(f'{frequencies[0,1]/(np.sum(frequencies[:,1]))*100:.2f}% of the data is control')"
   ]
  },
  {
   "cell_type": "markdown",
   "metadata": {
    "id": "MemeFHKqnXUM"
   },
   "source": [
    "### Create a custom generator\n",
    "Since the data is too large to fit it all into memory, we will have to read it in batches."
   ]
  },
  {
   "cell_type": "code",
   "execution_count": null,
   "metadata": {
    "id": "PXc0XGMdsHvi"
   },
   "outputs": [],
   "source": [
    "from skimage.transform import rescale"
   ]
  },
  {
   "cell_type": "code",
   "execution_count": null,
   "metadata": {
    "id": "Cm-9INTHnZoK"
   },
   "outputs": [],
   "source": [
    "class MRI_Data_Generator(tf.keras.utils.Sequence):\n",
    "    \"\"\"\n",
    "    A data generator that reads MRI data in batches, and returns their image data\n",
    "    \"\"\"\n",
    "    \n",
    "    def __init__(self, filenames, labels, batch_size):\n",
    "        \"\"\"\n",
    "        Intializes the generator\n",
    "        :param filenames: list containing the path to each MRI scan file, should be np.ndarray\n",
    "        :param labels: labels associated with the scans in filenames (control, dementia), should be np.ndarray\n",
    "        :param batch_size: the size of the batch\n",
    "        \"\"\"\n",
    "        self.filenames = filenames\n",
    "        self.labels = labels\n",
    "        self.batch_size = batch_size\n",
    "        \n",
    "    def __len__(self):\n",
    "        \"\"\"\n",
    "        Calculate the number of batches that we are supposed to produce.\n",
    "        Returns a rounded-up integer of total number of filenames divided by batch size.\n",
    "        \"\"\"\n",
    "        return (np.ceil(len(self.filenames) / float(self.batch_size))).astype(np.int)\n",
    "        \n",
    "    def __getitem__(self, idx):\n",
    "        \"\"\"\n",
    "        Scan the data within that batch\n",
    "        :param idx: the index of the batch to be selected\n",
    "        \"\"\"\n",
    "        # Read in the items at that batch index\n",
    "        # Since these two arrays are np arrays, we don't have to worry about index_out_of_bounds\n",
    "        batch_X = self.filenames[idx*self.batch_size : (idx+1)*self.batch_size]\n",
    "        batch_y = self.labels[idx*self.batch_size : (idx+1)*self.batch_size]\n",
    "        \n",
    "        # Data preprocessing\n",
    "        def normalize(volume):\n",
    "            \"\"\" Normalize the volume, scaling it to [0, 1] instead of [0, 255] \"\"\"\n",
    "            min = 0.0\n",
    "            max = 255.0\n",
    "            volume[volume < min] = min\n",
    "            volume[volume > max] = max\n",
    "            volume = (volume - min) / (max - min)\n",
    "            volume = volume.astype(\"float32\")\n",
    "            return volume\n",
    "        \n",
    "        shapes = set()\n",
    "\n",
    "        def scale(volume):\n",
    "            \"\"\" Reduce the volume's dimensions and crop\"\"\"\n",
    "            volume = rescale(volume, FLAGS.rescale_fac)\n",
    "            width, height, depth = volume.shape\n",
    "            volume = volume[int(30/256 * width):int(220/256 * width), \n",
    "                        int(30/256 * height):int(220/256 * height), \n",
    "                        int(0/256 * depth):int(220/256 * depth)]\n",
    "            \n",
    "            FLAGS.scan_width, FLAGS.scan_height, FLAGS.scan_depth = volume.shape\n",
    "\n",
    "            shapes.add(volume.shape)\n",
    "            \n",
    "            return volume\n",
    "        \n",
    "        batch_X_data = []\n",
    "        for filename in batch_X:\n",
    "            MRI_orig = mgh.load(filename)\n",
    "            volume = MRI_orig.get_fdata()\n",
    "            volume = normalize(volume)\n",
    "            volume = scale(volume)\n",
    "            batch_X_data.append(volume)\n",
    "        \n",
    "        np_res_X = np.array(batch_X_data)\n",
    "        np_res_y = np.array(batch_y)\n",
    "        \n",
    "        if len(shapes) > 1:\n",
    "            raise ValueError(f'There exists a non-standard shape: {shapes}')\n",
    "        \n",
    "        return np_res_X, np_res_y"
   ]
  },
  {
   "cell_type": "markdown",
   "metadata": {
    "id": "TQbHIny6nahO"
   },
   "source": [
    "### Test our data generator"
   ]
  },
  {
   "cell_type": "code",
   "execution_count": null,
   "metadata": {
    "id": "D_X2HVFtnct8"
   },
   "outputs": [],
   "source": [
    "test_gen = MRI_Data_Generator(X_train_filenames, y_train, 4)"
   ]
  },
  {
   "cell_type": "code",
   "execution_count": null,
   "metadata": {
    "colab": {
     "base_uri": "https://localhost:8080/"
    },
    "id": "RUzNoHdSnval",
    "outputId": "337ea91f-f1aa-4dea-a1d6-12a3b52c11e7"
   },
   "outputs": [],
   "source": [
    "batchx, batchy = test_gen.__getitem__(0)\n",
    "print(\">> Num of batches >> \", test_gen.__len__())  # ouputs 52, which is ceil(205 / 4), where 205 is size of validation set and 4 is batch size"
   ]
  },
  {
   "cell_type": "code",
   "execution_count": null,
   "metadata": {},
   "outputs": [],
   "source": [
    "print(FLAGS)"
   ]
  },
  {
   "cell_type": "code",
   "execution_count": null,
   "metadata": {
    "colab": {
     "base_uri": "https://localhost:8080/"
    },
    "id": "8yEKZGOOn1qo",
    "outputId": "a4317135-c864-4cfc-c78e-ebae6684d473"
   },
   "outputs": [],
   "source": [
    "print(batchx.shape, batchy.shape)\n",
    "print(batchy)"
   ]
  },
  {
   "cell_type": "markdown",
   "metadata": {
    "id": "OPKd__0oLBkc"
   },
   "source": [
    "#### Plot the generated test results"
   ]
  },
  {
   "cell_type": "code",
   "execution_count": null,
   "metadata": {
    "colab": {
     "base_uri": "https://localhost:8080/",
     "height": 716
    },
    "id": "frBKD-gvLqrv",
    "outputId": "c011adb7-9b59-45dc-c8de-e30c5ce5c7a3"
   },
   "outputs": [],
   "source": [
    "# Parameters for graph\n",
    "nrows = 3\n",
    "ncols = 4\n",
    "\n",
    "# Set up figure and plot it\n",
    "fig = plt.gcf()\n",
    "fig.set_size_inches(ncols * 4, nrows * 4)\n",
    "\n",
    "for i in range(4):\n",
    "    sp = plt.subplot(nrows, ncols, i + 1)\n",
    "#     sp.axis('Off') # Don't show axes (or gridlines)\n",
    "\n",
    "    img = batchx[i][FLAGS.scan_width//2,:,:]\n",
    "    plt.imshow(img)\n",
    "    plt.title(f'control_{i+1}' if batchy[i] == 0 else f'dementia_{i+1}')\n",
    "    \n",
    "    sp = plt.subplot(nrows, ncols, i + 1 + 4)\n",
    "#     sp.axis('Off') # Don't show axes (or gridlines)\n",
    "\n",
    "    img = batchx[i][:,FLAGS.scan_height//2,:]\n",
    "    plt.imshow(img)\n",
    "    plt.title(f'control_{i+1}' if batchy[i] == 0 else f'dementia_{i+1}')\n",
    "    \n",
    "    sp = plt.subplot(nrows, ncols, i + 1 + 4 + 4)\n",
    "    img = batchx[i][:,:,FLAGS.scan_depth//2]\n",
    "    plt.imshow(img)\n",
    "    plt.title(f'control_{i+1}' if batchy[i] == 0 else f'dementia_{i+1}')"
   ]
  },
  {
   "cell_type": "code",
   "execution_count": null,
   "metadata": {},
   "outputs": [],
   "source": [
    "print(batchx[0].shape)"
   ]
  },
  {
   "cell_type": "code",
   "execution_count": null,
   "metadata": {},
   "outputs": [],
   "source": [
    "print(FLAGS.scan_width, FLAGS.scan_height, FLAGS.scan_depth)"
   ]
  },
  {
   "cell_type": "code",
   "execution_count": null,
   "metadata": {},
   "outputs": [],
   "source": [
    "# delete them to save memory\n",
    "del batchx, batchy, test_gen"
   ]
  },
  {
   "cell_type": "code",
   "execution_count": null,
   "metadata": {},
   "outputs": [],
   "source": [
    "training_batch_generator = MRI_Data_Generator(X_train_filenames, y_train, FLAGS.batch_size)\n",
    "validation_batch_generator = MRI_Data_Generator(X_val_filenames, y_val, FLAGS.batch_size)"
   ]
  },
  {
   "cell_type": "markdown",
   "metadata": {},
   "source": [
    "## CNN"
   ]
  },
  {
   "cell_type": "code",
   "execution_count": null,
   "metadata": {},
   "outputs": [],
   "source": []
  },
  {
   "cell_type": "markdown",
   "metadata": {},
   "source": [
    "#### Useful metrics\n",
    "https://www.tensorflow.org/tutorials/structured_data/imbalanced_data#understanding_useful_metrics\n",
    "\n",
    "* False negatives and false positives are samples that were incorrectly classified\n",
    "* True negatives and true positives are samples that were correctly classified\n",
    "* Accuracy is the percentage of examples correctly classified\n",
    "* Precision is the percentage of predicted positives that were correctly classified\n",
    "* Recall is the percentage of actual positives that were correctly classified\n",
    "* AUC refers to the Area Under the Curve of a Receiver Operating Characteristic curve (ROC-* AUC). This metric is equal to the probability that a classifier will rank a random positive sample higher than a random negative sample.\n",
    "* AUPRC refers to Area Under the Curve of the Precision-Recall Curve. This metric computes precision-recall pairs for different probability thresholds."
   ]
  },
  {
   "cell_type": "code",
   "execution_count": null,
   "metadata": {},
   "outputs": [],
   "source": [
    "METRICS = [\n",
    "      tf.keras.metrics.TruePositives(name='tp'),\n",
    "      tf.keras.metrics.FalsePositives(name='fp'),\n",
    "      tf.keras.metrics.TrueNegatives(name='tn'),\n",
    "      tf.keras.metrics.FalseNegatives(name='fn'), \n",
    "      tf.keras.metrics.BinaryAccuracy(name='accuracy'),\n",
    "      tf.keras.metrics.Precision(name='precision'),\n",
    "      tf.keras.metrics.Recall(name='recall'),\n",
    "      tf.keras.metrics.AUC(name='auc'),\n",
    "      tf.keras.metrics.AUC(name='prc', curve='PR'), # precision-recall curve\n",
    "]"
   ]
  },
  {
   "cell_type": "code",
   "execution_count": null,
   "metadata": {},
   "outputs": [],
   "source": [
    "optimizer = tf.keras.optimizers.SGD(learning_rate=0.1, momentum=0.9)\n",
    "model.compile(\n",
    "  optimizer=\"adam\",\n",
    "  loss=tf.keras.losses.BinaryCrossentropy(),\n",
    "  metrics=METRICS)"
   ]
  },
  {
   "cell_type": "markdown",
   "metadata": {},
   "source": [
    "### Set up useful callbacks/things for training model"
   ]
  },
  {
   "cell_type": "markdown",
   "metadata": {},
   "source": [
    "#### Tensorboard"
   ]
  },
  {
   "cell_type": "code",
   "execution_count": null,
   "metadata": {},
   "outputs": [],
   "source": [
    "# Load the TensorBoard notebook extension\n",
    "%load_ext tensorboard\n",
    "\n",
    "# Clear any logs from previous runs\n",
    "!rm -rf ./logs/"
   ]
  },
  {
   "cell_type": "code",
   "execution_count": null,
   "metadata": {},
   "outputs": [],
   "source": [
    "from datetime import datetime\n",
    "logs = \"logs/\" + datetime.now().strftime(\"%Y%m%d-%H%M%S\")\n",
    "\n",
    "tensorboard_cb = tf.keras.callbacks.TensorBoard(log_dir = logs,\n",
    "                                                 histogram_freq = 1,\n",
    "                                                 profile_batch = '500,520')"
   ]
  },
  {
   "cell_type": "code",
   "execution_count": null,
   "metadata": {},
   "outputs": [],
   "source": [
    "%tensorboard --logdir=logs --port=8008"
   ]
  },
  {
   "cell_type": "markdown",
   "metadata": {},
   "source": [
    "#### Set up callbacks and learning rate scheduler to avoid overfitting/underfitting"
   ]
  },
  {
   "cell_type": "code",
   "execution_count": null,
   "metadata": {},
   "outputs": [],
   "source": [
    "!rm -rf ./checkpoints/\n",
    "filepath=\"checkpoints/model-epoch-{epoch:02d}-accuracy-{val_accuracy:.4f}-loss-{val_loss:.4f}.hdf5\"\n",
    "checkpoint_cb = tf.keras.callbacks.ModelCheckpoint(filepath, monitor='val_accuracy', verbose=1)"
   ]
  },
  {
   "cell_type": "markdown",
   "metadata": {},
   "source": [
    "#### Create class weights, since there are less dementia samples than there are control"
   ]
  },
  {
   "cell_type": "code",
   "execution_count": null,
   "metadata": {},
   "outputs": [],
   "source": [
    "(unique, counts) = np.unique(y_labels, return_counts=True)\n",
    "frequencies = np.asarray((unique, counts)).T\n",
    "print(frequencies)\n",
    "print(f'{frequencies[0,1]/(np.sum(frequencies[:,1]))*100:.2f}% of the data is control')"
   ]
  },
  {
   "cell_type": "code",
   "execution_count": null,
   "metadata": {},
   "outputs": [],
   "source": [
    "# 0 is control, 1 is dementia\n",
    "control_cnt = frequencies[0,1]\n",
    "dementia_cnt = frequencies[1,1]\n",
    "total_cnt = control_cnt + dementia_cnt\n",
    "print(control_cnt, dementia_cnt, total_cnt)"
   ]
  },
  {
   "cell_type": "code",
   "execution_count": null,
   "metadata": {},
   "outputs": [],
   "source": [
    "weight_for_0 = (1 / control_cnt) * (total_cnt / 2.0)\n",
    "weight_for_1 = (1 / dementia_cnt) * (total_cnt / 2.0)\n",
    "class_weight = {0: weight_for_0, 1: weight_for_1}\n",
    "print(class_weight)"
   ]
  },
  {
   "cell_type": "code",
   "execution_count": null,
   "metadata": {},
   "outputs": [],
   "source": [
    "history = model.fit(\n",
    "            training_batch_generator,\n",
    "            steps_per_epoch = int(X_train_filenames.shape[0] // FLAGS.batch_size),  # samples = batch_size * steps\n",
    "            epochs = FLAGS.epochs,\n",
    "            verbose = 1,\n",
    "            validation_data = validation_batch_generator,\n",
    "            validation_steps = int(X_val_filenames.shape[0] // FLAGS.batch_size),  # samples = batch_size * steps\n",
    "#             callbacks = [tensorboard_cb, checkpoint_cb, early_stopping_cb, lr_scheduler],\n",
    "            callbacks = [tensorboard_cb, checkpoint_cb, lr_scheduler],\n",
    "            class_weight = class_weight,\n",
    "            use_multiprocessing = True,\n",
    "            workers = 12,\n",
    "            max_queue_size = 48)"
   ]
  },
  {
   "cell_type": "markdown",
   "metadata": {},
   "source": [
    "### Evaluate the model"
   ]
  },
  {
   "cell_type": "markdown",
   "metadata": {},
   "source": [
    "#### Plot metrics"
   ]
  },
  {
   "cell_type": "code",
   "execution_count": null,
   "metadata": {},
   "outputs": [],
   "source": [
    "def plot_metrics(history):\n",
    "    \n",
    "    fig = plt.gcf()\n",
    "    fig.set_size_inches(20, 3 * 4)\n",
    "\n",
    "    metrics = ['auc','accuracy','loss', 'prc', 'precision', 'recall']\n",
    "    for n, metric in enumerate(metrics):\n",
    "        lims = {'loss': {0,2}}\n",
    "        name = metric.replace(\"_\",\" \").capitalize()\n",
    "        sp = plt.subplot(2, 3, n + 1)\n",
    "        plt.plot(history.epoch, history.history[metric], color='C0', label='Train')\n",
    "        plt.plot(history.epoch, history.history['val_'+metric],\n",
    "                 color='C1', linestyle=\"--\", label='Val')\n",
    "        plt.xlabel('Epoch')\n",
    "        plt.ylabel(name)\n",
    "        if metric in lims:\n",
    "            plt.ylim(lims[metric])\n",
    "\n",
    "        plt.legend()"
   ]
  },
  {
   "cell_type": "code",
   "execution_count": null,
   "metadata": {},
   "outputs": [],
   "source": [
    "plot_metrics(history)"
   ]
  },
  {
   "cell_type": "markdown",
   "metadata": {},
   "source": [
    "#### Save model"
   ]
  },
  {
   "cell_type": "code",
   "execution_count": null,
   "metadata": {},
   "outputs": [],
   "source": [
    "# Clear any models from previous runs\n",
    "!rm -rf ./saved_model/\n",
    "!mkdir -p saved_model\n",
    "model.save('saved_model/my_model')"
   ]
  },
  {
   "cell_type": "markdown",
   "metadata": {},
   "source": [
    "#### Confusion Matrix"
   ]
  },
  {
   "cell_type": "code",
   "execution_count": null,
   "metadata": {},
   "outputs": [],
   "source": [
    "raw_predictions = model.predict(\n",
    "    validation_batch_generator, verbose=1, max_queue_size=48,\n",
    "    workers=12, use_multiprocessing=True\n",
    ")"
   ]
  },
  {
   "cell_type": "code",
   "execution_count": null,
   "metadata": {},
   "outputs": [],
   "source": [
    "cm = tf.math.confusion_matrix(labels=y_val.T[0], predictions=raw_predictions.T[0])"
   ]
  },
  {
   "cell_type": "code",
   "execution_count": null,
   "metadata": {},
   "outputs": [],
   "source": [
    "sns.heatmap(cm, square=True, annot=True, fmt='d', cbar=False, cmap='Blues',\n",
    "            xticklabels=['Control', 'Dementia'],\n",
    "            yticklabels=['Control', 'Dementia'])\n",
    "plt.xlabel('predicted label')\n",
    "plt.ylabel('true label')\n",
    "plt.title('Confusion matrix for validation set')"
   ]
  }
 ],
 "metadata": {
  "accelerator": "GPU",
  "colab": {
   "collapsed_sections": [],
   "name": "CNN",
   "provenance": []
  },
  "kernelspec": {
   "display_name": "Python 3 (ipykernel)",
   "language": "python",
   "name": "python3"
  },
  "language_info": {
   "codemirror_mode": {
    "name": "ipython",
    "version": 3
   },
   "file_extension": ".py",
   "mimetype": "text/x-python",
   "name": "python",
   "nbconvert_exporter": "python",
   "pygments_lexer": "ipython3",
   "version": "3.8.10"
  },
  "widgets": {
   "application/vnd.jupyter.widget-state+json": {
    "05ac634b547242e6810d45c1e5fa6966": {
     "model_module": "@jupyter-widgets/base",
     "model_name": "LayoutModel",
     "state": {
      "_model_module": "@jupyter-widgets/base",
      "_model_module_version": "1.2.0",
      "_model_name": "LayoutModel",
      "_view_count": null,
      "_view_module": "@jupyter-widgets/base",
      "_view_module_version": "1.2.0",
      "_view_name": "LayoutView",
      "align_content": null,
      "align_items": null,
      "align_self": null,
      "border": null,
      "bottom": null,
      "display": null,
      "flex": null,
      "flex_flow": null,
      "grid_area": null,
      "grid_auto_columns": null,
      "grid_auto_flow": null,
      "grid_auto_rows": null,
      "grid_column": null,
      "grid_gap": null,
      "grid_row": null,
      "grid_template_areas": null,
      "grid_template_columns": null,
      "grid_template_rows": null,
      "height": null,
      "justify_content": null,
      "justify_items": null,
      "left": null,
      "margin": null,
      "max_height": null,
      "max_width": null,
      "min_height": null,
      "min_width": null,
      "object_fit": null,
      "object_position": null,
      "order": null,
      "overflow": null,
      "overflow_x": null,
      "overflow_y": null,
      "padding": null,
      "right": null,
      "top": null,
      "visibility": null,
      "width": null
     }
    },
    "097ee826fe734760965445f6500aec71": {
     "model_module": "@jupyter-widgets/controls",
     "model_name": "DescriptionStyleModel",
     "state": {
      "_model_module": "@jupyter-widgets/controls",
      "_model_module_version": "1.5.0",
      "_model_name": "DescriptionStyleModel",
      "_view_count": null,
      "_view_module": "@jupyter-widgets/base",
      "_view_module_version": "1.2.0",
      "_view_name": "StyleView",
      "description_width": ""
     }
    },
    "13807e957b1f4682a1801596937e6bf2": {
     "model_module": "@jupyter-widgets/controls",
     "model_name": "DescriptionStyleModel",
     "state": {
      "_model_module": "@jupyter-widgets/controls",
      "_model_module_version": "1.5.0",
      "_model_name": "DescriptionStyleModel",
      "_view_count": null,
      "_view_module": "@jupyter-widgets/base",
      "_view_module_version": "1.2.0",
      "_view_name": "StyleView",
      "description_width": ""
     }
    },
    "20b5a0f610324ee0b70df09e4340c1f4": {
     "model_module": "@jupyter-widgets/controls",
     "model_name": "HTMLModel",
     "state": {
      "_dom_classes": [],
      "_model_module": "@jupyter-widgets/controls",
      "_model_module_version": "1.5.0",
      "_model_name": "HTMLModel",
      "_view_count": null,
      "_view_module": "@jupyter-widgets/controls",
      "_view_module_version": "1.5.0",
      "_view_name": "HTMLView",
      "description": "",
      "description_tooltip": null,
      "layout": "IPY_MODEL_acca157fff6e48f2858d6b913d54e30a",
      "placeholder": "​",
      "style": "IPY_MODEL_2b564fc955c8496889c343287954bdef",
      "value": " 712/712 [00:00&lt;00:00, 40590.77it/s]"
     }
    },
    "2b564fc955c8496889c343287954bdef": {
     "model_module": "@jupyter-widgets/controls",
     "model_name": "DescriptionStyleModel",
     "state": {
      "_model_module": "@jupyter-widgets/controls",
      "_model_module_version": "1.5.0",
      "_model_name": "DescriptionStyleModel",
      "_view_count": null,
      "_view_module": "@jupyter-widgets/base",
      "_view_module_version": "1.2.0",
      "_view_name": "StyleView",
      "description_width": ""
     }
    },
    "2ffabebb96044d36b0be61248eac5ae9": {
     "model_module": "@jupyter-widgets/controls",
     "model_name": "HTMLModel",
     "state": {
      "_dom_classes": [],
      "_model_module": "@jupyter-widgets/controls",
      "_model_module_version": "1.5.0",
      "_model_name": "HTMLModel",
      "_view_count": null,
      "_view_module": "@jupyter-widgets/controls",
      "_view_module_version": "1.5.0",
      "_view_name": "HTMLView",
      "description": "",
      "description_tooltip": null,
      "layout": "IPY_MODEL_364cf4028c264ff285637a2a224e325b",
      "placeholder": "​",
      "style": "IPY_MODEL_097ee826fe734760965445f6500aec71",
      "value": "control: 100%"
     }
    },
    "364cf4028c264ff285637a2a224e325b": {
     "model_module": "@jupyter-widgets/base",
     "model_name": "LayoutModel",
     "state": {
      "_model_module": "@jupyter-widgets/base",
      "_model_module_version": "1.2.0",
      "_model_name": "LayoutModel",
      "_view_count": null,
      "_view_module": "@jupyter-widgets/base",
      "_view_module_version": "1.2.0",
      "_view_name": "LayoutView",
      "align_content": null,
      "align_items": null,
      "align_self": null,
      "border": null,
      "bottom": null,
      "display": null,
      "flex": null,
      "flex_flow": null,
      "grid_area": null,
      "grid_auto_columns": null,
      "grid_auto_flow": null,
      "grid_auto_rows": null,
      "grid_column": null,
      "grid_gap": null,
      "grid_row": null,
      "grid_template_areas": null,
      "grid_template_columns": null,
      "grid_template_rows": null,
      "height": null,
      "justify_content": null,
      "justify_items": null,
      "left": null,
      "margin": null,
      "max_height": null,
      "max_width": null,
      "min_height": null,
      "min_width": null,
      "object_fit": null,
      "object_position": null,
      "order": null,
      "overflow": null,
      "overflow_x": null,
      "overflow_y": null,
      "padding": null,
      "right": null,
      "top": null,
      "visibility": null,
      "width": null
     }
    },
    "3a4d03864ee142c0be556ba56f478022": {
     "model_module": "@jupyter-widgets/base",
     "model_name": "LayoutModel",
     "state": {
      "_model_module": "@jupyter-widgets/base",
      "_model_module_version": "1.2.0",
      "_model_name": "LayoutModel",
      "_view_count": null,
      "_view_module": "@jupyter-widgets/base",
      "_view_module_version": "1.2.0",
      "_view_name": "LayoutView",
      "align_content": null,
      "align_items": null,
      "align_self": null,
      "border": null,
      "bottom": null,
      "display": null,
      "flex": null,
      "flex_flow": null,
      "grid_area": null,
      "grid_auto_columns": null,
      "grid_auto_flow": null,
      "grid_auto_rows": null,
      "grid_column": null,
      "grid_gap": null,
      "grid_row": null,
      "grid_template_areas": null,
      "grid_template_columns": null,
      "grid_template_rows": null,
      "height": null,
      "justify_content": null,
      "justify_items": null,
      "left": null,
      "margin": null,
      "max_height": null,
      "max_width": null,
      "min_height": null,
      "min_width": null,
      "object_fit": null,
      "object_position": null,
      "order": null,
      "overflow": null,
      "overflow_x": null,
      "overflow_y": null,
      "padding": null,
      "right": null,
      "top": null,
      "visibility": null,
      "width": null
     }
    },
    "44270b4ab95c4715bb446f3f5cedeb78": {
     "model_module": "@jupyter-widgets/controls",
     "model_name": "ProgressStyleModel",
     "state": {
      "_model_module": "@jupyter-widgets/controls",
      "_model_module_version": "1.5.0",
      "_model_name": "ProgressStyleModel",
      "_view_count": null,
      "_view_module": "@jupyter-widgets/base",
      "_view_module_version": "1.2.0",
      "_view_name": "StyleView",
      "bar_color": null,
      "description_width": ""
     }
    },
    "52577ee5657b455e8628a16f0c71d6a1": {
     "model_module": "@jupyter-widgets/controls",
     "model_name": "HBoxModel",
     "state": {
      "_dom_classes": [],
      "_model_module": "@jupyter-widgets/controls",
      "_model_module_version": "1.5.0",
      "_model_name": "HBoxModel",
      "_view_count": null,
      "_view_module": "@jupyter-widgets/controls",
      "_view_module_version": "1.5.0",
      "_view_name": "HBoxView",
      "box_style": "",
      "children": [
       "IPY_MODEL_2ffabebb96044d36b0be61248eac5ae9",
       "IPY_MODEL_64cd4fa2aeb54006869f5d91a7144dc7",
       "IPY_MODEL_20b5a0f610324ee0b70df09e4340c1f4"
      ],
      "layout": "IPY_MODEL_822621a35b8e4ceab75b355b2ce1e64c"
     }
    },
    "64cd4fa2aeb54006869f5d91a7144dc7": {
     "model_module": "@jupyter-widgets/controls",
     "model_name": "FloatProgressModel",
     "state": {
      "_dom_classes": [],
      "_model_module": "@jupyter-widgets/controls",
      "_model_module_version": "1.5.0",
      "_model_name": "FloatProgressModel",
      "_view_count": null,
      "_view_module": "@jupyter-widgets/controls",
      "_view_module_version": "1.5.0",
      "_view_name": "ProgressView",
      "bar_style": "success",
      "description": "",
      "description_tooltip": null,
      "layout": "IPY_MODEL_b501e1e6d14749ce8f74c754f3ee1630",
      "max": 712,
      "min": 0,
      "orientation": "horizontal",
      "style": "IPY_MODEL_44270b4ab95c4715bb446f3f5cedeb78",
      "value": 712
     }
    },
    "752d75c034604c50bc120807913abf25": {
     "model_module": "@jupyter-widgets/controls",
     "model_name": "HBoxModel",
     "state": {
      "_dom_classes": [],
      "_model_module": "@jupyter-widgets/controls",
      "_model_module_version": "1.5.0",
      "_model_name": "HBoxModel",
      "_view_count": null,
      "_view_module": "@jupyter-widgets/controls",
      "_view_module_version": "1.5.0",
      "_view_name": "HBoxView",
      "box_style": "",
      "children": [
       "IPY_MODEL_e4f1e3c60ded465d8f079f7347d9af59",
       "IPY_MODEL_c90a7c3af57149af88bf346161ce7610",
       "IPY_MODEL_9d881853d8b14b1890d53fb1e30d9fbc"
      ],
      "layout": "IPY_MODEL_d98f36333add46be8146eeef8f029356"
     }
    },
    "822621a35b8e4ceab75b355b2ce1e64c": {
     "model_module": "@jupyter-widgets/base",
     "model_name": "LayoutModel",
     "state": {
      "_model_module": "@jupyter-widgets/base",
      "_model_module_version": "1.2.0",
      "_model_name": "LayoutModel",
      "_view_count": null,
      "_view_module": "@jupyter-widgets/base",
      "_view_module_version": "1.2.0",
      "_view_name": "LayoutView",
      "align_content": null,
      "align_items": null,
      "align_self": null,
      "border": null,
      "bottom": null,
      "display": null,
      "flex": null,
      "flex_flow": null,
      "grid_area": null,
      "grid_auto_columns": null,
      "grid_auto_flow": null,
      "grid_auto_rows": null,
      "grid_column": null,
      "grid_gap": null,
      "grid_row": null,
      "grid_template_areas": null,
      "grid_template_columns": null,
      "grid_template_rows": null,
      "height": null,
      "justify_content": null,
      "justify_items": null,
      "left": null,
      "margin": null,
      "max_height": null,
      "max_width": null,
      "min_height": null,
      "min_width": null,
      "object_fit": null,
      "object_position": null,
      "order": null,
      "overflow": null,
      "overflow_x": null,
      "overflow_y": null,
      "padding": null,
      "right": null,
      "top": null,
      "visibility": null,
      "width": null
     }
    },
    "91d984dc6dc3454eb1be0c358b099004": {
     "model_module": "@jupyter-widgets/base",
     "model_name": "LayoutModel",
     "state": {
      "_model_module": "@jupyter-widgets/base",
      "_model_module_version": "1.2.0",
      "_model_name": "LayoutModel",
      "_view_count": null,
      "_view_module": "@jupyter-widgets/base",
      "_view_module_version": "1.2.0",
      "_view_name": "LayoutView",
      "align_content": null,
      "align_items": null,
      "align_self": null,
      "border": null,
      "bottom": null,
      "display": null,
      "flex": null,
      "flex_flow": null,
      "grid_area": null,
      "grid_auto_columns": null,
      "grid_auto_flow": null,
      "grid_auto_rows": null,
      "grid_column": null,
      "grid_gap": null,
      "grid_row": null,
      "grid_template_areas": null,
      "grid_template_columns": null,
      "grid_template_rows": null,
      "height": null,
      "justify_content": null,
      "justify_items": null,
      "left": null,
      "margin": null,
      "max_height": null,
      "max_width": null,
      "min_height": null,
      "min_width": null,
      "object_fit": null,
      "object_position": null,
      "order": null,
      "overflow": null,
      "overflow_x": null,
      "overflow_y": null,
      "padding": null,
      "right": null,
      "top": null,
      "visibility": null,
      "width": null
     }
    },
    "9d881853d8b14b1890d53fb1e30d9fbc": {
     "model_module": "@jupyter-widgets/controls",
     "model_name": "HTMLModel",
     "state": {
      "_dom_classes": [],
      "_model_module": "@jupyter-widgets/controls",
      "_model_module_version": "1.5.0",
      "_model_name": "HTMLModel",
      "_view_count": null,
      "_view_module": "@jupyter-widgets/controls",
      "_view_module_version": "1.5.0",
      "_view_name": "HTMLView",
      "description": "",
      "description_tooltip": null,
      "layout": "IPY_MODEL_05ac634b547242e6810d45c1e5fa6966",
      "placeholder": "​",
      "style": "IPY_MODEL_f4aeb1038f5f46979653c1dadf725e9b",
      "value": " 310/310 [00:00&lt;00:00, 22668.36it/s]"
     }
    },
    "acca157fff6e48f2858d6b913d54e30a": {
     "model_module": "@jupyter-widgets/base",
     "model_name": "LayoutModel",
     "state": {
      "_model_module": "@jupyter-widgets/base",
      "_model_module_version": "1.2.0",
      "_model_name": "LayoutModel",
      "_view_count": null,
      "_view_module": "@jupyter-widgets/base",
      "_view_module_version": "1.2.0",
      "_view_name": "LayoutView",
      "align_content": null,
      "align_items": null,
      "align_self": null,
      "border": null,
      "bottom": null,
      "display": null,
      "flex": null,
      "flex_flow": null,
      "grid_area": null,
      "grid_auto_columns": null,
      "grid_auto_flow": null,
      "grid_auto_rows": null,
      "grid_column": null,
      "grid_gap": null,
      "grid_row": null,
      "grid_template_areas": null,
      "grid_template_columns": null,
      "grid_template_rows": null,
      "height": null,
      "justify_content": null,
      "justify_items": null,
      "left": null,
      "margin": null,
      "max_height": null,
      "max_width": null,
      "min_height": null,
      "min_width": null,
      "object_fit": null,
      "object_position": null,
      "order": null,
      "overflow": null,
      "overflow_x": null,
      "overflow_y": null,
      "padding": null,
      "right": null,
      "top": null,
      "visibility": null,
      "width": null
     }
    },
    "b0627e5114974e72ada5f25386b39081": {
     "model_module": "@jupyter-widgets/controls",
     "model_name": "ProgressStyleModel",
     "state": {
      "_model_module": "@jupyter-widgets/controls",
      "_model_module_version": "1.5.0",
      "_model_name": "ProgressStyleModel",
      "_view_count": null,
      "_view_module": "@jupyter-widgets/base",
      "_view_module_version": "1.2.0",
      "_view_name": "StyleView",
      "bar_color": null,
      "description_width": ""
     }
    },
    "b501e1e6d14749ce8f74c754f3ee1630": {
     "model_module": "@jupyter-widgets/base",
     "model_name": "LayoutModel",
     "state": {
      "_model_module": "@jupyter-widgets/base",
      "_model_module_version": "1.2.0",
      "_model_name": "LayoutModel",
      "_view_count": null,
      "_view_module": "@jupyter-widgets/base",
      "_view_module_version": "1.2.0",
      "_view_name": "LayoutView",
      "align_content": null,
      "align_items": null,
      "align_self": null,
      "border": null,
      "bottom": null,
      "display": null,
      "flex": null,
      "flex_flow": null,
      "grid_area": null,
      "grid_auto_columns": null,
      "grid_auto_flow": null,
      "grid_auto_rows": null,
      "grid_column": null,
      "grid_gap": null,
      "grid_row": null,
      "grid_template_areas": null,
      "grid_template_columns": null,
      "grid_template_rows": null,
      "height": null,
      "justify_content": null,
      "justify_items": null,
      "left": null,
      "margin": null,
      "max_height": null,
      "max_width": null,
      "min_height": null,
      "min_width": null,
      "object_fit": null,
      "object_position": null,
      "order": null,
      "overflow": null,
      "overflow_x": null,
      "overflow_y": null,
      "padding": null,
      "right": null,
      "top": null,
      "visibility": null,
      "width": null
     }
    },
    "c90a7c3af57149af88bf346161ce7610": {
     "model_module": "@jupyter-widgets/controls",
     "model_name": "FloatProgressModel",
     "state": {
      "_dom_classes": [],
      "_model_module": "@jupyter-widgets/controls",
      "_model_module_version": "1.5.0",
      "_model_name": "FloatProgressModel",
      "_view_count": null,
      "_view_module": "@jupyter-widgets/controls",
      "_view_module_version": "1.5.0",
      "_view_name": "ProgressView",
      "bar_style": "success",
      "description": "",
      "description_tooltip": null,
      "layout": "IPY_MODEL_91d984dc6dc3454eb1be0c358b099004",
      "max": 310,
      "min": 0,
      "orientation": "horizontal",
      "style": "IPY_MODEL_b0627e5114974e72ada5f25386b39081",
      "value": 310
     }
    },
    "d98f36333add46be8146eeef8f029356": {
     "model_module": "@jupyter-widgets/base",
     "model_name": "LayoutModel",
     "state": {
      "_model_module": "@jupyter-widgets/base",
      "_model_module_version": "1.2.0",
      "_model_name": "LayoutModel",
      "_view_count": null,
      "_view_module": "@jupyter-widgets/base",
      "_view_module_version": "1.2.0",
      "_view_name": "LayoutView",
      "align_content": null,
      "align_items": null,
      "align_self": null,
      "border": null,
      "bottom": null,
      "display": null,
      "flex": null,
      "flex_flow": null,
      "grid_area": null,
      "grid_auto_columns": null,
      "grid_auto_flow": null,
      "grid_auto_rows": null,
      "grid_column": null,
      "grid_gap": null,
      "grid_row": null,
      "grid_template_areas": null,
      "grid_template_columns": null,
      "grid_template_rows": null,
      "height": null,
      "justify_content": null,
      "justify_items": null,
      "left": null,
      "margin": null,
      "max_height": null,
      "max_width": null,
      "min_height": null,
      "min_width": null,
      "object_fit": null,
      "object_position": null,
      "order": null,
      "overflow": null,
      "overflow_x": null,
      "overflow_y": null,
      "padding": null,
      "right": null,
      "top": null,
      "visibility": null,
      "width": null
     }
    },
    "e4f1e3c60ded465d8f079f7347d9af59": {
     "model_module": "@jupyter-widgets/controls",
     "model_name": "HTMLModel",
     "state": {
      "_dom_classes": [],
      "_model_module": "@jupyter-widgets/controls",
      "_model_module_version": "1.5.0",
      "_model_name": "HTMLModel",
      "_view_count": null,
      "_view_module": "@jupyter-widgets/controls",
      "_view_module_version": "1.5.0",
      "_view_name": "HTMLView",
      "description": "",
      "description_tooltip": null,
      "layout": "IPY_MODEL_3a4d03864ee142c0be556ba56f478022",
      "placeholder": "​",
      "style": "IPY_MODEL_13807e957b1f4682a1801596937e6bf2",
      "value": "dementia: 100%"
     }
    },
    "f4aeb1038f5f46979653c1dadf725e9b": {
     "model_module": "@jupyter-widgets/controls",
     "model_name": "DescriptionStyleModel",
     "state": {
      "_model_module": "@jupyter-widgets/controls",
      "_model_module_version": "1.5.0",
      "_model_name": "DescriptionStyleModel",
      "_view_count": null,
      "_view_module": "@jupyter-widgets/base",
      "_view_module_version": "1.2.0",
      "_view_name": "StyleView",
      "description_width": ""
     }
    }
   }
  }
 },
 "nbformat": 4,
 "nbformat_minor": 4
}
