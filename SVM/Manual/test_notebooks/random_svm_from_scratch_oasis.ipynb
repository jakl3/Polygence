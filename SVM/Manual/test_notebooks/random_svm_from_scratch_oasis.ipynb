{
 "cells": [
  {
   "cell_type": "code",
   "execution_count": 1,
   "id": "6c3acd1f-c19d-4889-ae5d-bd9aa578f96f",
   "metadata": {},
   "outputs": [],
   "source": [
    "import pandas as pd\n",
    "import numpy as np\n",
    "import seaborn as sns\n",
    "import matplotlib.pyplot as plt\n",
    "from sklearn.model_selection import train_test_split"
   ]
  },
  {
   "cell_type": "code",
   "execution_count": 2,
   "id": "b6594a75-f47c-418c-a58d-3d8f73cea856",
   "metadata": {},
   "outputs": [
    {
     "name": "stdout",
     "output_type": "stream",
     "text": [
      "['control' 'dementia']\n",
      "[-1 1]\n"
     ]
    }
   ],
   "source": [
    "df = pd.read_csv('../../Visualization/OASIS/oasis_3.csv')\n",
    "df = df.dropna(axis=1, how='all') # Drop any empty columns\n",
    "df = df.dropna(axis=0, how='any') # Drop any rows with empty values \n",
    "df = df.rename(columns={'id':'Freesurfer ID', 'dx1':'Diagnosis', \n",
    "                        'TOTAL_HIPPOCAMPUS_VOLUME':'TotalHippocampusVol'}) # Rename columns\n",
    "df = df.drop_duplicates(subset='Subject', keep='first') # Keep only the first visit; this is possible because\n",
    "                                                        # df is sorted by age\n",
    "df = df.reset_index(drop=True) # Reset the index\n",
    "df = df.set_index('Subject')\n",
    "cols = df.columns.tolist()\n",
    "cols[2], cols[4] = cols[4], cols[2]\n",
    "df = df[cols]\n",
    "df.loc[df['cdr'] < 0.5, 'Diagnosis'] = 'control'\n",
    "df.loc[~(df['cdr'] < 0.5), 'Diagnosis'] = 'dementia'\n",
    "print(df['Diagnosis'].unique())\n",
    "df.loc[df['Diagnosis'] == 'control', 'Diagnosis'] = -1\n",
    "df.loc[df['Diagnosis'] == 'dementia', 'Diagnosis'] = 1\n",
    "print(df['Diagnosis'].unique())\n",
    "df = df.drop(['MR ID', 'Freesurfer ID', 'M/F', 'cdr'], axis=1) # Drop categorical and redundant columns\n",
    "df = df.drop(['lhCortexVol', 'rhCortexVol', 'lhCorticalWhiteMatterVol', 'rhCorticalWhiteMatterVol', 'L.SurfArea', 'R.SurfArea'], axis=1) # Test drop to reduce dimensionality"
   ]
  },
  {
   "cell_type": "code",
   "execution_count": 3,
   "id": "9431db36-98c9-406d-9e24-12c9eaab607f",
   "metadata": {},
   "outputs": [
    {
     "data": {
      "text/html": [
       "<div>\n",
       "<style scoped>\n",
       "    .dataframe tbody tr th:only-of-type {\n",
       "        vertical-align: middle;\n",
       "    }\n",
       "\n",
       "    .dataframe tbody tr th {\n",
       "        vertical-align: top;\n",
       "    }\n",
       "\n",
       "    .dataframe thead th {\n",
       "        text-align: right;\n",
       "    }\n",
       "</style>\n",
       "<table border=\"1\" class=\"dataframe\">\n",
       "  <thead>\n",
       "    <tr style=\"text-align: right;\">\n",
       "      <th></th>\n",
       "      <th>Diagnosis</th>\n",
       "      <th>Age</th>\n",
       "      <th>mmse</th>\n",
       "      <th>apoe</th>\n",
       "      <th>TotalHippocampusVol</th>\n",
       "      <th>IntraCranialVol</th>\n",
       "      <th>CortexVol</th>\n",
       "      <th>SubCortGrayVol</th>\n",
       "      <th>TotalGrayVol</th>\n",
       "      <th>SupraTentorialVol</th>\n",
       "      <th>CorticalWhiteMatterVol</th>\n",
       "    </tr>\n",
       "    <tr>\n",
       "      <th>Subject</th>\n",
       "      <th></th>\n",
       "      <th></th>\n",
       "      <th></th>\n",
       "      <th></th>\n",
       "      <th></th>\n",
       "      <th></th>\n",
       "      <th></th>\n",
       "      <th></th>\n",
       "      <th></th>\n",
       "      <th></th>\n",
       "      <th></th>\n",
       "    </tr>\n",
       "  </thead>\n",
       "  <tbody>\n",
       "    <tr>\n",
       "      <th>OAS30264</th>\n",
       "      <td>-1</td>\n",
       "      <td>66.0</td>\n",
       "      <td>30.0</td>\n",
       "      <td>24.0</td>\n",
       "      <td>7524.2</td>\n",
       "      <td>1.369713e+06</td>\n",
       "      <td>386491.889476</td>\n",
       "      <td>50559.0</td>\n",
       "      <td>497518.889476</td>\n",
       "      <td>843083.913810</td>\n",
       "      <td>383959.024334</td>\n",
       "    </tr>\n",
       "    <tr>\n",
       "      <th>OAS30416</th>\n",
       "      <td>1</td>\n",
       "      <td>79.0</td>\n",
       "      <td>23.0</td>\n",
       "      <td>23.0</td>\n",
       "      <td>4982.4</td>\n",
       "      <td>1.518609e+06</td>\n",
       "      <td>364092.766767</td>\n",
       "      <td>45652.0</td>\n",
       "      <td>496816.766767</td>\n",
       "      <td>894365.508354</td>\n",
       "      <td>438637.741587</td>\n",
       "    </tr>\n",
       "    <tr>\n",
       "      <th>OAS30346</th>\n",
       "      <td>-1</td>\n",
       "      <td>72.0</td>\n",
       "      <td>26.0</td>\n",
       "      <td>33.0</td>\n",
       "      <td>6006.4</td>\n",
       "      <td>1.259386e+06</td>\n",
       "      <td>331199.873892</td>\n",
       "      <td>44375.0</td>\n",
       "      <td>451399.873892</td>\n",
       "      <td>761318.186154</td>\n",
       "      <td>358356.312262</td>\n",
       "    </tr>\n",
       "    <tr>\n",
       "      <th>OAS30352</th>\n",
       "      <td>-1</td>\n",
       "      <td>95.0</td>\n",
       "      <td>27.0</td>\n",
       "      <td>34.0</td>\n",
       "      <td>5468.1</td>\n",
       "      <td>1.281720e+06</td>\n",
       "      <td>296176.144841</td>\n",
       "      <td>39815.0</td>\n",
       "      <td>404453.144841</td>\n",
       "      <td>665607.892531</td>\n",
       "      <td>275448.747690</td>\n",
       "    </tr>\n",
       "    <tr>\n",
       "      <th>OAS30291</th>\n",
       "      <td>-1</td>\n",
       "      <td>71.0</td>\n",
       "      <td>27.0</td>\n",
       "      <td>33.0</td>\n",
       "      <td>6089.7</td>\n",
       "      <td>1.498484e+06</td>\n",
       "      <td>415080.513982</td>\n",
       "      <td>47818.0</td>\n",
       "      <td>547414.513982</td>\n",
       "      <td>954555.017988</td>\n",
       "      <td>411817.504006</td>\n",
       "    </tr>\n",
       "  </tbody>\n",
       "</table>\n",
       "</div>"
      ],
      "text/plain": [
       "         Diagnosis   Age  mmse  apoe  TotalHippocampusVol  IntraCranialVol  \\\n",
       "Subject                                                                      \n",
       "OAS30264        -1  66.0  30.0  24.0               7524.2     1.369713e+06   \n",
       "OAS30416         1  79.0  23.0  23.0               4982.4     1.518609e+06   \n",
       "OAS30346        -1  72.0  26.0  33.0               6006.4     1.259386e+06   \n",
       "OAS30352        -1  95.0  27.0  34.0               5468.1     1.281720e+06   \n",
       "OAS30291        -1  71.0  27.0  33.0               6089.7     1.498484e+06   \n",
       "\n",
       "              CortexVol  SubCortGrayVol   TotalGrayVol  SupraTentorialVol  \\\n",
       "Subject                                                                     \n",
       "OAS30264  386491.889476         50559.0  497518.889476      843083.913810   \n",
       "OAS30416  364092.766767         45652.0  496816.766767      894365.508354   \n",
       "OAS30346  331199.873892         44375.0  451399.873892      761318.186154   \n",
       "OAS30352  296176.144841         39815.0  404453.144841      665607.892531   \n",
       "OAS30291  415080.513982         47818.0  547414.513982      954555.017988   \n",
       "\n",
       "          CorticalWhiteMatterVol  \n",
       "Subject                           \n",
       "OAS30264           383959.024334  \n",
       "OAS30416           438637.741587  \n",
       "OAS30346           358356.312262  \n",
       "OAS30352           275448.747690  \n",
       "OAS30291           411817.504006  "
      ]
     },
     "execution_count": 3,
     "metadata": {},
     "output_type": "execute_result"
    }
   ],
   "source": [
    "df = df.sample(n=500)\n",
    "df.head()"
   ]
  },
  {
   "cell_type": "code",
   "execution_count": 4,
   "id": "2d28b938-7df9-4cdc-b6ad-8ae645998372",
   "metadata": {},
   "outputs": [],
   "source": [
    "class SVM_random:\n",
    "    \n",
    "    def fit(self, X, y):\n",
    "        self.w = np.random.normal(size=X.shape[1])\n",
    "        self.b = np.random.normal()\n",
    "        \n",
    "        \n",
    "    def predict(self, X):\n",
    "        print(X.shape)\n",
    "        value = np.dot(np.array(X), self.w) + self.b\n",
    "        #print(f\">>>> value {value.shape} >>> {value}\")\n",
    "        y = np.sign(value)\n",
    "        #print(f\">>>> y {y.shape} >>> {y}\")\n",
    "        return y"
   ]
  },
  {
   "cell_type": "code",
   "execution_count": 5,
   "id": "747cd463-0793-4a6f-a256-1ce14c0831dd",
   "metadata": {},
   "outputs": [],
   "source": [
    "X = df.drop(['Diagnosis'], axis=1)\n",
    "y = df['Diagnosis']\n",
    "X_train, X_test, y_train, y_test = train_test_split(X, y, test_size=0.5, random_state=0)"
   ]
  },
  {
   "cell_type": "code",
   "execution_count": 6,
   "id": "0ffe5eed-d6a9-463d-82f7-b88f039064bf",
   "metadata": {},
   "outputs": [],
   "source": [
    "# standard z score scaling\n",
    "def scale(X):\n",
    "    u = np.mean(X)\n",
    "    s = np.std(X)\n",
    "    X_scaled = (X-u)/s\n",
    "    return X_scaled"
   ]
  },
  {
   "cell_type": "code",
   "execution_count": 7,
   "id": "a5f9b353-6ab1-4029-b814-6184ad2ab1ff",
   "metadata": {},
   "outputs": [],
   "source": [
    "X_train = scale(X_train)\n",
    "X_test = scale(X_test)"
   ]
  },
  {
   "cell_type": "code",
   "execution_count": 8,
   "id": "341e5771-2381-4124-8606-f6b8e61f46aa",
   "metadata": {},
   "outputs": [
    {
     "name": "stdout",
     "output_type": "stream",
     "text": [
      "(250, 10)\n"
     ]
    }
   ],
   "source": [
    "model = SVM_random()\n",
    "model.fit(X_train, y_train)\n",
    "predictions = model.predict(X_test)"
   ]
  },
  {
   "cell_type": "code",
   "execution_count": 9,
   "id": "73cf8a28-54d0-4f7f-b606-ae0be985d56c",
   "metadata": {},
   "outputs": [
    {
     "data": {
      "image/png": "[encoded data removed]",
      "text/plain": [
       "<Figure size 432x288 with 1 Axes>"
      ]
     },
     "metadata": {
      "needs_background": "light"
     },
     "output_type": "display_data"
    }
   ],
   "source": [
    "# Predictions using random weights and bias\n",
    "plt.scatter(x = X_test['Age'].iloc[np.where(predictions==-1)], y = X_test['TotalHippocampusVol'].iloc[np.where(predictions==-1)], marker='+')\n",
    "plt.scatter(x = X_test['Age'].iloc[np.where(predictions==1)], y = X_test['TotalHippocampusVol'].iloc[np.where(predictions==1)], marker='+')\n",
    "plt.show()"
   ]
  },
  {
   "cell_type": "code",
   "execution_count": 10,
   "id": "79b458ac-a559-484f-bf5b-509d05ba9fc7",
   "metadata": {},
   "outputs": [
    {
     "data": {
      "image/png": "[encoded data removed]",
      "text/plain": [
       "<Figure size 432x288 with 1 Axes>"
      ]
     },
     "metadata": {
      "needs_background": "light"
     },
     "output_type": "display_data"
    }
   ],
   "source": [
    "# True value\n",
    "plt.scatter(x = X_test['Age'].iloc[np.where(y_test==-1)], y = X_test['TotalHippocampusVol'].iloc[np.where(y_test==-1)], marker='+', color='C0')\n",
    "plt.scatter(x = X_test['Age'].iloc[np.where(y_test==1)], y = X_test['TotalHippocampusVol'].iloc[np.where(y_test==1)], marker='+', color='C1')\n",
    "plt.show()"
   ]
  },
  {
   "cell_type": "code",
   "execution_count": 11,
   "id": "a555d6df-1cab-4190-aecb-a1bd87ba3024",
   "metadata": {},
   "outputs": [
    {
     "data": {
      "text/plain": [
       "<matplotlib.collections.PathCollection at 0x7f17481dbb20>"
      ]
     },
     "execution_count": 11,
     "metadata": {},
     "output_type": "execute_result"
    },
    {
     "data": {
      "image/png": "[encoded data removed]",
      "text/plain": [
       "<Figure size 432x288 with 1 Axes>"
      ]
     },
     "metadata": {
      "needs_background": "light"
     },
     "output_type": "display_data"
    }
   ],
   "source": [
    "plt.scatter(x = X_test['Age'].iloc[np.where(y_test==-1)], y = X_test['TotalHippocampusVol'].iloc[np.where(y_test==-1)], marker='|', color='C0')\n",
    "plt.scatter(x = X_test['Age'].iloc[np.where(y_test==1)], y = X_test['TotalHippocampusVol'].iloc[np.where(y_test==1)], marker='|', color='C1')\n",
    "\n",
    "plt.scatter(x = X_test['Age'].iloc[np.where(predictions==-1)], y = X_test['TotalHippocampusVol'].iloc[np.where(predictions==-1)], marker='_', color='C0')\n",
    "plt.scatter(x = X_test['Age'].iloc[np.where(predictions==1)], y = X_test['TotalHippocampusVol'].iloc[np.where(predictions==1)], marker='_', color='C1')"
   ]
  },
  {
   "cell_type": "code",
   "execution_count": 12,
   "id": "eec78fd4-35c3-49dc-9d25-d14bc111885d",
   "metadata": {},
   "outputs": [
    {
     "name": "stdout",
     "output_type": "stream",
     "text": [
      "126.0 (250,)\n"
     ]
    }
   ],
   "source": [
    "predictions = np.sum(predictions-y_test)\n",
    "print(predictions, y_test.shape)"
   ]
  }
 ],
 "metadata": {
  "kernelspec": {
   "display_name": "Python 3",
   "language": "python",
   "name": "python3"
  },
  "language_info": {
   "codemirror_mode": {
    "name": "ipython",
    "version": 3
   },
   "file_extension": ".py",
   "mimetype": "text/x-python",
   "name": "python",
   "nbconvert_exporter": "python",
   "pygments_lexer": "ipython3",
   "version": "3.8.8"
  }
 },
 "nbformat": 4,
 "nbformat_minor": 5
}
