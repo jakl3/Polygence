{
 "cells": [
  {
   "cell_type": "code",
   "execution_count": 1,
   "id": "f82e6f5b-8c4c-41c0-ac53-8741841e3427",
   "metadata": {},
   "outputs": [],
   "source": [
    "import numpy as np\n",
    "import matplotlib.pyplot as plt\n",
    "import pandas as pd\n",
    "import seaborn as sns\n",
    "from sklearn.model_selection import train_test_split\n",
    "from sklearn.metrics import confusion_matrix, classification_report\n",
    "from tqdm.notebook import tqdm\n",
    "import warnings\n",
    "warnings.filterwarnings('ignore')"
   ]
  },
  {
   "cell_type": "markdown",
   "id": "e0034bfb-9489-40f4-acb3-c1a8440cfcc7",
   "metadata": {},
   "source": [
    "## Data Preprocessing"
   ]
  },
  {
   "cell_type": "code",
   "execution_count": 2,
   "id": "c6ba578f-9c8e-478c-b5cb-f247fc2b08a3",
   "metadata": {},
   "outputs": [],
   "source": [
    "df = pd.read_csv('../../Visualization/OASIS/oasis_3.csv')\n",
    "df = df.dropna(axis=1, how='all') # Drop any empty columns\n",
    "df = df.dropna(axis=0, how='any') # Drop any rows with empty values \n",
    "df = df.rename(columns={'id':'Freesurfer ID', 'dx1':'Diagnosis', \n",
    "                        'TOTAL_HIPPOCAMPUS_VOLUME':'TotalHippocampusVol'}) # Rename columns\n",
    "df = df.drop_duplicates(subset='Subject', keep='first') # Keep only the first visit; this is possible because\n",
    "                                                        # df is sorted by age\n",
    "df = df.reset_index(drop=True) # Reset the index\n",
    "df = df.set_index('Subject')\n",
    "cols = df.columns.tolist()\n",
    "cols[2], cols[4] = cols[4], cols[2]\n",
    "df = df[cols]\n",
    "df.loc[df['cdr'] < 0.5, 'Diagnosis'] = 'control'\n",
    "df.loc[~(df['cdr'] < 0.5), 'Diagnosis'] = 'dementia'\n",
    "df.loc[df['Diagnosis'] == 'control', 'Diagnosis'] = -1\n",
    "df.loc[df['Diagnosis'] == 'dementia', 'Diagnosis'] = 1\n",
    "df = df.drop(['MR ID', 'Freesurfer ID', 'M/F', 'cdr', 'apoe'], axis=1) # Drop categorical and redundant columns\n",
    "df_drop_discrete = df.drop(['mmse'], axis=1)# Drop discrete variables\n",
    "#df = df.drop(['lhCortexVol', 'rhCortexVol', 'lhCorticalWhiteMatterVol', 'rhCorticalWhiteMatterVol', 'L.SurfArea', 'R.SurfArea'], axis=1) # Test drop to reduce dimensionality"
   ]
  },
  {
   "cell_type": "code",
   "execution_count": 3,
   "id": "1349bc6e-ea12-467f-bf76-9dabcfeaae24",
   "metadata": {},
   "outputs": [
    {
     "data": {
      "text/html": [
       "<div>\n",
       "<style scoped>\n",
       "    .dataframe tbody tr th:only-of-type {\n",
       "        vertical-align: middle;\n",
       "    }\n",
       "\n",
       "    .dataframe tbody tr th {\n",
       "        vertical-align: top;\n",
       "    }\n",
       "\n",
       "    .dataframe thead th {\n",
       "        text-align: right;\n",
       "    }\n",
       "</style>\n",
       "<table border=\"1\" class=\"dataframe\">\n",
       "  <thead>\n",
       "    <tr style=\"text-align: right;\">\n",
       "      <th></th>\n",
       "      <th>Diagnosis</th>\n",
       "      <th>Age</th>\n",
       "      <th>mmse</th>\n",
       "      <th>TotalHippocampusVol</th>\n",
       "      <th>IntraCranialVol</th>\n",
       "      <th>lhCortexVol</th>\n",
       "      <th>rhCortexVol</th>\n",
       "      <th>CortexVol</th>\n",
       "      <th>SubCortGrayVol</th>\n",
       "      <th>TotalGrayVol</th>\n",
       "      <th>SupraTentorialVol</th>\n",
       "      <th>lhCorticalWhiteMatterVol</th>\n",
       "      <th>rhCorticalWhiteMatterVol</th>\n",
       "      <th>CorticalWhiteMatterVol</th>\n",
       "      <th>L.SurfArea</th>\n",
       "      <th>R.SurfArea</th>\n",
       "    </tr>\n",
       "    <tr>\n",
       "      <th>Subject</th>\n",
       "      <th></th>\n",
       "      <th></th>\n",
       "      <th></th>\n",
       "      <th></th>\n",
       "      <th></th>\n",
       "      <th></th>\n",
       "      <th></th>\n",
       "      <th></th>\n",
       "      <th></th>\n",
       "      <th></th>\n",
       "      <th></th>\n",
       "      <th></th>\n",
       "      <th></th>\n",
       "      <th></th>\n",
       "      <th></th>\n",
       "      <th></th>\n",
       "    </tr>\n",
       "  </thead>\n",
       "  <tbody>\n",
       "    <tr>\n",
       "      <th>OAS30001</th>\n",
       "      <td>-1</td>\n",
       "      <td>73.0</td>\n",
       "      <td>30.0</td>\n",
       "      <td>6861.9</td>\n",
       "      <td>1.186091e+06</td>\n",
       "      <td>181943.698754</td>\n",
       "      <td>178031.558882</td>\n",
       "      <td>359975.257636</td>\n",
       "      <td>48400.0</td>\n",
       "      <td>491102.257636</td>\n",
       "      <td>7.736716e+05</td>\n",
       "      <td>174372.329393</td>\n",
       "      <td>173244.012238</td>\n",
       "      <td>347616.341631</td>\n",
       "      <td>67598.1</td>\n",
       "      <td>67185.8</td>\n",
       "    </tr>\n",
       "    <tr>\n",
       "      <th>OAS30002</th>\n",
       "      <td>-1</td>\n",
       "      <td>73.0</td>\n",
       "      <td>29.0</td>\n",
       "      <td>7833.2</td>\n",
       "      <td>1.714636e+06</td>\n",
       "      <td>227101.503019</td>\n",
       "      <td>230240.532783</td>\n",
       "      <td>457342.035802</td>\n",
       "      <td>56773.0</td>\n",
       "      <td>607473.035802</td>\n",
       "      <td>1.051714e+06</td>\n",
       "      <td>239168.338419</td>\n",
       "      <td>245361.377267</td>\n",
       "      <td>484529.715686</td>\n",
       "      <td>83138.1</td>\n",
       "      <td>85742.3</td>\n",
       "    </tr>\n",
       "    <tr>\n",
       "      <th>OAS30003</th>\n",
       "      <td>-1</td>\n",
       "      <td>66.0</td>\n",
       "      <td>29.0</td>\n",
       "      <td>7983.5</td>\n",
       "      <td>1.405092e+06</td>\n",
       "      <td>204825.718573</td>\n",
       "      <td>209641.219733</td>\n",
       "      <td>414466.938306</td>\n",
       "      <td>59379.0</td>\n",
       "      <td>557900.938306</td>\n",
       "      <td>9.299305e+05</td>\n",
       "      <td>213905.159729</td>\n",
       "      <td>222232.368895</td>\n",
       "      <td>436137.528624</td>\n",
       "      <td>76695.5</td>\n",
       "      <td>78697.9</td>\n",
       "    </tr>\n",
       "    <tr>\n",
       "      <th>OAS30004</th>\n",
       "      <td>-1</td>\n",
       "      <td>61.0</td>\n",
       "      <td>30.0</td>\n",
       "      <td>8525.1</td>\n",
       "      <td>1.443177e+06</td>\n",
       "      <td>213861.671106</td>\n",
       "      <td>206884.661369</td>\n",
       "      <td>420746.332475</td>\n",
       "      <td>53910.0</td>\n",
       "      <td>566477.332475</td>\n",
       "      <td>9.709780e+05</td>\n",
       "      <td>242595.702097</td>\n",
       "      <td>233016.992108</td>\n",
       "      <td>475612.694206</td>\n",
       "      <td>87710.1</td>\n",
       "      <td>84634.9</td>\n",
       "    </tr>\n",
       "    <tr>\n",
       "      <th>OAS30005</th>\n",
       "      <td>-1</td>\n",
       "      <td>54.0</td>\n",
       "      <td>30.0</td>\n",
       "      <td>9298.2</td>\n",
       "      <td>1.554566e+06</td>\n",
       "      <td>225743.655875</td>\n",
       "      <td>224311.450543</td>\n",
       "      <td>450055.106418</td>\n",
       "      <td>63545.0</td>\n",
       "      <td>611117.106418</td>\n",
       "      <td>9.867349e+05</td>\n",
       "      <td>229534.963360</td>\n",
       "      <td>230927.823126</td>\n",
       "      <td>460462.786487</td>\n",
       "      <td>82224.0</td>\n",
       "      <td>81421.3</td>\n",
       "    </tr>\n",
       "  </tbody>\n",
       "</table>\n",
       "</div>"
      ],
      "text/plain": [
       "         Diagnosis   Age  mmse  TotalHippocampusVol  IntraCranialVol  \\\n",
       "Subject                                                                \n",
       "OAS30001        -1  73.0  30.0               6861.9     1.186091e+06   \n",
       "OAS30002        -1  73.0  29.0               7833.2     1.714636e+06   \n",
       "OAS30003        -1  66.0  29.0               7983.5     1.405092e+06   \n",
       "OAS30004        -1  61.0  30.0               8525.1     1.443177e+06   \n",
       "OAS30005        -1  54.0  30.0               9298.2     1.554566e+06   \n",
       "\n",
       "            lhCortexVol    rhCortexVol      CortexVol  SubCortGrayVol  \\\n",
       "Subject                                                                 \n",
       "OAS30001  181943.698754  178031.558882  359975.257636         48400.0   \n",
       "OAS30002  227101.503019  230240.532783  457342.035802         56773.0   \n",
       "OAS30003  204825.718573  209641.219733  414466.938306         59379.0   \n",
       "OAS30004  213861.671106  206884.661369  420746.332475         53910.0   \n",
       "OAS30005  225743.655875  224311.450543  450055.106418         63545.0   \n",
       "\n",
       "           TotalGrayVol  SupraTentorialVol  lhCorticalWhiteMatterVol  \\\n",
       "Subject                                                                \n",
       "OAS30001  491102.257636       7.736716e+05             174372.329393   \n",
       "OAS30002  607473.035802       1.051714e+06             239168.338419   \n",
       "OAS30003  557900.938306       9.299305e+05             213905.159729   \n",
       "OAS30004  566477.332475       9.709780e+05             242595.702097   \n",
       "OAS30005  611117.106418       9.867349e+05             229534.963360   \n",
       "\n",
       "          rhCorticalWhiteMatterVol  CorticalWhiteMatterVol  L.SurfArea  \\\n",
       "Subject                                                                  \n",
       "OAS30001             173244.012238           347616.341631     67598.1   \n",
       "OAS30002             245361.377267           484529.715686     83138.1   \n",
       "OAS30003             222232.368895           436137.528624     76695.5   \n",
       "OAS30004             233016.992108           475612.694206     87710.1   \n",
       "OAS30005             230927.823126           460462.786487     82224.0   \n",
       "\n",
       "          R.SurfArea  \n",
       "Subject               \n",
       "OAS30001     67185.8  \n",
       "OAS30002     85742.3  \n",
       "OAS30003     78697.9  \n",
       "OAS30004     84634.9  \n",
       "OAS30005     81421.3  "
      ]
     },
     "execution_count": 3,
     "metadata": {},
     "output_type": "execute_result"
    }
   ],
   "source": [
    "df.head()"
   ]
  },
  {
   "cell_type": "code",
   "execution_count": 29,
   "id": "81331a0f-f03d-4671-9c19-07689cae6e4e",
   "metadata": {},
   "outputs": [
    {
     "data": {
      "text/plain": [
       "-1    229\n",
       " 1     69\n",
       "Name: Diagnosis, dtype: int64"
      ]
     },
     "execution_count": 29,
     "metadata": {},
     "output_type": "execute_result"
    }
   ],
   "source": [
    "df.loc[(df['Age']>60)&(df['Age']<70)].Diagnosis.value_counts()"
   ]
  },
  {
   "cell_type": "code",
   "execution_count": 5,
   "id": "faba44a1-89e6-4711-8b53-754ebb83a5ad",
   "metadata": {},
   "outputs": [
    {
     "data": {
      "text/plain": [
       "<AxesSubplot:xlabel='Diagnosis', ylabel='count'>"
      ]
     },
     "execution_count": 5,
     "metadata": {},
     "output_type": "execute_result"
    },
    {
     "data": {
      "image/png": "[encoded data removed]",
      "text/plain": [
       "<Figure size 432x288 with 1 Axes>"
      ]
     },
     "metadata": {
      "needs_background": "light"
     },
     "output_type": "display_data"
    }
   ],
   "source": [
    "sns.countplot(df['Diagnosis'])"
   ]
  },
  {
   "cell_type": "code",
   "execution_count": 6,
   "id": "c41d5858-ab51-4fdb-990a-af46b7af961f",
   "metadata": {},
   "outputs": [],
   "source": [
    "# standard z score scaling\n",
    "def scale(X):\n",
    "    u = np.mean(X)\n",
    "    s = np.std(X)\n",
    "    X_scaled = (X-u)/s\n",
    "    return X_scaled"
   ]
  },
  {
   "cell_type": "markdown",
   "id": "0a3c8263-d8b6-4965-91fb-0aaf265afadb",
   "metadata": {
    "tags": []
   },
   "source": [
    "## SVM Model"
   ]
  },
  {
   "cell_type": "code",
   "execution_count": 7,
   "id": "4508afa2-79ec-49c2-8dec-de034d3f9af3",
   "metadata": {},
   "outputs": [],
   "source": [
    "class SVM:\n",
    "    # Larger lambda gives a wider margin and smaller lambda results in the narrow margin\n",
    "    # for infinitely small λ the SVM becomes hard margin\n",
    "    def __init__(self, learning_rate=0.001, lambd=0.01, iterations=1000):\n",
    "        self.lambd = lambd\n",
    "        self.learning = learning_rate\n",
    "        self.iterations = iterations\n",
    "        self.w = None\n",
    "        self.b = None\n",
    "        self.losses = []\n",
    "\n",
    "    def fit(self, X, y):\n",
    "        \n",
    "        self.w = np.random.normal(size=X.shape[1])\n",
    "        self.b = np.random.normal()\n",
    "        \n",
    "        y_np = np.array(y)\n",
    "\n",
    "        for i in tqdm(range(self.iterations)):\n",
    "            tot_loss = 0\n",
    "            for idx, xi in enumerate(X):\n",
    "                #print(idx, xi)\n",
    "                loss = max(0, 1-(y_np[idx] * (np.dot(self.w, xi) - self.b)))\n",
    "                tot_loss += loss\n",
    "                if y_np[idx] * (np.dot(self.w, xi) - self.b) >= 1:\n",
    "                    dw = 2 * self.lambd * self.w\n",
    "                    #dw = 2 * 1/(i+1) * self.w\n",
    "                    db = 0\n",
    "                    self.w -= self.learning * dw\n",
    "                    self.b -= self.learning * db\n",
    "                else:\n",
    "                    dw = 2 * self.lambd * self.w - np.dot(y_np[idx], xi)\n",
    "                    #dw = 2 * 1/(i+1) * self.w - np.dot(y_np[idx], xi)\n",
    "                    db = y_np[idx]\n",
    "                    self.w -= self.learning * dw\n",
    "                    self.b -= self.learning * db\n",
    "            self.losses.append(tot_loss)\n",
    "\n",
    "    def predict(self, X):\n",
    "        approx = np.dot(X, self.w) - self.b\n",
    "        return np.sign(approx)"
   ]
  },
  {
   "cell_type": "markdown",
   "id": "d8c28d03-7f5b-405b-9592-82516d54559e",
   "metadata": {},
   "source": [
    "## Discrete variables included"
   ]
  },
  {
   "cell_type": "code",
   "execution_count": 8,
   "id": "334c8ec1-691a-4080-919c-ae2cdf26306f",
   "metadata": {},
   "outputs": [
    {
     "name": "stdout",
     "output_type": "stream",
     "text": [
      "(817, 15) (205, 15) (817,) (205,)\n"
     ]
    }
   ],
   "source": [
    "X = df.drop(['Diagnosis'], axis=1)\n",
    "y = df['Diagnosis']\n",
    "X_train, X_test, y_train, y_test = train_test_split(X, y, test_size=0.2, random_state=0)\n",
    "print(X_train.shape, X_test.shape, y_train.shape, y_test.shape)"
   ]
  },
  {
   "cell_type": "code",
   "execution_count": 9,
   "id": "2238e2b3-87a7-4ad7-bde0-ff577532b97d",
   "metadata": {},
   "outputs": [],
   "source": [
    "X_train = scale(X_train)\n",
    "X_test = scale(X_test)"
   ]
  },
  {
   "cell_type": "code",
   "execution_count": 10,
   "id": "e1097e79-568a-4c5d-a4d9-4d846ab640e3",
   "metadata": {},
   "outputs": [
    {
     "data": {
      "text/html": [
       "<div>\n",
       "<style scoped>\n",
       "    .dataframe tbody tr th:only-of-type {\n",
       "        vertical-align: middle;\n",
       "    }\n",
       "\n",
       "    .dataframe tbody tr th {\n",
       "        vertical-align: top;\n",
       "    }\n",
       "\n",
       "    .dataframe thead th {\n",
       "        text-align: right;\n",
       "    }\n",
       "</style>\n",
       "<table border=\"1\" class=\"dataframe\">\n",
       "  <thead>\n",
       "    <tr style=\"text-align: right;\">\n",
       "      <th></th>\n",
       "      <th>Age</th>\n",
       "      <th>mmse</th>\n",
       "      <th>TotalHippocampusVol</th>\n",
       "      <th>IntraCranialVol</th>\n",
       "      <th>lhCortexVol</th>\n",
       "      <th>rhCortexVol</th>\n",
       "      <th>CortexVol</th>\n",
       "      <th>SubCortGrayVol</th>\n",
       "      <th>TotalGrayVol</th>\n",
       "      <th>SupraTentorialVol</th>\n",
       "      <th>lhCorticalWhiteMatterVol</th>\n",
       "      <th>rhCorticalWhiteMatterVol</th>\n",
       "      <th>CorticalWhiteMatterVol</th>\n",
       "      <th>L.SurfArea</th>\n",
       "      <th>R.SurfArea</th>\n",
       "    </tr>\n",
       "    <tr>\n",
       "      <th>Subject</th>\n",
       "      <th></th>\n",
       "      <th></th>\n",
       "      <th></th>\n",
       "      <th></th>\n",
       "      <th></th>\n",
       "      <th></th>\n",
       "      <th></th>\n",
       "      <th></th>\n",
       "      <th></th>\n",
       "      <th></th>\n",
       "      <th></th>\n",
       "      <th></th>\n",
       "      <th></th>\n",
       "      <th></th>\n",
       "      <th></th>\n",
       "    </tr>\n",
       "  </thead>\n",
       "  <tbody>\n",
       "    <tr>\n",
       "      <th>OAS30878</th>\n",
       "      <td>0.448106</td>\n",
       "      <td>-1.208432</td>\n",
       "      <td>-0.067708</td>\n",
       "      <td>0.782224</td>\n",
       "      <td>1.226312</td>\n",
       "      <td>1.175484</td>\n",
       "      <td>1.207035</td>\n",
       "      <td>3.754129</td>\n",
       "      <td>1.684925</td>\n",
       "      <td>0.988592</td>\n",
       "      <td>1.267389</td>\n",
       "      <td>1.214855</td>\n",
       "      <td>1.245408</td>\n",
       "      <td>1.451690</td>\n",
       "      <td>1.376693</td>\n",
       "    </tr>\n",
       "    <tr>\n",
       "      <th>OAS30238</th>\n",
       "      <td>0.555974</td>\n",
       "      <td>-1.735971</td>\n",
       "      <td>0.718602</td>\n",
       "      <td>0.949192</td>\n",
       "      <td>-0.105834</td>\n",
       "      <td>-0.035205</td>\n",
       "      <td>-0.070932</td>\n",
       "      <td>-0.322263</td>\n",
       "      <td>-0.019374</td>\n",
       "      <td>0.160041</td>\n",
       "      <td>0.048756</td>\n",
       "      <td>0.161969</td>\n",
       "      <td>0.105899</td>\n",
       "      <td>0.721170</td>\n",
       "      <td>0.854318</td>\n",
       "    </tr>\n",
       "    <tr>\n",
       "      <th>OAS30410</th>\n",
       "      <td>0.340239</td>\n",
       "      <td>-1.208432</td>\n",
       "      <td>-0.858881</td>\n",
       "      <td>0.067149</td>\n",
       "      <td>-0.326245</td>\n",
       "      <td>-0.508100</td>\n",
       "      <td>-0.419150</td>\n",
       "      <td>-0.381080</td>\n",
       "      <td>-0.363781</td>\n",
       "      <td>-0.233953</td>\n",
       "      <td>-0.720655</td>\n",
       "      <td>-0.632547</td>\n",
       "      <td>-0.678850</td>\n",
       "      <td>-0.357457</td>\n",
       "      <td>-0.416994</td>\n",
       "    </tr>\n",
       "    <tr>\n",
       "      <th>OAS30006</th>\n",
       "      <td>-0.306967</td>\n",
       "      <td>0.637954</td>\n",
       "      <td>0.403696</td>\n",
       "      <td>2.408306</td>\n",
       "      <td>1.462854</td>\n",
       "      <td>1.529346</td>\n",
       "      <td>1.503645</td>\n",
       "      <td>-0.056995</td>\n",
       "      <td>1.674911</td>\n",
       "      <td>2.206051</td>\n",
       "      <td>2.229444</td>\n",
       "      <td>2.031146</td>\n",
       "      <td>2.137492</td>\n",
       "      <td>2.817108</td>\n",
       "      <td>2.543211</td>\n",
       "    </tr>\n",
       "    <tr>\n",
       "      <th>OAS30405</th>\n",
       "      <td>0.448106</td>\n",
       "      <td>0.374185</td>\n",
       "      <td>0.046934</td>\n",
       "      <td>-1.164770</td>\n",
       "      <td>-1.667141</td>\n",
       "      <td>-1.769032</td>\n",
       "      <td>-1.726731</td>\n",
       "      <td>-0.372241</td>\n",
       "      <td>-1.629095</td>\n",
       "      <td>-1.643420</td>\n",
       "      <td>-1.438092</td>\n",
       "      <td>-1.290820</td>\n",
       "      <td>-1.369036</td>\n",
       "      <td>-1.690702</td>\n",
       "      <td>-1.529658</td>\n",
       "    </tr>\n",
       "  </tbody>\n",
       "</table>\n",
       "</div>"
      ],
      "text/plain": [
       "               Age      mmse  TotalHippocampusVol  IntraCranialVol  \\\n",
       "Subject                                                              \n",
       "OAS30878  0.448106 -1.208432            -0.067708         0.782224   \n",
       "OAS30238  0.555974 -1.735971             0.718602         0.949192   \n",
       "OAS30410  0.340239 -1.208432            -0.858881         0.067149   \n",
       "OAS30006 -0.306967  0.637954             0.403696         2.408306   \n",
       "OAS30405  0.448106  0.374185             0.046934        -1.164770   \n",
       "\n",
       "          lhCortexVol  rhCortexVol  CortexVol  SubCortGrayVol  TotalGrayVol  \\\n",
       "Subject                                                                       \n",
       "OAS30878     1.226312     1.175484   1.207035        3.754129      1.684925   \n",
       "OAS30238    -0.105834    -0.035205  -0.070932       -0.322263     -0.019374   \n",
       "OAS30410    -0.326245    -0.508100  -0.419150       -0.381080     -0.363781   \n",
       "OAS30006     1.462854     1.529346   1.503645       -0.056995      1.674911   \n",
       "OAS30405    -1.667141    -1.769032  -1.726731       -0.372241     -1.629095   \n",
       "\n",
       "          SupraTentorialVol  lhCorticalWhiteMatterVol  \\\n",
       "Subject                                                 \n",
       "OAS30878           0.988592                  1.267389   \n",
       "OAS30238           0.160041                  0.048756   \n",
       "OAS30410          -0.233953                 -0.720655   \n",
       "OAS30006           2.206051                  2.229444   \n",
       "OAS30405          -1.643420                 -1.438092   \n",
       "\n",
       "          rhCorticalWhiteMatterVol  CorticalWhiteMatterVol  L.SurfArea  \\\n",
       "Subject                                                                  \n",
       "OAS30878                  1.214855                1.245408    1.451690   \n",
       "OAS30238                  0.161969                0.105899    0.721170   \n",
       "OAS30410                 -0.632547               -0.678850   -0.357457   \n",
       "OAS30006                  2.031146                2.137492    2.817108   \n",
       "OAS30405                 -1.290820               -1.369036   -1.690702   \n",
       "\n",
       "          R.SurfArea  \n",
       "Subject               \n",
       "OAS30878    1.376693  \n",
       "OAS30238    0.854318  \n",
       "OAS30410   -0.416994  \n",
       "OAS30006    2.543211  \n",
       "OAS30405   -1.529658  "
      ]
     },
     "execution_count": 10,
     "metadata": {},
     "output_type": "execute_result"
    }
   ],
   "source": [
    "X_train.head()"
   ]
  },
  {
   "cell_type": "code",
   "execution_count": 11,
   "id": "4d0ebbc1-c4f6-49a0-9009-d1f9ddb2305b",
   "metadata": {},
   "outputs": [
    {
     "data": {
      "application/vnd.jupyter.widget-view+json": {
       "model_id": "1ccd1c54d5624f8f843dd907febf2e0c",
       "version_major": 2,
       "version_minor": 0
      },
      "text/plain": [
       "  0%|          | 0/1000 [00:00<?, ?it/s]"
      ]
     },
     "metadata": {},
     "output_type": "display_data"
    }
   ],
   "source": [
    "model = SVM()\n",
    "model.fit(np.array(X_train), y_train)"
   ]
  },
  {
   "cell_type": "code",
   "execution_count": 12,
   "id": "a3f4f93b-3dc2-400b-a9ac-b3fec1f0019a",
   "metadata": {},
   "outputs": [],
   "source": [
    "predictions = model.predict(X_test)"
   ]
  },
  {
   "cell_type": "code",
   "execution_count": 13,
   "id": "ea1eefa8-1138-47e3-9b4c-08f46fd4c991",
   "metadata": {},
   "outputs": [
    {
     "name": "stdout",
     "output_type": "stream",
     "text": [
      "Accuracy: 0.8731707317073171\n"
     ]
    }
   ],
   "source": [
    "correct_preds = np.sum(predictions == y_test)\n",
    "print(f'Accuracy: {correct_preds/y_test.size}')"
   ]
  },
  {
   "cell_type": "code",
   "execution_count": 14,
   "id": "4cb3bce9-b1d0-4b22-b6b0-c6968819dd7f",
   "metadata": {},
   "outputs": [
    {
     "data": {
      "image/png": "[encoded data removed]",
      "text/plain": [
       "<Figure size 432x288 with 1 Axes>"
      ]
     },
     "metadata": {
      "needs_background": "light"
     },
     "output_type": "display_data"
    }
   ],
   "source": [
    "np_y_test = np.array(y_test).astype(int)\n",
    "mat = confusion_matrix(np_y_test, predictions)\n",
    "sns.heatmap(mat, square=True, annot=True, fmt='d', cbar=False, cmap='Blues',\n",
    "            xticklabels=['Control', 'Dementia'],\n",
    "            yticklabels=['Control', 'Dementia'])\n",
    "plt.xlabel('predicted label')\n",
    "plt.ylabel('true label');"
   ]
  },
  {
   "cell_type": "code",
   "execution_count": 15,
   "id": "5d550a47-6af0-42c2-a764-cc6d6e516cf8",
   "metadata": {},
   "outputs": [
    {
     "name": "stdout",
     "output_type": "stream",
     "text": [
      "Age                         :   -0.146242\n",
      "mmse                        :   -1.370969\n",
      "TotalHippocampusVol         :   -0.516210\n",
      "IntraCranialVol             :    0.325136\n",
      "lhCortexVol                 :   -0.006436\n",
      "rhCortexVol                 :   -0.122993\n",
      "CortexVol                   :   -0.064953\n",
      "SubCortGrayVol              :    0.055314\n",
      "TotalGrayVol                :    0.110446\n",
      "SupraTentorialVol           :    0.092577\n",
      "lhCorticalWhiteMatterVol    :    0.026883\n",
      "rhCorticalWhiteMatterVol    :   -0.166718\n",
      "CorticalWhiteMatterVol      :   -0.070447\n",
      "L.SurfArea                  :    0.029656\n",
      "R.SurfArea                  :   -0.042969\n",
      "Bias value of model: 0.5696198380310695\n"
     ]
    }
   ],
   "source": [
    "for i in range(X_test.columns.shape[0]):\n",
    "    if(model.w[i] < 0):\n",
    "        print(\"%-27s %-3s %f\" % (X_test.columns[i], ':', model.w[i]))\n",
    "    else:\n",
    "        print(\"%-27s %-3s  %f\" % (X_test.columns[i], ':',  model.w[i]))\n",
    "print(f'Bias value of model: {model.b}')"
   ]
  },
  {
   "cell_type": "code",
   "execution_count": 16,
   "id": "e0bef1e9-7131-4762-874e-7db91430ffef",
   "metadata": {},
   "outputs": [
    {
     "data": {
      "text/plain": [
       "[<matplotlib.lines.Line2D at 0x7f59b0430970>]"
      ]
     },
     "execution_count": 16,
     "metadata": {},
     "output_type": "execute_result"
    },
    {
     "data": {
      "image/png": "[encoded data removed]",
      "text/plain": [
       "<Figure size 432x288 with 1 Axes>"
      ]
     },
     "metadata": {
      "needs_background": "light"
     },
     "output_type": "display_data"
    }
   ],
   "source": [
    "plt.plot(model.losses)"
   ]
  },
  {
   "cell_type": "code",
   "execution_count": 17,
   "id": "d634132e-9131-4262-9aeb-bcbae9f1ee3c",
   "metadata": {},
   "outputs": [
    {
     "data": {
      "text/plain": [
       "[<matplotlib.lines.Line2D at 0x7f59b039b970>]"
      ]
     },
     "execution_count": 17,
     "metadata": {},
     "output_type": "execute_result"
    },
    {
     "data": {
      "image/png": "[encoded data removed]",
      "text/plain": [
       "<Figure size 432x288 with 1 Axes>"
      ]
     },
     "metadata": {
      "needs_background": "light"
     },
     "output_type": "display_data"
    }
   ],
   "source": [
    "plt.ylim(270.9,271.4)\n",
    "plt.plot(model.losses)"
   ]
  },
  {
   "cell_type": "markdown",
   "id": "8489f184-aefc-4f34-b517-49667102e7e0",
   "metadata": {},
   "source": [
    "## Dropping discrete variables"
   ]
  },
  {
   "cell_type": "code",
   "execution_count": 18,
   "id": "93391637-3fe8-4e69-8034-d9e0306e4053",
   "metadata": {},
   "outputs": [
    {
     "data": {
      "text/html": [
       "<div>\n",
       "<style scoped>\n",
       "    .dataframe tbody tr th:only-of-type {\n",
       "        vertical-align: middle;\n",
       "    }\n",
       "\n",
       "    .dataframe tbody tr th {\n",
       "        vertical-align: top;\n",
       "    }\n",
       "\n",
       "    .dataframe thead th {\n",
       "        text-align: right;\n",
       "    }\n",
       "</style>\n",
       "<table border=\"1\" class=\"dataframe\">\n",
       "  <thead>\n",
       "    <tr style=\"text-align: right;\">\n",
       "      <th></th>\n",
       "      <th>Age</th>\n",
       "      <th>TotalHippocampusVol</th>\n",
       "      <th>IntraCranialVol</th>\n",
       "      <th>lhCortexVol</th>\n",
       "      <th>rhCortexVol</th>\n",
       "      <th>CortexVol</th>\n",
       "      <th>SubCortGrayVol</th>\n",
       "      <th>TotalGrayVol</th>\n",
       "      <th>SupraTentorialVol</th>\n",
       "      <th>lhCorticalWhiteMatterVol</th>\n",
       "      <th>rhCorticalWhiteMatterVol</th>\n",
       "      <th>CorticalWhiteMatterVol</th>\n",
       "      <th>L.SurfArea</th>\n",
       "      <th>R.SurfArea</th>\n",
       "    </tr>\n",
       "    <tr>\n",
       "      <th>Subject</th>\n",
       "      <th></th>\n",
       "      <th></th>\n",
       "      <th></th>\n",
       "      <th></th>\n",
       "      <th></th>\n",
       "      <th></th>\n",
       "      <th></th>\n",
       "      <th></th>\n",
       "      <th></th>\n",
       "      <th></th>\n",
       "      <th></th>\n",
       "      <th></th>\n",
       "      <th></th>\n",
       "      <th></th>\n",
       "    </tr>\n",
       "  </thead>\n",
       "  <tbody>\n",
       "    <tr>\n",
       "      <th>OAS30878</th>\n",
       "      <td>0.448106</td>\n",
       "      <td>-0.067708</td>\n",
       "      <td>0.782224</td>\n",
       "      <td>1.226312</td>\n",
       "      <td>1.175484</td>\n",
       "      <td>1.207035</td>\n",
       "      <td>3.754129</td>\n",
       "      <td>1.684925</td>\n",
       "      <td>0.988592</td>\n",
       "      <td>1.267389</td>\n",
       "      <td>1.214855</td>\n",
       "      <td>1.245408</td>\n",
       "      <td>1.451690</td>\n",
       "      <td>1.376693</td>\n",
       "    </tr>\n",
       "    <tr>\n",
       "      <th>OAS30238</th>\n",
       "      <td>0.555974</td>\n",
       "      <td>0.718602</td>\n",
       "      <td>0.949192</td>\n",
       "      <td>-0.105834</td>\n",
       "      <td>-0.035205</td>\n",
       "      <td>-0.070932</td>\n",
       "      <td>-0.322263</td>\n",
       "      <td>-0.019374</td>\n",
       "      <td>0.160041</td>\n",
       "      <td>0.048756</td>\n",
       "      <td>0.161969</td>\n",
       "      <td>0.105899</td>\n",
       "      <td>0.721170</td>\n",
       "      <td>0.854318</td>\n",
       "    </tr>\n",
       "    <tr>\n",
       "      <th>OAS30410</th>\n",
       "      <td>0.340239</td>\n",
       "      <td>-0.858881</td>\n",
       "      <td>0.067149</td>\n",
       "      <td>-0.326245</td>\n",
       "      <td>-0.508100</td>\n",
       "      <td>-0.419150</td>\n",
       "      <td>-0.381080</td>\n",
       "      <td>-0.363781</td>\n",
       "      <td>-0.233953</td>\n",
       "      <td>-0.720655</td>\n",
       "      <td>-0.632547</td>\n",
       "      <td>-0.678850</td>\n",
       "      <td>-0.357457</td>\n",
       "      <td>-0.416994</td>\n",
       "    </tr>\n",
       "    <tr>\n",
       "      <th>OAS30006</th>\n",
       "      <td>-0.306967</td>\n",
       "      <td>0.403696</td>\n",
       "      <td>2.408306</td>\n",
       "      <td>1.462854</td>\n",
       "      <td>1.529346</td>\n",
       "      <td>1.503645</td>\n",
       "      <td>-0.056995</td>\n",
       "      <td>1.674911</td>\n",
       "      <td>2.206051</td>\n",
       "      <td>2.229444</td>\n",
       "      <td>2.031146</td>\n",
       "      <td>2.137492</td>\n",
       "      <td>2.817108</td>\n",
       "      <td>2.543211</td>\n",
       "    </tr>\n",
       "    <tr>\n",
       "      <th>OAS30405</th>\n",
       "      <td>0.448106</td>\n",
       "      <td>0.046934</td>\n",
       "      <td>-1.164770</td>\n",
       "      <td>-1.667141</td>\n",
       "      <td>-1.769032</td>\n",
       "      <td>-1.726731</td>\n",
       "      <td>-0.372241</td>\n",
       "      <td>-1.629095</td>\n",
       "      <td>-1.643420</td>\n",
       "      <td>-1.438092</td>\n",
       "      <td>-1.290820</td>\n",
       "      <td>-1.369036</td>\n",
       "      <td>-1.690702</td>\n",
       "      <td>-1.529658</td>\n",
       "    </tr>\n",
       "  </tbody>\n",
       "</table>\n",
       "</div>"
      ],
      "text/plain": [
       "               Age  TotalHippocampusVol  IntraCranialVol  lhCortexVol  \\\n",
       "Subject                                                                 \n",
       "OAS30878  0.448106            -0.067708         0.782224     1.226312   \n",
       "OAS30238  0.555974             0.718602         0.949192    -0.105834   \n",
       "OAS30410  0.340239            -0.858881         0.067149    -0.326245   \n",
       "OAS30006 -0.306967             0.403696         2.408306     1.462854   \n",
       "OAS30405  0.448106             0.046934        -1.164770    -1.667141   \n",
       "\n",
       "          rhCortexVol  CortexVol  SubCortGrayVol  TotalGrayVol  \\\n",
       "Subject                                                          \n",
       "OAS30878     1.175484   1.207035        3.754129      1.684925   \n",
       "OAS30238    -0.035205  -0.070932       -0.322263     -0.019374   \n",
       "OAS30410    -0.508100  -0.419150       -0.381080     -0.363781   \n",
       "OAS30006     1.529346   1.503645       -0.056995      1.674911   \n",
       "OAS30405    -1.769032  -1.726731       -0.372241     -1.629095   \n",
       "\n",
       "          SupraTentorialVol  lhCorticalWhiteMatterVol  \\\n",
       "Subject                                                 \n",
       "OAS30878           0.988592                  1.267389   \n",
       "OAS30238           0.160041                  0.048756   \n",
       "OAS30410          -0.233953                 -0.720655   \n",
       "OAS30006           2.206051                  2.229444   \n",
       "OAS30405          -1.643420                 -1.438092   \n",
       "\n",
       "          rhCorticalWhiteMatterVol  CorticalWhiteMatterVol  L.SurfArea  \\\n",
       "Subject                                                                  \n",
       "OAS30878                  1.214855                1.245408    1.451690   \n",
       "OAS30238                  0.161969                0.105899    0.721170   \n",
       "OAS30410                 -0.632547               -0.678850   -0.357457   \n",
       "OAS30006                  2.031146                2.137492    2.817108   \n",
       "OAS30405                 -1.290820               -1.369036   -1.690702   \n",
       "\n",
       "          R.SurfArea  \n",
       "Subject               \n",
       "OAS30878    1.376693  \n",
       "OAS30238    0.854318  \n",
       "OAS30410   -0.416994  \n",
       "OAS30006    2.543211  \n",
       "OAS30405   -1.529658  "
      ]
     },
     "execution_count": 18,
     "metadata": {},
     "output_type": "execute_result"
    }
   ],
   "source": [
    "X2 = df_drop_discrete.drop(['Diagnosis'], axis=1)\n",
    "y2 = df_drop_discrete['Diagnosis']\n",
    "X_train2, X_test2, y_train2, y_test2 = train_test_split(X2, y2, test_size=0.2, random_state=0)\n",
    "X_train2 = scale(X_train2)\n",
    "X_test2 = scale(X_test2)\n",
    "X_train2.head()"
   ]
  },
  {
   "cell_type": "code",
   "execution_count": 19,
   "id": "0a993520-0a97-4f36-80c3-9476e0d1c341",
   "metadata": {},
   "outputs": [
    {
     "data": {
      "application/vnd.jupyter.widget-view+json": {
       "model_id": "ef877599f0d04df78616a9ca4496219c",
       "version_major": 2,
       "version_minor": 0
      },
      "text/plain": [
       "  0%|          | 0/1000 [00:00<?, ?it/s]"
      ]
     },
     "metadata": {},
     "output_type": "display_data"
    }
   ],
   "source": [
    "model2 = SVM()\n",
    "model2.fit(np.array(X_train2), y_train2)"
   ]
  },
  {
   "cell_type": "code",
   "execution_count": 20,
   "id": "f3043669-a1b9-45d3-856b-014b4830f45f",
   "metadata": {},
   "outputs": [
    {
     "name": "stdout",
     "output_type": "stream",
     "text": [
      "Accuracy: 0.775609756097561\n"
     ]
    }
   ],
   "source": [
    "predictions2 = model2.predict(X_test2)\n",
    "correct_preds2 = np.sum(predictions2 == y_test2)\n",
    "print(f'Accuracy: {correct_preds2/y_test2.size}')"
   ]
  },
  {
   "cell_type": "code",
   "execution_count": 21,
   "id": "f5f7a92f-3f49-4210-8a05-26c0ac6c6a70",
   "metadata": {},
   "outputs": [
    {
     "data": {
      "image/png": "[encoded data removed]",
      "text/plain": [
       "<Figure size 432x288 with 1 Axes>"
      ]
     },
     "metadata": {
      "needs_background": "light"
     },
     "output_type": "display_data"
    }
   ],
   "source": [
    "np_y_test2 = np.array(y_test2).astype(int)\n",
    "mat2 = confusion_matrix(np_y_test2, predictions2)\n",
    "sns.heatmap(mat2, square=True, annot=True, fmt='d', cbar=False, cmap='Blues',\n",
    "            xticklabels=['Control', 'Dementia'],\n",
    "            yticklabels=['Control', 'Dementia'])\n",
    "plt.xlabel('predicted label')\n",
    "plt.ylabel('true label');"
   ]
  },
  {
   "cell_type": "code",
   "execution_count": 22,
   "id": "8f5449e7-be4a-4f78-8e78-ccaa3efa298b",
   "metadata": {},
   "outputs": [
    {
     "name": "stdout",
     "output_type": "stream",
     "text": [
      "Age                         :   -0.214772\n",
      "TotalHippocampusVol         :   -0.862102\n",
      "IntraCranialVol             :    0.703762\n",
      "lhCortexVol                 :   -0.209993\n",
      "rhCortexVol                 :   -0.203010\n",
      "CortexVol                   :   -0.207556\n",
      "SubCortGrayVol              :    0.025937\n",
      "TotalGrayVol                :    0.066686\n",
      "SupraTentorialVol           :    0.010224\n",
      "lhCorticalWhiteMatterVol    :   -0.065011\n",
      "rhCorticalWhiteMatterVol    :   -0.046603\n",
      "CorticalWhiteMatterVol      :   -0.055976\n",
      "L.SurfArea                  :    0.039830\n",
      "R.SurfArea                  :    0.071036\n",
      "Bias value of model: 0.8161150345082347\n"
     ]
    }
   ],
   "source": [
    "for i in range(X_test2.columns.shape[0]):\n",
    "    if(model2.w[i] < 0):\n",
    "        print(\"%-27s %-3s %f\" % (X_test2.columns[i], ':', model2.w[i]))\n",
    "    else:\n",
    "        print(\"%-27s %-3s  %f\" % (X_test2.columns[i], ':',  model2.w[i]))\n",
    "print(f'Bias value of model: {model2.b}')"
   ]
  },
  {
   "cell_type": "markdown",
   "id": "ac588c44-41a2-4d61-b849-7a012c88db94",
   "metadata": {},
   "source": [
    "## Visualization"
   ]
  },
  {
   "cell_type": "code",
   "execution_count": 23,
   "id": "eaa07550-f732-4504-90fd-335d8b0fa484",
   "metadata": {},
   "outputs": [],
   "source": [
    "def visualize_svm(ax, X_test, y_test, predictions, clf, feature_1, feature_2):\n",
    "    X = np.array(X_test)\n",
    "    def get_hyperplane_value(x, w, b, offset):\n",
    "        return (-w[feature_1] * x + b + offset) / w[feature_2]\n",
    "\n",
    "    # control prediction, control true\n",
    "    idx = np.where((y_test==-1) & (predictions==-1))\n",
    "    ax.scatter(X[idx, feature_1], X[idx, feature_2], marker=\"+\", c='C0', label=\"Pred:C, True:C\")\n",
    "    # control prediction, dementia true\n",
    "    idx = np.where((y_test==1) & (predictions==-1))\n",
    "    ax.scatter(X[idx, feature_1], X[idx, feature_2], marker=\"+\", c='C1', label=\"Pred:C, True:D\")\n",
    "    # dementia prediction, dementia true\n",
    "    idx = np.where((y_test==1) & (predictions==1))\n",
    "    ax.scatter(X[idx, feature_1], X[idx, feature_2], marker=\"x\", c='C1', label=\"Pred:D, True:D\")\n",
    "    # dementia prediction, control true\n",
    "    idx = np.where((y_test==-1) & (predictions==1))\n",
    "    ax.scatter(X[idx, feature_1], X[idx, feature_2], marker=\"x\", c='C0', label=\"Pred:D, True:C\")\n",
    "\n",
    "    x0_1 = np.amin(X[:, feature_1])\n",
    "    x0_2 = np.amax(X[:, feature_1])\n",
    "\n",
    "    x1_1 = get_hyperplane_value(x0_1, clf.w, clf.b, 0)\n",
    "    x1_2 = get_hyperplane_value(x0_2, clf.w, clf.b, 0)\n",
    "\n",
    "    x1_1_m = get_hyperplane_value(x0_1, clf.w, clf.b, -1)\n",
    "    x1_2_m = get_hyperplane_value(x0_2, clf.w, clf.b, -1)\n",
    "\n",
    "    x1_1_p = get_hyperplane_value(x0_1, clf.w, clf.b, 1)\n",
    "    x1_2_p = get_hyperplane_value(x0_2, clf.w, clf.b, 1)\n",
    "\n",
    "    ax.plot([x0_1, x0_2], [x1_1, x1_2], \"y--\")\n",
    "    ax.plot([x0_1, x0_2], [x1_1_m, x1_2_m], \"k\")\n",
    "    ax.plot([x0_1, x0_2], [x1_1_p, x1_2_p], \"k\")\n",
    "\n",
    "    x1_min = np.amin(X[:, feature_2])\n",
    "    x1_max = np.amax(X[:, feature_2])\n",
    "    ax.set_ylim([x1_min - 3, x1_max + 3])\n",
    "    ax.set_xlabel(X_test.columns[feature_1])\n",
    "    ax.set_ylabel(X_test.columns[feature_2])\n",
    "    ax.set_title(f'{X_test.columns[feature_2]} vs {X_test.columns[feature_1]}')\n",
    "    ax.legend()\n",
    "\n",
    "    return ax"
   ]
  },
  {
   "cell_type": "code",
   "execution_count": 24,
   "id": "c1a51189-e71a-454a-9e03-ccde6b76539d",
   "metadata": {
    "tags": []
   },
   "outputs": [],
   "source": [
    "# orange is dementia true, blue is control true\n",
    "# x is dementia prediction, + is control prediction\n",
    "def save_figs(X_test, y_test, predictions, model, df_type):\n",
    "    for feature_1 in range(X_test.shape[1]):\n",
    "        fig, axes = plt.subplots(7, 2, figsize=(16,40))\n",
    "        axes = axes.flatten()\n",
    "        i = 0\n",
    "        for feature_2 in range(X_test.shape[1]):\n",
    "            if feature_1 == feature_2:\n",
    "                continue\n",
    "            axes[i] = visualize_svm(axes[i], X_test, y_test, predictions, model, feature_1, feature_2)\n",
    "            i+=1\n",
    "        fig.savefig(fname=f'svm_graphs/{df_type}/{X_test.columns[feature_1]}.png', facecolor='white')"
   ]
  },
  {
   "cell_type": "code",
   "execution_count": 25,
   "id": "d048a2b5-fd0d-46fc-b3b9-e6fa61a5cd32",
   "metadata": {
    "tags": []
   },
   "outputs": [],
   "source": [
    "#save_figs(X_test2, y_test2, predictions2, model2, \"no_discrete\")"
   ]
  },
  {
   "cell_type": "code",
   "execution_count": 26,
   "id": "7dbc67aa-5808-4493-8f88-4b37ae13253b",
   "metadata": {
    "tags": []
   },
   "outputs": [],
   "source": [
    "#save_figs(X_test, y_test, predictions, model, \"yes_discrete\")"
   ]
  }
 ],
 "metadata": {
  "kernelspec": {
   "display_name": "Python 3",
   "language": "python",
   "name": "python3"
  },
  "language_info": {
   "codemirror_mode": {
    "name": "ipython",
    "version": 3
   },
   "file_extension": ".py",
   "mimetype": "text/x-python",
   "name": "python",
   "nbconvert_exporter": "python",
   "pygments_lexer": "ipython3",
   "version": "3.8.8"
  }
 },
 "nbformat": 4,
 "nbformat_minor": 5
}
