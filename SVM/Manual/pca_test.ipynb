{
 "cells": [
  {
   "cell_type": "code",
   "execution_count": 1,
   "id": "f82e6f5b-8c4c-41c0-ac53-8741841e3427",
   "metadata": {},
   "outputs": [],
   "source": [
    "import numpy as np\n",
    "import matplotlib.pyplot as plt\n",
    "import pandas as pd\n",
    "import seaborn as sns\n",
    "from sklearn.model_selection import train_test_split\n",
    "from sklearn.metrics import confusion_matrix, classification_report\n",
    "from tqdm.notebook import tqdm"
   ]
  },
  {
   "cell_type": "code",
   "execution_count": 2,
   "id": "3bd38ebf-5ea7-4da0-96e0-92bb80325e00",
   "metadata": {},
   "outputs": [
    {
     "name": "stdout",
     "output_type": "stream",
     "text": [
      "(2168, 22)\n"
     ]
    }
   ],
   "source": [
    "df = pd.read_csv('../../Data/OASIS/oasis_3.csv')\n",
    "print(df.shape)"
   ]
  },
  {
   "cell_type": "code",
   "execution_count": 3,
   "id": "d7833771-e9ec-4f3c-9a73-2ba32497aafb",
   "metadata": {},
   "outputs": [
    {
     "data": {
      "text/html": [
       "<div>\n",
       "<style scoped>\n",
       "    .dataframe tbody tr th:only-of-type {\n",
       "        vertical-align: middle;\n",
       "    }\n",
       "\n",
       "    .dataframe tbody tr th {\n",
       "        vertical-align: top;\n",
       "    }\n",
       "\n",
       "    .dataframe thead th {\n",
       "        text-align: right;\n",
       "    }\n",
       "</style>\n",
       "<table border=\"1\" class=\"dataframe\">\n",
       "  <thead>\n",
       "    <tr style=\"text-align: right;\">\n",
       "      <th></th>\n",
       "      <th>Subject</th>\n",
       "      <th>MR ID</th>\n",
       "      <th>id</th>\n",
       "      <th>Age</th>\n",
       "      <th>M/F</th>\n",
       "      <th>dx1</th>\n",
       "      <th>mmse</th>\n",
       "      <th>cdr</th>\n",
       "      <th>apoe</th>\n",
       "      <th>TOTAL_HIPPOCAMPUS_VOLUME</th>\n",
       "      <th>...</th>\n",
       "      <th>rhCortexVol</th>\n",
       "      <th>CortexVol</th>\n",
       "      <th>SubCortGrayVol</th>\n",
       "      <th>TotalGrayVol</th>\n",
       "      <th>SupraTentorialVol</th>\n",
       "      <th>lhCorticalWhiteMatterVol</th>\n",
       "      <th>rhCorticalWhiteMatterVol</th>\n",
       "      <th>CorticalWhiteMatterVol</th>\n",
       "      <th>L.SurfArea</th>\n",
       "      <th>R.SurfArea</th>\n",
       "    </tr>\n",
       "  </thead>\n",
       "  <tbody>\n",
       "    <tr>\n",
       "      <th>0</th>\n",
       "      <td>OAS30001</td>\n",
       "      <td>OAS30001_MR_d3132</td>\n",
       "      <td>OAS30001_Freesurfer53_d3132</td>\n",
       "      <td>73.0</td>\n",
       "      <td>F</td>\n",
       "      <td>Cognitively normal</td>\n",
       "      <td>30.0</td>\n",
       "      <td>0.0</td>\n",
       "      <td>23.0</td>\n",
       "      <td>6861.9</td>\n",
       "      <td>...</td>\n",
       "      <td>178031.558882</td>\n",
       "      <td>359975.257636</td>\n",
       "      <td>48400.0</td>\n",
       "      <td>491102.257636</td>\n",
       "      <td>7.736716e+05</td>\n",
       "      <td>174372.329393</td>\n",
       "      <td>173244.012238</td>\n",
       "      <td>347616.341631</td>\n",
       "      <td>67598.1</td>\n",
       "      <td>67185.8</td>\n",
       "    </tr>\n",
       "    <tr>\n",
       "      <th>1</th>\n",
       "      <td>OAS30001</td>\n",
       "      <td>OAS30001_MR_d0129</td>\n",
       "      <td>OAS30001_Freesurfer53_d0129</td>\n",
       "      <td>65.0</td>\n",
       "      <td>F</td>\n",
       "      <td>Cognitively normal</td>\n",
       "      <td>30.0</td>\n",
       "      <td>0.0</td>\n",
       "      <td>23.0</td>\n",
       "      <td>7678.9</td>\n",
       "      <td>...</td>\n",
       "      <td>187528.786036</td>\n",
       "      <td>379446.180091</td>\n",
       "      <td>50687.0</td>\n",
       "      <td>517683.180091</td>\n",
       "      <td>8.105851e+05</td>\n",
       "      <td>184600.488060</td>\n",
       "      <td>182662.445419</td>\n",
       "      <td>367262.933479</td>\n",
       "      <td>70168.1</td>\n",
       "      <td>69483.8</td>\n",
       "    </tr>\n",
       "    <tr>\n",
       "      <th>2</th>\n",
       "      <td>OAS30001</td>\n",
       "      <td>OAS30001_MR_d2430</td>\n",
       "      <td>OAS30001_Freesurfer53_d2430</td>\n",
       "      <td>71.0</td>\n",
       "      <td>F</td>\n",
       "      <td>Cognitively normal</td>\n",
       "      <td>30.0</td>\n",
       "      <td>0.0</td>\n",
       "      <td>23.0</td>\n",
       "      <td>7105.9</td>\n",
       "      <td>...</td>\n",
       "      <td>178872.680224</td>\n",
       "      <td>357784.489639</td>\n",
       "      <td>49058.0</td>\n",
       "      <td>487405.489639</td>\n",
       "      <td>7.779313e+05</td>\n",
       "      <td>175955.968883</td>\n",
       "      <td>178172.812666</td>\n",
       "      <td>354128.781549</td>\n",
       "      <td>67905.7</td>\n",
       "      <td>68000.2</td>\n",
       "    </tr>\n",
       "    <tr>\n",
       "      <th>3</th>\n",
       "      <td>OAS30001</td>\n",
       "      <td>OAS30001_MR_d0757</td>\n",
       "      <td>OAS30001_Freesurfer53_d0757</td>\n",
       "      <td>67.0</td>\n",
       "      <td>F</td>\n",
       "      <td>Cognitively normal</td>\n",
       "      <td>29.0</td>\n",
       "      <td>0.0</td>\n",
       "      <td>23.0</td>\n",
       "      <td>7648.2</td>\n",
       "      <td>...</td>\n",
       "      <td>177566.874682</td>\n",
       "      <td>362040.150904</td>\n",
       "      <td>50071.0</td>\n",
       "      <td>500699.150904</td>\n",
       "      <td>7.993419e+05</td>\n",
       "      <td>185224.779932</td>\n",
       "      <td>188151.990316</td>\n",
       "      <td>373376.770247</td>\n",
       "      <td>69142.3</td>\n",
       "      <td>68558.8</td>\n",
       "    </tr>\n",
       "    <tr>\n",
       "      <th>4</th>\n",
       "      <td>OAS30002</td>\n",
       "      <td>OAS30002_MR_d2345</td>\n",
       "      <td>OAS30002_Freesurfer53_d2345</td>\n",
       "      <td>73.0</td>\n",
       "      <td>M</td>\n",
       "      <td>Cognitively normal</td>\n",
       "      <td>29.0</td>\n",
       "      <td>0.0</td>\n",
       "      <td>34.0</td>\n",
       "      <td>7833.2</td>\n",
       "      <td>...</td>\n",
       "      <td>230240.532783</td>\n",
       "      <td>457342.035802</td>\n",
       "      <td>56773.0</td>\n",
       "      <td>607473.035802</td>\n",
       "      <td>1.051714e+06</td>\n",
       "      <td>239168.338419</td>\n",
       "      <td>245361.377267</td>\n",
       "      <td>484529.715686</td>\n",
       "      <td>83138.1</td>\n",
       "      <td>85742.3</td>\n",
       "    </tr>\n",
       "  </tbody>\n",
       "</table>\n",
       "<p>5 rows × 22 columns</p>\n",
       "</div>"
      ],
      "text/plain": [
       "    Subject              MR ID                           id   Age M/F  \\\n",
       "0  OAS30001  OAS30001_MR_d3132  OAS30001_Freesurfer53_d3132  73.0   F   \n",
       "1  OAS30001  OAS30001_MR_d0129  OAS30001_Freesurfer53_d0129  65.0   F   \n",
       "2  OAS30001  OAS30001_MR_d2430  OAS30001_Freesurfer53_d2430  71.0   F   \n",
       "3  OAS30001  OAS30001_MR_d0757  OAS30001_Freesurfer53_d0757  67.0   F   \n",
       "4  OAS30002  OAS30002_MR_d2345  OAS30002_Freesurfer53_d2345  73.0   M   \n",
       "\n",
       "                  dx1  mmse  cdr  apoe  TOTAL_HIPPOCAMPUS_VOLUME  ...  \\\n",
       "0  Cognitively normal  30.0  0.0  23.0                    6861.9  ...   \n",
       "1  Cognitively normal  30.0  0.0  23.0                    7678.9  ...   \n",
       "2  Cognitively normal  30.0  0.0  23.0                    7105.9  ...   \n",
       "3  Cognitively normal  29.0  0.0  23.0                    7648.2  ...   \n",
       "4  Cognitively normal  29.0  0.0  34.0                    7833.2  ...   \n",
       "\n",
       "     rhCortexVol      CortexVol  SubCortGrayVol   TotalGrayVol  \\\n",
       "0  178031.558882  359975.257636         48400.0  491102.257636   \n",
       "1  187528.786036  379446.180091         50687.0  517683.180091   \n",
       "2  178872.680224  357784.489639         49058.0  487405.489639   \n",
       "3  177566.874682  362040.150904         50071.0  500699.150904   \n",
       "4  230240.532783  457342.035802         56773.0  607473.035802   \n",
       "\n",
       "   SupraTentorialVol  lhCorticalWhiteMatterVol  rhCorticalWhiteMatterVol  \\\n",
       "0       7.736716e+05             174372.329393             173244.012238   \n",
       "1       8.105851e+05             184600.488060             182662.445419   \n",
       "2       7.779313e+05             175955.968883             178172.812666   \n",
       "3       7.993419e+05             185224.779932             188151.990316   \n",
       "4       1.051714e+06             239168.338419             245361.377267   \n",
       "\n",
       "   CorticalWhiteMatterVol  L.SurfArea  R.SurfArea  \n",
       "0           347616.341631     67598.1     67185.8  \n",
       "1           367262.933479     70168.1     69483.8  \n",
       "2           354128.781549     67905.7     68000.2  \n",
       "3           373376.770247     69142.3     68558.8  \n",
       "4           484529.715686     83138.1     85742.3  \n",
       "\n",
       "[5 rows x 22 columns]"
      ]
     },
     "execution_count": 3,
     "metadata": {},
     "output_type": "execute_result"
    }
   ],
   "source": [
    "df.head()"
   ]
  },
  {
   "cell_type": "markdown",
   "id": "e0034bfb-9489-40f4-acb3-c1a8440cfcc7",
   "metadata": {},
   "source": [
    "## Data Preprocessing"
   ]
  },
  {
   "cell_type": "code",
   "execution_count": 4,
   "id": "c6ba578f-9c8e-478c-b5cb-f247fc2b08a3",
   "metadata": {},
   "outputs": [],
   "source": [
    "df = df.dropna(axis=1, how='all') # Drop any empty columns\n",
    "df = df.dropna(axis=0, how='any') # Drop any rows with empty values \n",
    "df = df.rename(columns={'id':'Freesurfer ID', 'dx1':'Diagnosis', \n",
    "                        'TOTAL_HIPPOCAMPUS_VOLUME':'TotalHippocampusVol'}) # Rename columns\n",
    "df = df.drop_duplicates(subset='Subject', keep='first') # Keep only the first visit; this is possible because\n",
    "                                                        # df is sorted by age\n",
    "df = df.reset_index(drop=True) # Reset the index\n",
    "df = df.set_index('Subject')\n",
    "cols = df.columns.tolist()\n",
    "cols[2], cols[4] = cols[4], cols[2]\n",
    "df = df[cols]\n",
    "df.loc[df['cdr'] < 0.5, 'Diagnosis'] = 'control'\n",
    "df.loc[~(df['cdr'] < 0.5), 'Diagnosis'] = 'dementia'\n",
    "df['Diagnosis'].replace(['control','dementia'], [-1,1], inplace=True)\n",
    "df['M/F'].replace(['M','F'], [0,1], inplace=True)\n",
    "df = df.drop(['MR ID', 'Freesurfer ID', 'cdr'], axis=1) # Drop categorical and redundant columns"
   ]
  },
  {
   "cell_type": "code",
   "execution_count": 5,
   "id": "1349bc6e-ea12-467f-bf76-9dabcfeaae24",
   "metadata": {},
   "outputs": [
    {
     "data": {
      "text/html": [
       "<div>\n",
       "<style scoped>\n",
       "    .dataframe tbody tr th:only-of-type {\n",
       "        vertical-align: middle;\n",
       "    }\n",
       "\n",
       "    .dataframe tbody tr th {\n",
       "        vertical-align: top;\n",
       "    }\n",
       "\n",
       "    .dataframe thead th {\n",
       "        text-align: right;\n",
       "    }\n",
       "</style>\n",
       "<table border=\"1\" class=\"dataframe\">\n",
       "  <thead>\n",
       "    <tr style=\"text-align: right;\">\n",
       "      <th></th>\n",
       "      <th>Diagnosis</th>\n",
       "      <th>M/F</th>\n",
       "      <th>Age</th>\n",
       "      <th>mmse</th>\n",
       "      <th>apoe</th>\n",
       "      <th>TotalHippocampusVol</th>\n",
       "      <th>IntraCranialVol</th>\n",
       "      <th>lhCortexVol</th>\n",
       "      <th>rhCortexVol</th>\n",
       "      <th>CortexVol</th>\n",
       "      <th>SubCortGrayVol</th>\n",
       "      <th>TotalGrayVol</th>\n",
       "      <th>SupraTentorialVol</th>\n",
       "      <th>lhCorticalWhiteMatterVol</th>\n",
       "      <th>rhCorticalWhiteMatterVol</th>\n",
       "      <th>CorticalWhiteMatterVol</th>\n",
       "      <th>L.SurfArea</th>\n",
       "      <th>R.SurfArea</th>\n",
       "    </tr>\n",
       "    <tr>\n",
       "      <th>Subject</th>\n",
       "      <th></th>\n",
       "      <th></th>\n",
       "      <th></th>\n",
       "      <th></th>\n",
       "      <th></th>\n",
       "      <th></th>\n",
       "      <th></th>\n",
       "      <th></th>\n",
       "      <th></th>\n",
       "      <th></th>\n",
       "      <th></th>\n",
       "      <th></th>\n",
       "      <th></th>\n",
       "      <th></th>\n",
       "      <th></th>\n",
       "      <th></th>\n",
       "      <th></th>\n",
       "      <th></th>\n",
       "    </tr>\n",
       "  </thead>\n",
       "  <tbody>\n",
       "    <tr>\n",
       "      <th>OAS30001</th>\n",
       "      <td>-1</td>\n",
       "      <td>1</td>\n",
       "      <td>73.0</td>\n",
       "      <td>30.0</td>\n",
       "      <td>23.0</td>\n",
       "      <td>6861.9</td>\n",
       "      <td>1.186091e+06</td>\n",
       "      <td>181943.698754</td>\n",
       "      <td>178031.558882</td>\n",
       "      <td>359975.257636</td>\n",
       "      <td>48400.0</td>\n",
       "      <td>491102.257636</td>\n",
       "      <td>7.736716e+05</td>\n",
       "      <td>174372.329393</td>\n",
       "      <td>173244.012238</td>\n",
       "      <td>347616.341631</td>\n",
       "      <td>67598.1</td>\n",
       "      <td>67185.8</td>\n",
       "    </tr>\n",
       "    <tr>\n",
       "      <th>OAS30002</th>\n",
       "      <td>-1</td>\n",
       "      <td>0</td>\n",
       "      <td>73.0</td>\n",
       "      <td>29.0</td>\n",
       "      <td>34.0</td>\n",
       "      <td>7833.2</td>\n",
       "      <td>1.714636e+06</td>\n",
       "      <td>227101.503019</td>\n",
       "      <td>230240.532783</td>\n",
       "      <td>457342.035802</td>\n",
       "      <td>56773.0</td>\n",
       "      <td>607473.035802</td>\n",
       "      <td>1.051714e+06</td>\n",
       "      <td>239168.338419</td>\n",
       "      <td>245361.377267</td>\n",
       "      <td>484529.715686</td>\n",
       "      <td>83138.1</td>\n",
       "      <td>85742.3</td>\n",
       "    </tr>\n",
       "    <tr>\n",
       "      <th>OAS30003</th>\n",
       "      <td>-1</td>\n",
       "      <td>1</td>\n",
       "      <td>66.0</td>\n",
       "      <td>29.0</td>\n",
       "      <td>33.0</td>\n",
       "      <td>7983.5</td>\n",
       "      <td>1.405092e+06</td>\n",
       "      <td>204825.718573</td>\n",
       "      <td>209641.219733</td>\n",
       "      <td>414466.938306</td>\n",
       "      <td>59379.0</td>\n",
       "      <td>557900.938306</td>\n",
       "      <td>9.299305e+05</td>\n",
       "      <td>213905.159729</td>\n",
       "      <td>222232.368895</td>\n",
       "      <td>436137.528624</td>\n",
       "      <td>76695.5</td>\n",
       "      <td>78697.9</td>\n",
       "    </tr>\n",
       "    <tr>\n",
       "      <th>OAS30004</th>\n",
       "      <td>-1</td>\n",
       "      <td>1</td>\n",
       "      <td>61.0</td>\n",
       "      <td>30.0</td>\n",
       "      <td>23.0</td>\n",
       "      <td>8525.1</td>\n",
       "      <td>1.443177e+06</td>\n",
       "      <td>213861.671106</td>\n",
       "      <td>206884.661369</td>\n",
       "      <td>420746.332475</td>\n",
       "      <td>53910.0</td>\n",
       "      <td>566477.332475</td>\n",
       "      <td>9.709780e+05</td>\n",
       "      <td>242595.702097</td>\n",
       "      <td>233016.992108</td>\n",
       "      <td>475612.694206</td>\n",
       "      <td>87710.1</td>\n",
       "      <td>84634.9</td>\n",
       "    </tr>\n",
       "    <tr>\n",
       "      <th>OAS30005</th>\n",
       "      <td>-1</td>\n",
       "      <td>1</td>\n",
       "      <td>54.0</td>\n",
       "      <td>30.0</td>\n",
       "      <td>33.0</td>\n",
       "      <td>9298.2</td>\n",
       "      <td>1.554566e+06</td>\n",
       "      <td>225743.655875</td>\n",
       "      <td>224311.450543</td>\n",
       "      <td>450055.106418</td>\n",
       "      <td>63545.0</td>\n",
       "      <td>611117.106418</td>\n",
       "      <td>9.867349e+05</td>\n",
       "      <td>229534.963360</td>\n",
       "      <td>230927.823126</td>\n",
       "      <td>460462.786487</td>\n",
       "      <td>82224.0</td>\n",
       "      <td>81421.3</td>\n",
       "    </tr>\n",
       "  </tbody>\n",
       "</table>\n",
       "</div>"
      ],
      "text/plain": [
       "          Diagnosis  M/F   Age  mmse  apoe  TotalHippocampusVol  \\\n",
       "Subject                                                           \n",
       "OAS30001         -1    1  73.0  30.0  23.0               6861.9   \n",
       "OAS30002         -1    0  73.0  29.0  34.0               7833.2   \n",
       "OAS30003         -1    1  66.0  29.0  33.0               7983.5   \n",
       "OAS30004         -1    1  61.0  30.0  23.0               8525.1   \n",
       "OAS30005         -1    1  54.0  30.0  33.0               9298.2   \n",
       "\n",
       "          IntraCranialVol    lhCortexVol    rhCortexVol      CortexVol  \\\n",
       "Subject                                                                  \n",
       "OAS30001     1.186091e+06  181943.698754  178031.558882  359975.257636   \n",
       "OAS30002     1.714636e+06  227101.503019  230240.532783  457342.035802   \n",
       "OAS30003     1.405092e+06  204825.718573  209641.219733  414466.938306   \n",
       "OAS30004     1.443177e+06  213861.671106  206884.661369  420746.332475   \n",
       "OAS30005     1.554566e+06  225743.655875  224311.450543  450055.106418   \n",
       "\n",
       "          SubCortGrayVol   TotalGrayVol  SupraTentorialVol  \\\n",
       "Subject                                                      \n",
       "OAS30001         48400.0  491102.257636       7.736716e+05   \n",
       "OAS30002         56773.0  607473.035802       1.051714e+06   \n",
       "OAS30003         59379.0  557900.938306       9.299305e+05   \n",
       "OAS30004         53910.0  566477.332475       9.709780e+05   \n",
       "OAS30005         63545.0  611117.106418       9.867349e+05   \n",
       "\n",
       "          lhCorticalWhiteMatterVol  rhCorticalWhiteMatterVol  \\\n",
       "Subject                                                        \n",
       "OAS30001             174372.329393             173244.012238   \n",
       "OAS30002             239168.338419             245361.377267   \n",
       "OAS30003             213905.159729             222232.368895   \n",
       "OAS30004             242595.702097             233016.992108   \n",
       "OAS30005             229534.963360             230927.823126   \n",
       "\n",
       "          CorticalWhiteMatterVol  L.SurfArea  R.SurfArea  \n",
       "Subject                                                   \n",
       "OAS30001           347616.341631     67598.1     67185.8  \n",
       "OAS30002           484529.715686     83138.1     85742.3  \n",
       "OAS30003           436137.528624     76695.5     78697.9  \n",
       "OAS30004           475612.694206     87710.1     84634.9  \n",
       "OAS30005           460462.786487     82224.0     81421.3  "
      ]
     },
     "execution_count": 5,
     "metadata": {},
     "output_type": "execute_result"
    }
   ],
   "source": [
    "df.head()"
   ]
  },
  {
   "cell_type": "code",
   "execution_count": 6,
   "id": "faba44a1-89e6-4711-8b53-754ebb83a5ad",
   "metadata": {},
   "outputs": [
    {
     "data": {
      "text/plain": [
       "<AxesSubplot:xlabel='Diagnosis', ylabel='count'>"
      ]
     },
     "execution_count": 6,
     "metadata": {},
     "output_type": "execute_result"
    },
    {
     "data": {
      "image/png": "[encoded data removed]",
      "text/plain": [
       "<Figure size 432x288 with 1 Axes>"
      ]
     },
     "metadata": {
      "needs_background": "light"
     },
     "output_type": "display_data"
    }
   ],
   "source": [
    "sns.countplot(x='Diagnosis', data=df)"
   ]
  },
  {
   "cell_type": "code",
   "execution_count": 7,
   "id": "c41d5858-ab51-4fdb-990a-af46b7af961f",
   "metadata": {},
   "outputs": [],
   "source": [
    "# standard z score scaling\n",
    "def scale(X):\n",
    "    u = np.mean(X)\n",
    "    s = np.std(X)\n",
    "    X_scaled = (X-u)/s\n",
    "    return X_scaled"
   ]
  },
  {
   "cell_type": "markdown",
   "id": "0a3c8263-d8b6-4965-91fb-0aaf265afadb",
   "metadata": {
    "tags": []
   },
   "source": [
    "## SVM Model"
   ]
  },
  {
   "cell_type": "code",
   "execution_count": 8,
   "id": "4508afa2-79ec-49c2-8dec-de034d3f9af3",
   "metadata": {},
   "outputs": [],
   "source": [
    "class SVM:\n",
    "    # Larger lambda gives a wider margin and smaller lambda results in the narrow margin\n",
    "    # for infinitely small λ the SVM becomes hard margin\n",
    "    def __init__(self, learning_rate=0.001, lambd=0.01, iterations=1000, verbose=False):\n",
    "        self.lambd = lambd\n",
    "        self.learning = learning_rate\n",
    "        self.iterations = iterations\n",
    "        self.w = None\n",
    "        self.b = None\n",
    "        self.losses = []\n",
    "        self.verbose = verbose\n",
    "\n",
    "    def fit(self, X, y):\n",
    "        \n",
    "        self.w = np.random.normal(size=X.shape[1])\n",
    "        self.b = np.random.normal()\n",
    "        \n",
    "        y_np = np.array(y)\n",
    "\n",
    "        for i in (tqdm(range(self.iterations)) if self.verbose else range(self.iterations)):\n",
    "            tot_loss = 0\n",
    "            for idx, xi in enumerate(X):\n",
    "                #print(idx, xi)\n",
    "                loss = max(0, 1-(y_np[idx] * (np.dot(self.w, xi) - self.b)))\n",
    "                tot_loss += loss\n",
    "                if y_np[idx] * (np.dot(self.w, xi) - self.b) >= 1:\n",
    "                    dw = 2 * self.lambd * self.w\n",
    "                    #dw = 2 * 1/(i+1) * self.w\n",
    "                    db = 0\n",
    "                    self.w -= self.learning * dw.astype(float)\n",
    "                    self.b -= self.learning * float(db)\n",
    "                else:\n",
    "                    dw = 2 * self.lambd * self.w - np.dot(y_np[idx], xi)\n",
    "                    #dw = 2 * 1/(i+1) * self.w - np.dot(y_np[idx], xi)\n",
    "                    db = y_np[idx]\n",
    "                    self.w -= self.learning * dw.astype(float)\n",
    "                    self.b -= self.learning * float(db)\n",
    "            self.losses.append(tot_loss)\n",
    "\n",
    "    def predict(self, X):\n",
    "        approx = np.dot(X, self.w) - self.b\n",
    "        return np.sign(approx)"
   ]
  },
  {
   "cell_type": "markdown",
   "id": "239724b7-86ed-4404-b1fa-52bda16bcf6e",
   "metadata": {},
   "source": [
    "# PCA\n",
    "* https://jeremykun.com/2012/06/28/principal-component-analysis/\n",
    "* https://www.youtube.com/watch?v=52d7ha-GdV8\n",
    "* https://sebastianraschka.com/Articles/2015_pca_in_3_steps.html"
   ]
  },
  {
   "cell_type": "markdown",
   "id": "6c70624b-a717-4a2b-bf8d-53336fa40067",
   "metadata": {},
   "source": [
    "### How PCA works"
   ]
  },
  {
   "cell_type": "code",
   "execution_count": 9,
   "id": "ca718651-89f7-4ae8-a331-51f873de5417",
   "metadata": {},
   "outputs": [
    {
     "data": {
      "text/html": [
       "<div>\n",
       "<style scoped>\n",
       "    .dataframe tbody tr th:only-of-type {\n",
       "        vertical-align: middle;\n",
       "    }\n",
       "\n",
       "    .dataframe tbody tr th {\n",
       "        vertical-align: top;\n",
       "    }\n",
       "\n",
       "    .dataframe thead th {\n",
       "        text-align: right;\n",
       "    }\n",
       "</style>\n",
       "<table border=\"1\" class=\"dataframe\">\n",
       "  <thead>\n",
       "    <tr style=\"text-align: right;\">\n",
       "      <th></th>\n",
       "      <th>M/F</th>\n",
       "      <th>Age</th>\n",
       "      <th>mmse</th>\n",
       "      <th>apoe</th>\n",
       "      <th>TotalHippocampusVol</th>\n",
       "      <th>IntraCranialVol</th>\n",
       "      <th>lhCortexVol</th>\n",
       "      <th>rhCortexVol</th>\n",
       "      <th>CortexVol</th>\n",
       "      <th>SubCortGrayVol</th>\n",
       "      <th>TotalGrayVol</th>\n",
       "      <th>SupraTentorialVol</th>\n",
       "      <th>lhCorticalWhiteMatterVol</th>\n",
       "      <th>rhCorticalWhiteMatterVol</th>\n",
       "      <th>CorticalWhiteMatterVol</th>\n",
       "      <th>L.SurfArea</th>\n",
       "      <th>R.SurfArea</th>\n",
       "    </tr>\n",
       "    <tr>\n",
       "      <th>Subject</th>\n",
       "      <th></th>\n",
       "      <th></th>\n",
       "      <th></th>\n",
       "      <th></th>\n",
       "      <th></th>\n",
       "      <th></th>\n",
       "      <th></th>\n",
       "      <th></th>\n",
       "      <th></th>\n",
       "      <th></th>\n",
       "      <th></th>\n",
       "      <th></th>\n",
       "      <th></th>\n",
       "      <th></th>\n",
       "      <th></th>\n",
       "      <th></th>\n",
       "      <th></th>\n",
       "    </tr>\n",
       "  </thead>\n",
       "  <tbody>\n",
       "    <tr>\n",
       "      <th>OAS30001</th>\n",
       "      <td>0.890496</td>\n",
       "      <td>0.241677</td>\n",
       "      <td>0.639286</td>\n",
       "      <td>-2.047473</td>\n",
       "      <td>-0.226531</td>\n",
       "      <td>-1.719480</td>\n",
       "      <td>-0.829346</td>\n",
       "      <td>-1.060639</td>\n",
       "      <td>-0.949387</td>\n",
       "      <td>-0.369293</td>\n",
       "      <td>-0.954014</td>\n",
       "      <td>-1.380694</td>\n",
       "      <td>-1.220170</td>\n",
       "      <td>-1.301636</td>\n",
       "      <td>-1.264824</td>\n",
       "      <td>-1.309048</td>\n",
       "      <td>-1.374532</td>\n",
       "    </tr>\n",
       "    <tr>\n",
       "      <th>OAS30002</th>\n",
       "      <td>-1.122970</td>\n",
       "      <td>0.241677</td>\n",
       "      <td>0.373697</td>\n",
       "      <td>0.342734</td>\n",
       "      <td>0.548234</td>\n",
       "      <td>1.147561</td>\n",
       "      <td>1.088129</td>\n",
       "      <td>1.170360</td>\n",
       "      <td>1.134805</td>\n",
       "      <td>-0.109337</td>\n",
       "      <td>1.030542</td>\n",
       "      <td>1.271317</td>\n",
       "      <td>0.902882</td>\n",
       "      <td>1.058231</td>\n",
       "      <td>0.983635</td>\n",
       "      <td>0.567580</td>\n",
       "      <td>0.849847</td>\n",
       "    </tr>\n",
       "    <tr>\n",
       "      <th>OAS30003</th>\n",
       "      <td>0.890496</td>\n",
       "      <td>-0.512009</td>\n",
       "      <td>0.373697</td>\n",
       "      <td>0.125442</td>\n",
       "      <td>0.668121</td>\n",
       "      <td>-0.531532</td>\n",
       "      <td>0.142262</td>\n",
       "      <td>0.290108</td>\n",
       "      <td>0.217039</td>\n",
       "      <td>-0.028428</td>\n",
       "      <td>0.185152</td>\n",
       "      <td>0.109728</td>\n",
       "      <td>0.075130</td>\n",
       "      <td>0.301390</td>\n",
       "      <td>0.188915</td>\n",
       "      <td>-0.210435</td>\n",
       "      <td>0.005431</td>\n",
       "    </tr>\n",
       "    <tr>\n",
       "      <th>OAS30004</th>\n",
       "      <td>0.890496</td>\n",
       "      <td>-1.050357</td>\n",
       "      <td>0.639286</td>\n",
       "      <td>-2.047473</td>\n",
       "      <td>1.100132</td>\n",
       "      <td>-0.324939</td>\n",
       "      <td>0.525944</td>\n",
       "      <td>0.172314</td>\n",
       "      <td>0.351453</td>\n",
       "      <td>-0.198224</td>\n",
       "      <td>0.331412</td>\n",
       "      <td>0.501246</td>\n",
       "      <td>1.015181</td>\n",
       "      <td>0.654291</td>\n",
       "      <td>0.837196</td>\n",
       "      <td>1.119700</td>\n",
       "      <td>0.717102</td>\n",
       "    </tr>\n",
       "    <tr>\n",
       "      <th>OAS30005</th>\n",
       "      <td>0.890496</td>\n",
       "      <td>-1.804043</td>\n",
       "      <td>0.639286</td>\n",
       "      <td>0.125442</td>\n",
       "      <td>1.716801</td>\n",
       "      <td>0.279278</td>\n",
       "      <td>1.030472</td>\n",
       "      <td>0.916997</td>\n",
       "      <td>0.978825</td>\n",
       "      <td>0.100914</td>\n",
       "      <td>1.092687</td>\n",
       "      <td>0.651538</td>\n",
       "      <td>0.587243</td>\n",
       "      <td>0.585928</td>\n",
       "      <td>0.588396</td>\n",
       "      <td>0.457192</td>\n",
       "      <td>0.331886</td>\n",
       "    </tr>\n",
       "  </tbody>\n",
       "</table>\n",
       "</div>"
      ],
      "text/plain": [
       "               M/F       Age      mmse      apoe  TotalHippocampusVol  \\\n",
       "Subject                                                                 \n",
       "OAS30001  0.890496  0.241677  0.639286 -2.047473            -0.226531   \n",
       "OAS30002 -1.122970  0.241677  0.373697  0.342734             0.548234   \n",
       "OAS30003  0.890496 -0.512009  0.373697  0.125442             0.668121   \n",
       "OAS30004  0.890496 -1.050357  0.639286 -2.047473             1.100132   \n",
       "OAS30005  0.890496 -1.804043  0.639286  0.125442             1.716801   \n",
       "\n",
       "          IntraCranialVol  lhCortexVol  rhCortexVol  CortexVol  \\\n",
       "Subject                                                          \n",
       "OAS30001        -1.719480    -0.829346    -1.060639  -0.949387   \n",
       "OAS30002         1.147561     1.088129     1.170360   1.134805   \n",
       "OAS30003        -0.531532     0.142262     0.290108   0.217039   \n",
       "OAS30004        -0.324939     0.525944     0.172314   0.351453   \n",
       "OAS30005         0.279278     1.030472     0.916997   0.978825   \n",
       "\n",
       "          SubCortGrayVol  TotalGrayVol  SupraTentorialVol  \\\n",
       "Subject                                                     \n",
       "OAS30001       -0.369293     -0.954014          -1.380694   \n",
       "OAS30002       -0.109337      1.030542           1.271317   \n",
       "OAS30003       -0.028428      0.185152           0.109728   \n",
       "OAS30004       -0.198224      0.331412           0.501246   \n",
       "OAS30005        0.100914      1.092687           0.651538   \n",
       "\n",
       "          lhCorticalWhiteMatterVol  rhCorticalWhiteMatterVol  \\\n",
       "Subject                                                        \n",
       "OAS30001                 -1.220170                 -1.301636   \n",
       "OAS30002                  0.902882                  1.058231   \n",
       "OAS30003                  0.075130                  0.301390   \n",
       "OAS30004                  1.015181                  0.654291   \n",
       "OAS30005                  0.587243                  0.585928   \n",
       "\n",
       "          CorticalWhiteMatterVol  L.SurfArea  R.SurfArea  \n",
       "Subject                                                   \n",
       "OAS30001               -1.264824   -1.309048   -1.374532  \n",
       "OAS30002                0.983635    0.567580    0.849847  \n",
       "OAS30003                0.188915   -0.210435    0.005431  \n",
       "OAS30004                0.837196    1.119700    0.717102  \n",
       "OAS30005                0.588396    0.457192    0.331886  "
      ]
     },
     "execution_count": 9,
     "metadata": {},
     "output_type": "execute_result"
    }
   ],
   "source": [
    "\"\"\"\n",
    "Load and scale the data along the standard z-score scale\n",
    "\"\"\"\n",
    "X = df.drop(['Diagnosis'], axis=1)\n",
    "y = df['Diagnosis']\n",
    "X_std = scale(X)\n",
    "X_std.head()"
   ]
  },
  {
   "cell_type": "code",
   "execution_count": 10,
   "id": "d7efe27a-bd69-41e0-98e8-4dee35635d0e",
   "metadata": {},
   "outputs": [
    {
     "name": "stdout",
     "output_type": "stream",
     "text": [
      "Eigenvectors \n",
      "[[ 0.165 -0.362 -0.199  0.1    0.056  0.041  0.865 -0.078  0.103  0.146  0.009 -0.003 -0.026  0.007 -0.002  0.    -0.   ]\n",
      " [ 0.101  0.477  0.196 -0.264 -0.367 -0.322  0.385  0.452 -0.119 -0.217  0.005  0.001 -0.03   0.004 -0.007 -0.    -0.   ]\n",
      " [-0.08  -0.454  0.155 -0.227 -0.381 -0.655 -0.105 -0.347  0.024  0.077  0.013 -0.007 -0.013 -0.001  0.004  0.     0.   ]\n",
      " [ 0.     0.087 -0.283  0.818 -0.438 -0.191 -0.08   0.09   0.004  0.009  0.003 -0.001 -0.     0.004 -0.006  0.     0.   ]\n",
      " [-0.188 -0.454  0.065  0.01   0.116 -0.085 -0.127  0.797  0.107  0.259  0.008  0.002  0.053  0.01  -0.     0.    -0.   ]\n",
      " [-0.241  0.373  0.089 -0.032 -0.033 -0.051  0.053 -0.094  0.692  0.49   0.004 -0.004 -0.068  0.215  0.09   0.     0.   ]\n",
      " [-0.292 -0.105  0.215  0.073 -0.141  0.18   0.095 -0.024  0.013 -0.218 -0.469  0.086  0.084  0.009  0.583 -0.038 -0.409]\n",
      " [-0.293 -0.087  0.222  0.069 -0.131  0.188  0.09  -0.043  0.013 -0.21   0.459 -0.114  0.248  0.386 -0.381 -0.038 -0.407]\n",
      " [-0.294 -0.096  0.219  0.071 -0.137  0.185  0.093 -0.034  0.014 -0.215 -0.006 -0.014  0.167  0.198  0.103  0.076  0.812]\n",
      " [-0.07  -0.06  -0.58  -0.416 -0.546  0.372 -0.092  0.056 -0.005  0.129 -0.006 -0.002  0.128  0.011  0.015  0.     0.   ]\n",
      " [-0.299 -0.094  0.111  0.01  -0.17   0.213  0.036  0.01   0.095 -0.145  0.034  0.011 -0.789 -0.325 -0.232  0.    -0.   ]\n",
      " [-0.309  0.086 -0.029  0.01   0.055 -0.07   0.094 -0.043  0.202 -0.088 -0.033  0.037  0.486 -0.729 -0.24   0.    -0.   ]\n",
      " [-0.281  0.042 -0.317 -0.053  0.2   -0.211  0.036  0.004 -0.007 -0.195 -0.323  0.483 -0.05   0.303 -0.304 -0.407  0.038]\n",
      " [-0.281  0.055 -0.321 -0.049  0.207 -0.203  0.032  0.014 -0.013 -0.188  0.334 -0.5   -0.101 -0.041  0.389 -0.408  0.038]\n",
      " [-0.282  0.049 -0.32  -0.051  0.204 -0.208  0.034  0.009 -0.01  -0.192  0.006 -0.009 -0.075  0.131  0.043  0.812 -0.075]\n",
      " [-0.298  0.117  0.06   0.029  0.016 -0.005  0.097 -0.063 -0.464  0.411 -0.421 -0.489  0.004  0.064 -0.272 -0.    -0.   ]\n",
      " [-0.298  0.116  0.055  0.031  0.014  0.003  0.095 -0.064 -0.467  0.395  0.417  0.505 -0.023 -0.114  0.255  0.     0.   ]]\n",
      "\n",
      "Eigenvalues \n",
      "[10.004  1.965  1.279  1.053  0.771  0.675  0.532  0.317  0.189  0.155  0.03   0.004  0.017  0.014  0.012  0.    -0.   ]\n"
     ]
    }
   ],
   "source": [
    "\"\"\"\n",
    "Eigenvectors and eigenvalues of the covariance matrix is essentially the \"core\" of PCA\n",
    "- The eigenvectors, or principal components, determine the directions of the new feature space\n",
    "- The eigenvalues explain the variance of the data along the new feature axes\n",
    "\"\"\"\n",
    "np.set_printoptions(suppress=True, precision=3, linewidth=200)\n",
    "cov = np.cov(X_std.T)\n",
    "eig_vals, eig_vecs = np.linalg.eig(cov)\n",
    "print('Eigenvectors \\n%s' %eig_vecs)\n",
    "print('\\nEigenvalues \\n%s' %eig_vals)"
   ]
  },
  {
   "cell_type": "code",
   "execution_count": 11,
   "id": "3d829038-3aa1-45ce-b67b-943b64f2f88e",
   "metadata": {},
   "outputs": [
    {
     "name": "stdout",
     "output_type": "stream",
     "text": [
      "Eigenvalues in descending order:\n",
      "10.00378 [ 0.165  0.101 -0.08   0.    -0.188 -0.241 -0.292 -0.293 -0.294 -0.07  -0.299 -0.309 -0.281 -0.281 -0.282 -0.298 -0.298]\n",
      "1.96502 [-0.362  0.477 -0.454  0.087 -0.454  0.373 -0.105 -0.087 -0.096 -0.06  -0.094  0.086  0.042  0.055  0.049  0.117  0.116]\n",
      "1.27874 [-0.199  0.196  0.155 -0.283  0.065  0.089  0.215  0.222  0.219 -0.58   0.111 -0.029 -0.317 -0.321 -0.32   0.06   0.055]\n",
      "1.05335 [ 0.1   -0.264 -0.227  0.818  0.01  -0.032  0.073  0.069  0.071 -0.416  0.01   0.01  -0.053 -0.049 -0.051  0.029  0.031]\n",
      "0.77083 [ 0.056 -0.367 -0.381 -0.438  0.116 -0.033 -0.141 -0.131 -0.137 -0.546 -0.17   0.055  0.2    0.207  0.204  0.016  0.014]\n",
      "0.67468 [ 0.041 -0.322 -0.655 -0.191 -0.085 -0.051  0.18   0.188  0.185  0.372  0.213 -0.07  -0.211 -0.203 -0.208 -0.005  0.003]\n",
      "0.53241 [ 0.865  0.385 -0.105 -0.08  -0.127  0.053  0.095  0.09   0.093 -0.092  0.036  0.094  0.036  0.032  0.034  0.097  0.095]\n",
      "0.31694 [-0.078  0.452 -0.347  0.09   0.797 -0.094 -0.024 -0.043 -0.034  0.056  0.01  -0.043  0.004  0.014  0.009 -0.063 -0.064]\n",
      "0.18949 [ 0.103 -0.119  0.024  0.004  0.107  0.692  0.013  0.013  0.014 -0.005  0.095  0.202 -0.007 -0.013 -0.01  -0.464 -0.467]\n",
      "0.15540 [ 0.146 -0.217  0.077  0.009  0.259  0.49  -0.218 -0.21  -0.215  0.129 -0.145 -0.088 -0.195 -0.188 -0.192  0.411  0.395]\n",
      "0.02985 [ 0.009  0.005  0.013  0.003  0.008  0.004 -0.469  0.459 -0.006 -0.006  0.034 -0.033 -0.323  0.334  0.006 -0.421  0.417]\n",
      "0.01673 [-0.026 -0.03  -0.013 -0.     0.053 -0.068  0.084  0.248  0.167  0.128 -0.789  0.486 -0.05  -0.101 -0.075  0.004 -0.023]\n",
      "0.01373 [ 0.007  0.004 -0.001  0.004  0.01   0.215  0.009  0.386  0.198  0.011 -0.325 -0.729  0.303 -0.041  0.131  0.064 -0.114]\n",
      "0.01167 [-0.002 -0.007  0.004 -0.006 -0.     0.09   0.583 -0.381  0.103  0.015 -0.232 -0.24  -0.304  0.389  0.043 -0.272  0.255]\n",
      "0.00403 [-0.003  0.001 -0.007 -0.001  0.002 -0.004  0.086 -0.114 -0.014 -0.002  0.011  0.037  0.483 -0.5   -0.009 -0.489  0.505]\n",
      "0.00000 [-0.    -0.     0.     0.    -0.     0.    -0.409 -0.407  0.812  0.    -0.    -0.     0.038  0.038 -0.075 -0.     0.   ]\n",
      "0.00000 [ 0.    -0.     0.     0.     0.     0.    -0.038 -0.038  0.076  0.     0.     0.    -0.407 -0.408  0.812 -0.     0.   ]\n"
     ]
    }
   ],
   "source": [
    "\"\"\"\n",
    "Eigenvectors with the lowest eigenvalues represents those that can be dropped, since they \n",
    "reveal the least information about the distribution of the data (lowest variance)\n",
    "\"\"\"\n",
    "# Pair up the eigenvectors and eigenvalues as (eigenvalue, eigenvector) tuples\n",
    "eig_pairs = [(np.abs(eig_vals[i]), eig_vecs.T[i,:]) for i in range(len(eig_vals))]\n",
    "\n",
    "# Sort the tuples in descending order\n",
    "eig_pairs.sort(key=lambda x: x[0], reverse=True)\n",
    "\n",
    "\n",
    "# Print out the eigenvalue and eigenvector pairs\n",
    "print('Eigenvalues in descending order:')\n",
    "for i in eig_pairs:\n",
    "    print('%.5f %s' % (i[0], i[1]))"
   ]
  },
  {
   "cell_type": "code",
   "execution_count": 12,
   "id": "13454de7-5ceb-4526-82f4-b60a7eb1919d",
   "metadata": {},
   "outputs": [
    {
     "name": "stdout",
     "output_type": "stream",
     "text": [
      "Top 1 component(s) captures 58.78816002545999% of the variance\n",
      "Top 2 component(s) captures 70.33579220577562% of the variance\n",
      "Top 3 component(s) captures 77.85044358681071% of the variance\n",
      "Top 4 component(s) captures 84.04057678384474% of the variance\n",
      "Top 5 component(s) captures 88.5704143852802% of the variance\n",
      "Top 6 component(s) captures 92.535239673912% of the variance\n",
      "Top 7 component(s) captures 95.66399205071964% of the variance\n",
      "Top 8 component(s) captures 97.52653820460894% of the variance\n",
      "Top 9 component(s) captures 98.64007316537968% of the variance\n",
      "Top 10 component(s) captures 99.55330938350042% of the variance\n",
      "Top 11 component(s) captures 99.7287150618171% of the variance\n",
      "Top 12 component(s) captures 99.82702257424695% of the variance\n",
      "Top 13 component(s) captures 99.90769623398398% of the variance\n",
      "Top 14 component(s) captures 99.97629018534113% of the variance\n",
      "Top 15 component(s) captures 100.00000000000006% of the variance\n",
      "Top 16 component(s) captures 100.00000000000006% of the variance\n",
      "Top 17 component(s) captures 100.00000000000006% of the variance\n"
     ]
    }
   ],
   "source": [
    "\"\"\"\n",
    "To calculate the number of principal components to use for our feature subspace, we \n",
    "can look at the \"explained variance\". This value can be calculated from the eigenvalues, \n",
    "and tells us how much variance can be attributed to each of the principal components\n",
    "\"\"\"\n",
    "total = sum(eig_vals)\n",
    "explained_variance = [(i / total) for i in sorted(eig_vals, reverse=True)]\n",
    "explained_variance = 100 * np.array(explained_variance)\n",
    "cumulative_explained_variance = np.cumsum(explained_variance)\n",
    "\n",
    "for i, value in enumerate(cumulative_explained_variance):\n",
    "    print(f'Top {i+1} component(s) captures {value}% of the variance')"
   ]
  },
  {
   "cell_type": "code",
   "execution_count": 13,
   "id": "c0ae7adb-d6c8-45be-94f6-1e96352100bd",
   "metadata": {},
   "outputs": [
    {
     "data": {
      "image/png": "[encoded data removed]",
      "text/plain": [
       "<Figure size 432x288 with 1 Axes>"
      ]
     },
     "metadata": {
      "needs_background": "light"
     },
     "output_type": "display_data"
    }
   ],
   "source": [
    "plt.figure(figsize=(6, 4))\n",
    "\n",
    "plt.bar(range(1,explained_variance.shape[0]+1), explained_variance, alpha=0.5, align='center',\n",
    "        label='individual explained variance')\n",
    "plt.step(range(1,cumulative_explained_variance.shape[0]+1), cumulative_explained_variance, where='mid',\n",
    "         label='cumulative explained variance')\n",
    "plt.ylabel('Percent of explained variance')\n",
    "plt.xlabel('Principal components')\n",
    "plt.legend(loc='center right')\n",
    "plt.xticks(range(1,explained_variance.shape[0]+1))\n",
    "plt.tight_layout()"
   ]
  },
  {
   "cell_type": "markdown",
   "id": "4a8de9f6-43e1-401c-8870-1791a3d8ee70",
   "metadata": {},
   "source": [
    "### PCA implementation"
   ]
  },
  {
   "cell_type": "code",
   "execution_count": 14,
   "id": "d8ebbc66-c1e3-4dab-a0e7-5000e2ac4019",
   "metadata": {},
   "outputs": [],
   "source": [
    "class PCA:\n",
    "    \n",
    "    def __init__(self, top_k=None):\n",
    "        \"\"\"\n",
    "        Intializes the PCA class\n",
    "        :param top_k: the number used when PCA picks the top k eigenvectors to use, \n",
    "                      None if the PCA will decide by itself\n",
    "        :principal_components: will store the principal components to be used\n",
    "        \"\"\"\n",
    "        self.top_k = top_k\n",
    "        self.principal_components = None\n",
    "    \n",
    "    def fit(self, X, standardized=False, threshold=0.95):\n",
    "        \"\"\"\n",
    "        Fits the PCA by finding and storing the top k eigenvectors\n",
    "        :param X: n x d dataset, where d represents the number of features.\n",
    "        :param standardized: boolean, tells if the dataset X is standardized or not\n",
    "        :param threshold: the explained variance threshold to select the top_k value\n",
    "        \"\"\"\n",
    "        # Standardize the data, if it's not standardized\n",
    "        if not standardized:\n",
    "            X = scale(X)\n",
    "        \n",
    "        # Create the covariance matrix\n",
    "        cov = np.cov(X.T)\n",
    "        \n",
    "        # Perform eigendecomposition on the covariance matrix\n",
    "        eig_vals, eig_vecs = np.linalg.eig(cov)\n",
    "        \n",
    "        # If top_k value was inputted, we compute it ourselves based on the data\n",
    "        if self.top_k == None:\n",
    "            # Find the best number of components that pass the threshold\n",
    "            if threshold > 1:\n",
    "                threshold /= 100\n",
    "            total = sum(eig_vals)\n",
    "            explained_variance = [(i / total) for i in sorted(eig_vals, reverse=True)]\n",
    "            cumulative_explained_variance = np.cumsum(explained_variance)\n",
    "            self.top_k = np.argmax(cumulative_explained_variance > threshold) + 1\n",
    "        \n",
    "        # Pair up the eigenvectors and eigenvalues as (eigenvalue, eigenvector) tuples\n",
    "        eig_pairs = [(np.abs(eig_vals[i]), eig_vecs.T[i,:]) for i in range(len(eig_vals))]\n",
    "\n",
    "        # Sort the tuples in descending order\n",
    "        eig_pairs.sort(key=lambda x: x[0], reverse=True)\n",
    "\n",
    "        self.principal_components = np.array([pair[1] for pair in eig_pairs[0:self.top_k]])\n",
    "        \n",
    "    def transform(self, X, standardized=False):\n",
    "        \"\"\"\n",
    "        Project the data onto the new feature space\n",
    "        :param X: n x d dataset, where d represents the number of features.\n",
    "        :param standardized: boolean, tells if the dataset X is standardized or not\n",
    "        :return X_pca: the resulting transformed dataset\n",
    "        \"\"\"\n",
    "        if not standardized:\n",
    "            X = scale(X)\n",
    "        X_pca = np.dot(X, self.principal_components.T)\n",
    "        return X_pca\n",
    "    \n",
    "    def scale(X):\n",
    "        u = np.mean(X)\n",
    "        s = np.std(X)\n",
    "        X_scaled = (X-u)/s\n",
    "        return X_scaled"
   ]
  },
  {
   "cell_type": "code",
   "execution_count": 15,
   "id": "426da211-243c-42a3-a565-ae24cbe042bf",
   "metadata": {},
   "outputs": [],
   "source": [
    "pca = PCA()\n",
    "pca.fit(X, threshold=0.99)"
   ]
  },
  {
   "cell_type": "code",
   "execution_count": 16,
   "id": "6bf802f7-eaa5-4828-a7cb-32e82ae840c2",
   "metadata": {},
   "outputs": [
    {
     "name": "stdout",
     "output_type": "stream",
     "text": [
      "[[ 0.165  0.101 -0.08   0.    -0.188 -0.241 -0.292 -0.293 -0.294 -0.07  -0.299 -0.309 -0.281 -0.281 -0.282 -0.298 -0.298]\n",
      " [-0.362  0.477 -0.454  0.087 -0.454  0.373 -0.105 -0.087 -0.096 -0.06  -0.094  0.086  0.042  0.055  0.049  0.117  0.116]\n",
      " [-0.199  0.196  0.155 -0.283  0.065  0.089  0.215  0.222  0.219 -0.58   0.111 -0.029 -0.317 -0.321 -0.32   0.06   0.055]\n",
      " [ 0.1   -0.264 -0.227  0.818  0.01  -0.032  0.073  0.069  0.071 -0.416  0.01   0.01  -0.053 -0.049 -0.051  0.029  0.031]\n",
      " [ 0.056 -0.367 -0.381 -0.438  0.116 -0.033 -0.141 -0.131 -0.137 -0.546 -0.17   0.055  0.2    0.207  0.204  0.016  0.014]\n",
      " [ 0.041 -0.322 -0.655 -0.191 -0.085 -0.051  0.18   0.188  0.185  0.372  0.213 -0.07  -0.211 -0.203 -0.208 -0.005  0.003]\n",
      " [ 0.865  0.385 -0.105 -0.08  -0.127  0.053  0.095  0.09   0.093 -0.092  0.036  0.094  0.036  0.032  0.034  0.097  0.095]\n",
      " [-0.078  0.452 -0.347  0.09   0.797 -0.094 -0.024 -0.043 -0.034  0.056  0.01  -0.043  0.004  0.014  0.009 -0.063 -0.064]\n",
      " [ 0.103 -0.119  0.024  0.004  0.107  0.692  0.013  0.013  0.014 -0.005  0.095  0.202 -0.007 -0.013 -0.01  -0.464 -0.467]\n",
      " [ 0.146 -0.217  0.077  0.009  0.259  0.49  -0.218 -0.21  -0.215  0.129 -0.145 -0.088 -0.195 -0.188 -0.192  0.411  0.395]]\n"
     ]
    }
   ],
   "source": [
    "print(pca.principal_components)"
   ]
  },
  {
   "cell_type": "code",
   "execution_count": 17,
   "id": "361fad83-7f9e-4d97-87d6-ffa274121930",
   "metadata": {},
   "outputs": [],
   "source": [
    "X_pca = pca.transform(X)"
   ]
  },
  {
   "cell_type": "markdown",
   "id": "cc531d9d-1442-4a35-876f-ed88752d7b99",
   "metadata": {},
   "source": [
    "### Evaluating PCA"
   ]
  },
  {
   "cell_type": "code",
   "execution_count": 18,
   "id": "640b6ffb-312d-431e-ba4d-beac234efc64",
   "metadata": {},
   "outputs": [
    {
     "data": {
      "text/plain": [
       "((1022, 10), (1022, 17))"
      ]
     },
     "execution_count": 18,
     "metadata": {},
     "output_type": "execute_result"
    }
   ],
   "source": [
    "X_pca.shape, X.shape"
   ]
  },
  {
   "cell_type": "code",
   "execution_count": 29,
   "id": "ca56cb89-2047-45d1-9e0e-ce94969b3855",
   "metadata": {},
   "outputs": [],
   "source": [
    "def test_pca(dataset, data_y, data_type):\n",
    "    print(f'Data Type: {data_type}')\n",
    "    X_train, X_test, y_train, y_test = train_test_split(dataset, data_y, test_size=0.2, random_state=32)\n",
    "    print(X_train.shape, X_test.shape, y_train.shape, y_test.shape)\n",
    "    X_train = scale(X_train)\n",
    "    X_test = scale(X_test)\n",
    "    model = SVM(verbose=True)\n",
    "    model.fit(np.array(X_train), y_train)\n",
    "    predictions = model.predict(X_test)\n",
    "    correct_preds = np.sum(predictions == y_test)\n",
    "    print(f'Accuracy: {correct_preds/y_test.size}')"
   ]
  },
  {
   "cell_type": "code",
   "execution_count": 30,
   "id": "9c4a3d23-00e3-4b6a-9497-b90ad45b2328",
   "metadata": {},
   "outputs": [
    {
     "name": "stdout",
     "output_type": "stream",
     "text": [
      "Data Type: Original\n",
      "(817, 17) (205, 17) (817,) (205,)\n"
     ]
    },
    {
     "data": {
      "application/vnd.jupyter.widget-view+json": {
       "model_id": "3c8b0cd93c2c454cb503aba2de2f2e25",
       "version_major": 2,
       "version_minor": 0
      },
      "text/plain": [
       "  0%|          | 0/1000 [00:00<?, ?it/s]"
      ]
     },
     "metadata": {},
     "output_type": "display_data"
    },
    {
     "name": "stdout",
     "output_type": "stream",
     "text": [
      "Accuracy: 0.8829268292682927\n"
     ]
    }
   ],
   "source": [
    "# Original dataset\n",
    "test_pca(X, y, \"Original\")"
   ]
  },
  {
   "cell_type": "code",
   "execution_count": 31,
   "id": "5d217c4d-b7c0-4771-9f6e-c617ed93e185",
   "metadata": {},
   "outputs": [
    {
     "name": "stdout",
     "output_type": "stream",
     "text": [
      "Data Type: My PCA\n",
      "(817, 10) (205, 10) (817,) (205,)\n"
     ]
    },
    {
     "data": {
      "application/vnd.jupyter.widget-view+json": {
       "model_id": "d23fd4e166f4450cbb24f0014ecd5c8b",
       "version_major": 2,
       "version_minor": 0
      },
      "text/plain": [
       "  0%|          | 0/1000 [00:00<?, ?it/s]"
      ]
     },
     "metadata": {},
     "output_type": "display_data"
    },
    {
     "name": "stdout",
     "output_type": "stream",
     "text": [
      "Accuracy: 0.9073170731707317\n"
     ]
    }
   ],
   "source": [
    "# PCA-transformed dataset\n",
    "test_pca(X_pca, y, \"My PCA\")"
   ]
  },
  {
   "cell_type": "code",
   "execution_count": 32,
   "id": "f1288d5e-0017-418e-b8cd-42ae39629e58",
   "metadata": {},
   "outputs": [],
   "source": [
    "# Testing with sklearn to compare\n",
    "from sklearn.decomposition import PCA as sklearnPCA\n",
    "sklearn_pca = sklearnPCA(n_components=10)\n",
    "# Since sklearn doesn't standardize, we'll have to do it beforehand\n",
    "X_sk_std = scale(X)\n",
    "X_pca_sklearn = sklearn_pca.fit_transform(X_sk_std)"
   ]
  },
  {
   "cell_type": "code",
   "execution_count": 33,
   "id": "d1616d48-284b-4830-8e61-cdb1f6f4b59d",
   "metadata": {},
   "outputs": [
    {
     "name": "stdout",
     "output_type": "stream",
     "text": [
      "Data Type: SKLearn PCA\n",
      "(817, 10) (205, 10) (817,) (205,)\n"
     ]
    },
    {
     "data": {
      "application/vnd.jupyter.widget-view+json": {
       "model_id": "e5917d0ef3db40eebb1f0763e167443c",
       "version_major": 2,
       "version_minor": 0
      },
      "text/plain": [
       "  0%|          | 0/1000 [00:00<?, ?it/s]"
      ]
     },
     "metadata": {},
     "output_type": "display_data"
    },
    {
     "name": "stdout",
     "output_type": "stream",
     "text": [
      "Accuracy: 0.8975609756097561\n"
     ]
    }
   ],
   "source": [
    "# PCA-transformed dataset\n",
    "test_pca(X_pca_sklearn, y, \"SKLearn PCA\")"
   ]
  }
 ],
 "metadata": {
  "kernelspec": {
   "display_name": "Python 3",
   "language": "python",
   "name": "python3"
  },
  "language_info": {
   "codemirror_mode": {
    "name": "ipython",
    "version": 3
   },
   "file_extension": ".py",
   "mimetype": "text/x-python",
   "name": "python",
   "nbconvert_exporter": "python",
   "pygments_lexer": "ipython3",
   "version": "3.8.8"
  }
 },
 "nbformat": 4,
 "nbformat_minor": 5
}
