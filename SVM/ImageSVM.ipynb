{
 "cells": [
  {
   "cell_type": "markdown",
   "id": "b2ce9472-e54b-4d5e-97e4-95aaa820fb47",
   "metadata": {},
   "source": [
    "# SVM - Jack Le - Polygence\n",
    "\n",
    "\n",
    "### Data Use Agreements\n",
    "The data used for this project were provided in part by OASIS and ADNI.\n",
    "\n",
    "OASIS-3: Principal Investigators: T. Benzinger, D. Marcus, J. Morris; NIH P50 AG00561, P30 NS09857781, P01 AG026276, P01 AG003991, R01 AG043434, UL1 TR000448, R01 EB009352. AV-45 doses were provided by Avid Radiopharmaceuticals, a wholly owned subsidiary of Eli Lilly.\n",
    "\n",
    "Data collection for this project was done through the Alzheimer's Disease Neuroimaging Initiative (ADNI) (National Institutes of Health Grant U01 AG024904) and DOD ADNI (Department of Defense award number W81XWH-12-2-0012). ADNI is funded by the National Institute on Aging, the National Institute of Biomedical Imaging and Bioengineering, and through generous contributions from the following: AbbVie, Alzheimer’s Association; Alzheimer’s Drug Discovery Foundation; Araclon Biotech; BioClinica, Inc.; Biogen; Bristol-Myers Squibb Company; CereSpir, Inc.; Cogstate; Eisai Inc.; Elan Pharmaceuticals, Inc.; Eli Lilly and Company; EuroImmun; F. Hoffmann-La Roche Ltd and its affiliated company Genentech, Inc.; Fujirebio; GE Healthcare; IXICO Ltd.; Janssen Alzheimer Immunotherapy Research & Development, LLC.; Johnson & Johnson Pharmaceutical Research & Development LLC.; Lumosity; Lundbeck; Merck & Co., Inc.; Meso Scale Diagnostics, LLC.; NeuroRx Research; Neurotrack Technologies; Novartis Pharmaceuticals Corporation; Pfizer Inc.; Piramal Imaging; Servier; Takeda Pharmaceutical Company; and Transition Therapeutics. The Canadian Institutes of Health Research is providing funds to support ADNI clinical sites in Canada. Private sector contributions are facilitated by the Foundation for the National Institutes of Health (www.fnih.org). The grantee organization is the Northern California Institute for Research and Education, and the study is coordinated by the Alzheimer’s Therapeutic Research Institute at the University of Southern California. ADNI data are disseminated by the Laboratory for Neuro Imaging at the University of Southern California."
   ]
  },
  {
   "cell_type": "markdown",
   "id": "e5e22dd9-510b-4e3d-a753-05d798663b9f",
   "metadata": {},
   "source": [
    "## Working with Image Data using IncrementalPCA and SGDClassifer\n",
    "Steps\n",
    "1. load the data and read the paths to each image file and save it to an img_paths array\n",
    "2. split the img_paths array into a training and testing set\n",
    "3. loop through the training set of img_paths list in batches of __ (choose size of batch)\n",
    "4. loop through the batch, using nibabel to load the image data of each scan, then flatten it using numpy\n",
    "5. append this flattened array to a list\n",
    "6. pass the list into IncrementalPCA partial_fit\n",
    "7. once all batches are looped through and IncrementalPCA is fully fit, loop through each batch again and apply the transformation\n",
    "8. pass this transformed batch into the partial_fit method of SGDCLassifer\n",
    "9. once SGD is fully fit, loop through the testing set in batches and apply pca to each batch, then use that batch to predict results\n",
    "10. compare results to find accuracy"
   ]
  },
  {
   "cell_type": "markdown",
   "id": "10c4224c-f46e-4113-bc91-84329a60cbf6",
   "metadata": {},
   "source": [
    "### Imports"
   ]
  },
  {
   "cell_type": "code",
   "execution_count": 1,
   "id": "22b02c0f-1061-45da-abc4-43d85856b083",
   "metadata": {},
   "outputs": [],
   "source": [
    "import os\n",
    "import pandas as pd\n",
    "pd.set_option('display.max_colwidth', None)\n",
    "import matplotlib.pyplot as plt\n",
    "import seaborn as sns\n",
    "import numpy as np\n",
    "\n",
    "import nibabel.freesurfer.mghformat as mgh\n",
    "\n",
    "from tqdm.notebook import tqdm\n",
    "\n",
    "from sklearn.svm import SVC\n",
    "from sklearn.linear_model import SGDClassifier\n",
    "from sklearn.decomposition import IncrementalPCA\n",
    "from sklearn.preprocessing import StandardScaler\n",
    "from sklearn.model_selection import train_test_split\n",
    "from sklearn.metrics import confusion_matrix, classification_report"
   ]
  },
  {
   "cell_type": "markdown",
   "id": "9b59d44b-39bb-4240-b7ba-4343870b8577",
   "metadata": {},
   "source": [
    "### Read in csv data for organization"
   ]
  },
  {
   "cell_type": "code",
   "execution_count": 2,
   "id": "c935331d-5cb0-493a-85f9-d18236be4852",
   "metadata": {},
   "outputs": [
    {
     "data": {
      "text/html": [
       "<div>\n",
       "<style scoped>\n",
       "    .dataframe tbody tr th:only-of-type {\n",
       "        vertical-align: middle;\n",
       "    }\n",
       "\n",
       "    .dataframe tbody tr th {\n",
       "        vertical-align: top;\n",
       "    }\n",
       "\n",
       "    .dataframe thead th {\n",
       "        text-align: right;\n",
       "    }\n",
       "</style>\n",
       "<table border=\"1\" class=\"dataframe\">\n",
       "  <thead>\n",
       "    <tr style=\"text-align: right;\">\n",
       "      <th></th>\n",
       "      <th>Subject</th>\n",
       "      <th>MR ID</th>\n",
       "      <th>id</th>\n",
       "      <th>Age</th>\n",
       "      <th>M/F</th>\n",
       "      <th>dx1</th>\n",
       "      <th>mmse</th>\n",
       "      <th>cdr</th>\n",
       "      <th>apoe</th>\n",
       "      <th>TOTAL_HIPPOCAMPUS_VOLUME</th>\n",
       "      <th>...</th>\n",
       "      <th>rhCortexVol</th>\n",
       "      <th>CortexVol</th>\n",
       "      <th>SubCortGrayVol</th>\n",
       "      <th>TotalGrayVol</th>\n",
       "      <th>SupraTentorialVol</th>\n",
       "      <th>lhCorticalWhiteMatterVol</th>\n",
       "      <th>rhCorticalWhiteMatterVol</th>\n",
       "      <th>CorticalWhiteMatterVol</th>\n",
       "      <th>L.SurfArea</th>\n",
       "      <th>R.SurfArea</th>\n",
       "    </tr>\n",
       "  </thead>\n",
       "  <tbody>\n",
       "    <tr>\n",
       "      <th>0</th>\n",
       "      <td>OAS30001</td>\n",
       "      <td>OAS30001_MR_d3132</td>\n",
       "      <td>OAS30001_Freesurfer53_d3132</td>\n",
       "      <td>73.0</td>\n",
       "      <td>F</td>\n",
       "      <td>Cognitively normal</td>\n",
       "      <td>30.0</td>\n",
       "      <td>0.0</td>\n",
       "      <td>23.0</td>\n",
       "      <td>6861.9</td>\n",
       "      <td>...</td>\n",
       "      <td>178031.558882</td>\n",
       "      <td>359975.257636</td>\n",
       "      <td>48400.0</td>\n",
       "      <td>491102.257636</td>\n",
       "      <td>7.736716e+05</td>\n",
       "      <td>174372.329393</td>\n",
       "      <td>173244.012238</td>\n",
       "      <td>347616.341631</td>\n",
       "      <td>67598.1</td>\n",
       "      <td>67185.8</td>\n",
       "    </tr>\n",
       "    <tr>\n",
       "      <th>1</th>\n",
       "      <td>OAS30001</td>\n",
       "      <td>OAS30001_MR_d0129</td>\n",
       "      <td>OAS30001_Freesurfer53_d0129</td>\n",
       "      <td>65.0</td>\n",
       "      <td>F</td>\n",
       "      <td>Cognitively normal</td>\n",
       "      <td>30.0</td>\n",
       "      <td>0.0</td>\n",
       "      <td>23.0</td>\n",
       "      <td>7678.9</td>\n",
       "      <td>...</td>\n",
       "      <td>187528.786036</td>\n",
       "      <td>379446.180091</td>\n",
       "      <td>50687.0</td>\n",
       "      <td>517683.180091</td>\n",
       "      <td>8.105851e+05</td>\n",
       "      <td>184600.488060</td>\n",
       "      <td>182662.445419</td>\n",
       "      <td>367262.933479</td>\n",
       "      <td>70168.1</td>\n",
       "      <td>69483.8</td>\n",
       "    </tr>\n",
       "    <tr>\n",
       "      <th>2</th>\n",
       "      <td>OAS30001</td>\n",
       "      <td>OAS30001_MR_d2430</td>\n",
       "      <td>OAS30001_Freesurfer53_d2430</td>\n",
       "      <td>71.0</td>\n",
       "      <td>F</td>\n",
       "      <td>Cognitively normal</td>\n",
       "      <td>30.0</td>\n",
       "      <td>0.0</td>\n",
       "      <td>23.0</td>\n",
       "      <td>7105.9</td>\n",
       "      <td>...</td>\n",
       "      <td>178872.680224</td>\n",
       "      <td>357784.489639</td>\n",
       "      <td>49058.0</td>\n",
       "      <td>487405.489639</td>\n",
       "      <td>7.779313e+05</td>\n",
       "      <td>175955.968883</td>\n",
       "      <td>178172.812666</td>\n",
       "      <td>354128.781549</td>\n",
       "      <td>67905.7</td>\n",
       "      <td>68000.2</td>\n",
       "    </tr>\n",
       "    <tr>\n",
       "      <th>3</th>\n",
       "      <td>OAS30001</td>\n",
       "      <td>OAS30001_MR_d0757</td>\n",
       "      <td>OAS30001_Freesurfer53_d0757</td>\n",
       "      <td>67.0</td>\n",
       "      <td>F</td>\n",
       "      <td>Cognitively normal</td>\n",
       "      <td>29.0</td>\n",
       "      <td>0.0</td>\n",
       "      <td>23.0</td>\n",
       "      <td>7648.2</td>\n",
       "      <td>...</td>\n",
       "      <td>177566.874682</td>\n",
       "      <td>362040.150904</td>\n",
       "      <td>50071.0</td>\n",
       "      <td>500699.150904</td>\n",
       "      <td>7.993419e+05</td>\n",
       "      <td>185224.779932</td>\n",
       "      <td>188151.990316</td>\n",
       "      <td>373376.770247</td>\n",
       "      <td>69142.3</td>\n",
       "      <td>68558.8</td>\n",
       "    </tr>\n",
       "    <tr>\n",
       "      <th>4</th>\n",
       "      <td>OAS30002</td>\n",
       "      <td>OAS30002_MR_d2345</td>\n",
       "      <td>OAS30002_Freesurfer53_d2345</td>\n",
       "      <td>73.0</td>\n",
       "      <td>M</td>\n",
       "      <td>Cognitively normal</td>\n",
       "      <td>29.0</td>\n",
       "      <td>0.0</td>\n",
       "      <td>34.0</td>\n",
       "      <td>7833.2</td>\n",
       "      <td>...</td>\n",
       "      <td>230240.532783</td>\n",
       "      <td>457342.035802</td>\n",
       "      <td>56773.0</td>\n",
       "      <td>607473.035802</td>\n",
       "      <td>1.051714e+06</td>\n",
       "      <td>239168.338419</td>\n",
       "      <td>245361.377267</td>\n",
       "      <td>484529.715686</td>\n",
       "      <td>83138.1</td>\n",
       "      <td>85742.3</td>\n",
       "    </tr>\n",
       "  </tbody>\n",
       "</table>\n",
       "<p>5 rows × 22 columns</p>\n",
       "</div>"
      ],
      "text/plain": [
       "    Subject              MR ID                           id   Age M/F  \\\n",
       "0  OAS30001  OAS30001_MR_d3132  OAS30001_Freesurfer53_d3132  73.0   F   \n",
       "1  OAS30001  OAS30001_MR_d0129  OAS30001_Freesurfer53_d0129  65.0   F   \n",
       "2  OAS30001  OAS30001_MR_d2430  OAS30001_Freesurfer53_d2430  71.0   F   \n",
       "3  OAS30001  OAS30001_MR_d0757  OAS30001_Freesurfer53_d0757  67.0   F   \n",
       "4  OAS30002  OAS30002_MR_d2345  OAS30002_Freesurfer53_d2345  73.0   M   \n",
       "\n",
       "                  dx1  mmse  cdr  apoe  TOTAL_HIPPOCAMPUS_VOLUME  ...  \\\n",
       "0  Cognitively normal  30.0  0.0  23.0                    6861.9  ...   \n",
       "1  Cognitively normal  30.0  0.0  23.0                    7678.9  ...   \n",
       "2  Cognitively normal  30.0  0.0  23.0                    7105.9  ...   \n",
       "3  Cognitively normal  29.0  0.0  23.0                    7648.2  ...   \n",
       "4  Cognitively normal  29.0  0.0  34.0                    7833.2  ...   \n",
       "\n",
       "     rhCortexVol      CortexVol  SubCortGrayVol   TotalGrayVol  \\\n",
       "0  178031.558882  359975.257636         48400.0  491102.257636   \n",
       "1  187528.786036  379446.180091         50687.0  517683.180091   \n",
       "2  178872.680224  357784.489639         49058.0  487405.489639   \n",
       "3  177566.874682  362040.150904         50071.0  500699.150904   \n",
       "4  230240.532783  457342.035802         56773.0  607473.035802   \n",
       "\n",
       "   SupraTentorialVol  lhCorticalWhiteMatterVol  rhCorticalWhiteMatterVol  \\\n",
       "0       7.736716e+05             174372.329393             173244.012238   \n",
       "1       8.105851e+05             184600.488060             182662.445419   \n",
       "2       7.779313e+05             175955.968883             178172.812666   \n",
       "3       7.993419e+05             185224.779932             188151.990316   \n",
       "4       1.051714e+06             239168.338419             245361.377267   \n",
       "\n",
       "   CorticalWhiteMatterVol  L.SurfArea  R.SurfArea  \n",
       "0           347616.341631     67598.1     67185.8  \n",
       "1           367262.933479     70168.1     69483.8  \n",
       "2           354128.781549     67905.7     68000.2  \n",
       "3           373376.770247     69142.3     68558.8  \n",
       "4           484529.715686     83138.1     85742.3  \n",
       "\n",
       "[5 rows x 22 columns]"
      ]
     },
     "execution_count": 2,
     "metadata": {},
     "output_type": "execute_result"
    }
   ],
   "source": [
    "rootdir = '/home/jack/Code/GitHub/Polygence/'\n",
    "df = pd.read_csv(rootdir + 'Data/OASIS/oasis_3.csv')\n",
    "df.head()"
   ]
  },
  {
   "cell_type": "code",
   "execution_count": 3,
   "id": "927c20ba-b8ab-44ed-9bf0-5eaf37931d71",
   "metadata": {},
   "outputs": [
    {
     "name": "stdout",
     "output_type": "stream",
     "text": [
      "(1022, 4)\n"
     ]
    }
   ],
   "source": [
    "df = df.dropna(axis=1, how='all') # Drop any empty columns\n",
    "df = df.dropna(axis=0, how='any') # Drop any rows with empty values \n",
    "df = df.rename(columns={'id':'FS ID', 'dx1':'Diagnosis'}) # Rename columns\n",
    "df = df.drop_duplicates(subset='Subject', keep='first') # Keep only the first visit\n",
    "df = df.reset_index(drop=True) # Reset the index\n",
    "df.loc[df['cdr'] < 0.5, 'Diagnosis'] = 'control'\n",
    "df.loc[~(df['cdr'] < 0.5), 'Diagnosis'] = 'dementia'\n",
    "df['Diagnosis'].replace(['control','dementia'], [-1,1], inplace=True)\n",
    "df = df.drop(df.columns.difference(['Subject', 'MR ID', 'FS ID', 'Diagnosis']), 1) # Drop all columns unless needed\n",
    "print(df.shape)"
   ]
  },
  {
   "cell_type": "code",
   "execution_count": 4,
   "id": "e07b42ba-f71a-426a-8705-bd7e97c04add",
   "metadata": {},
   "outputs": [
    {
     "data": {
      "text/html": [
       "<div>\n",
       "<style scoped>\n",
       "    .dataframe tbody tr th:only-of-type {\n",
       "        vertical-align: middle;\n",
       "    }\n",
       "\n",
       "    .dataframe tbody tr th {\n",
       "        vertical-align: top;\n",
       "    }\n",
       "\n",
       "    .dataframe thead th {\n",
       "        text-align: right;\n",
       "    }\n",
       "</style>\n",
       "<table border=\"1\" class=\"dataframe\">\n",
       "  <thead>\n",
       "    <tr style=\"text-align: right;\">\n",
       "      <th></th>\n",
       "      <th>Subject</th>\n",
       "      <th>MR ID</th>\n",
       "      <th>FS ID</th>\n",
       "      <th>Diagnosis</th>\n",
       "    </tr>\n",
       "  </thead>\n",
       "  <tbody>\n",
       "    <tr>\n",
       "      <th>0</th>\n",
       "      <td>OAS30001</td>\n",
       "      <td>OAS30001_MR_d3132</td>\n",
       "      <td>OAS30001_Freesurfer53_d3132</td>\n",
       "      <td>-1</td>\n",
       "    </tr>\n",
       "    <tr>\n",
       "      <th>1</th>\n",
       "      <td>OAS30002</td>\n",
       "      <td>OAS30002_MR_d2345</td>\n",
       "      <td>OAS30002_Freesurfer53_d2345</td>\n",
       "      <td>-1</td>\n",
       "    </tr>\n",
       "    <tr>\n",
       "      <th>2</th>\n",
       "      <td>OAS30003</td>\n",
       "      <td>OAS30003_MR_d2682</td>\n",
       "      <td>OAS30003_Freesurfer53_d2682</td>\n",
       "      <td>-1</td>\n",
       "    </tr>\n",
       "    <tr>\n",
       "      <th>3</th>\n",
       "      <td>OAS30004</td>\n",
       "      <td>OAS30004_MR_d2232</td>\n",
       "      <td>OAS30004_Freesurfer53_d2232</td>\n",
       "      <td>-1</td>\n",
       "    </tr>\n",
       "    <tr>\n",
       "      <th>4</th>\n",
       "      <td>OAS30005</td>\n",
       "      <td>OAS30005_MR_d2377</td>\n",
       "      <td>OAS30005_Freesurfer53_d2377</td>\n",
       "      <td>-1</td>\n",
       "    </tr>\n",
       "  </tbody>\n",
       "</table>\n",
       "</div>"
      ],
      "text/plain": [
       "    Subject              MR ID                        FS ID  Diagnosis\n",
       "0  OAS30001  OAS30001_MR_d3132  OAS30001_Freesurfer53_d3132         -1\n",
       "1  OAS30002  OAS30002_MR_d2345  OAS30002_Freesurfer53_d2345         -1\n",
       "2  OAS30003  OAS30003_MR_d2682  OAS30003_Freesurfer53_d2682         -1\n",
       "3  OAS30004  OAS30004_MR_d2232  OAS30004_Freesurfer53_d2232         -1\n",
       "4  OAS30005  OAS30005_MR_d2377  OAS30005_Freesurfer53_d2377         -1"
      ]
     },
     "execution_count": 4,
     "metadata": {},
     "output_type": "execute_result"
    }
   ],
   "source": [
    "df.head()"
   ]
  },
  {
   "cell_type": "code",
   "execution_count": 5,
   "id": "9b8d9094-3409-49b1-a07a-aab79a1356c2",
   "metadata": {},
   "outputs": [
    {
     "data": {
      "text/plain": [
       "Text(0.5, 1.0, '-1 is control, 1 is dementia')"
      ]
     },
     "execution_count": 5,
     "metadata": {},
     "output_type": "execute_result"
    },
    {
     "data": {
      "image/png": "[encoded data removed]",
      "text/plain": [
       "<Figure size 432x288 with 1 Axes>"
      ]
     },
     "metadata": {
      "needs_background": "light"
     },
     "output_type": "display_data"
    }
   ],
   "source": [
    "sns.countplot(x='Diagnosis', data=df)\n",
    "plt.title('-1 is control, 1 is dementia')"
   ]
  },
  {
   "cell_type": "markdown",
   "id": "e2f84a4b-32e0-4fb2-919d-4de0c2eb378a",
   "metadata": {},
   "source": [
    "### Step 1 - Load the data and add paths onto the df"
   ]
  },
  {
   "cell_type": "code",
   "execution_count": 6,
   "id": "2296df60-e1ba-48dc-b572-1a5fa3dac962",
   "metadata": {},
   "outputs": [
    {
     "name": "stdout",
     "output_type": "stream",
     "text": [
      "(1022, 5)\n"
     ]
    }
   ],
   "source": [
    "data_dir = rootdir + 'Data/OASIS/data/'\n",
    "ids = os.listdir(data_dir)\n",
    "for id in ids:\n",
    "    mr_dir = os.path.join(data_dir, id)\n",
    "    img_file = [file for file in os.listdir(mr_dir) if \"transformed\" in file]\n",
    "    img_path = os.path.join(mr_dir, img_file[0])\n",
    "    \n",
    "    mr_id = mr_dir[mr_dir.rfind('/')+1:]\n",
    "    df.loc[df['MR ID'] == mr_id, 'Path'] = img_path\n",
    "\n",
    "print(df.shape)"
   ]
  },
  {
   "cell_type": "code",
   "execution_count": 7,
   "id": "8a183f50-991c-4842-b6ee-fde9bb1b8bd8",
   "metadata": {},
   "outputs": [
    {
     "data": {
      "text/html": [
       "<div>\n",
       "<style scoped>\n",
       "    .dataframe tbody tr th:only-of-type {\n",
       "        vertical-align: middle;\n",
       "    }\n",
       "\n",
       "    .dataframe tbody tr th {\n",
       "        vertical-align: top;\n",
       "    }\n",
       "\n",
       "    .dataframe thead th {\n",
       "        text-align: right;\n",
       "    }\n",
       "</style>\n",
       "<table border=\"1\" class=\"dataframe\">\n",
       "  <thead>\n",
       "    <tr style=\"text-align: right;\">\n",
       "      <th></th>\n",
       "      <th>Subject</th>\n",
       "      <th>MR ID</th>\n",
       "      <th>FS ID</th>\n",
       "      <th>Diagnosis</th>\n",
       "      <th>Path</th>\n",
       "    </tr>\n",
       "  </thead>\n",
       "  <tbody>\n",
       "    <tr>\n",
       "      <th>0</th>\n",
       "      <td>OAS30001</td>\n",
       "      <td>OAS30001_MR_d3132</td>\n",
       "      <td>OAS30001_Freesurfer53_d3132</td>\n",
       "      <td>-1</td>\n",
       "      <td>/home/jack/Code/GitHub/Polygence/Data/OASIS/data/OAS30001_MR_d3132/OAS30001_Freesurfer53_d3132_brain_transformed.mgz</td>\n",
       "    </tr>\n",
       "    <tr>\n",
       "      <th>1</th>\n",
       "      <td>OAS30002</td>\n",
       "      <td>OAS30002_MR_d2345</td>\n",
       "      <td>OAS30002_Freesurfer53_d2345</td>\n",
       "      <td>-1</td>\n",
       "      <td>/home/jack/Code/GitHub/Polygence/Data/OASIS/data/OAS30002_MR_d2345/OAS30002_Freesurfer53_d2345_brain_transformed.mgz</td>\n",
       "    </tr>\n",
       "    <tr>\n",
       "      <th>2</th>\n",
       "      <td>OAS30003</td>\n",
       "      <td>OAS30003_MR_d2682</td>\n",
       "      <td>OAS30003_Freesurfer53_d2682</td>\n",
       "      <td>-1</td>\n",
       "      <td>/home/jack/Code/GitHub/Polygence/Data/OASIS/data/OAS30003_MR_d2682/OAS30003_Freesurfer53_d2682_brain_transformed.mgz</td>\n",
       "    </tr>\n",
       "    <tr>\n",
       "      <th>3</th>\n",
       "      <td>OAS30004</td>\n",
       "      <td>OAS30004_MR_d2232</td>\n",
       "      <td>OAS30004_Freesurfer53_d2232</td>\n",
       "      <td>-1</td>\n",
       "      <td>/home/jack/Code/GitHub/Polygence/Data/OASIS/data/OAS30004_MR_d2232/OAS30004_Freesurfer53_d2232_brain_transformed.mgz</td>\n",
       "    </tr>\n",
       "    <tr>\n",
       "      <th>4</th>\n",
       "      <td>OAS30005</td>\n",
       "      <td>OAS30005_MR_d2377</td>\n",
       "      <td>OAS30005_Freesurfer53_d2377</td>\n",
       "      <td>-1</td>\n",
       "      <td>/home/jack/Code/GitHub/Polygence/Data/OASIS/data/OAS30005_MR_d2377/OAS30005_Freesurfer53_d2377_brain_transformed.mgz</td>\n",
       "    </tr>\n",
       "  </tbody>\n",
       "</table>\n",
       "</div>"
      ],
      "text/plain": [
       "    Subject              MR ID                        FS ID  Diagnosis  \\\n",
       "0  OAS30001  OAS30001_MR_d3132  OAS30001_Freesurfer53_d3132         -1   \n",
       "1  OAS30002  OAS30002_MR_d2345  OAS30002_Freesurfer53_d2345         -1   \n",
       "2  OAS30003  OAS30003_MR_d2682  OAS30003_Freesurfer53_d2682         -1   \n",
       "3  OAS30004  OAS30004_MR_d2232  OAS30004_Freesurfer53_d2232         -1   \n",
       "4  OAS30005  OAS30005_MR_d2377  OAS30005_Freesurfer53_d2377         -1   \n",
       "\n",
       "                                                                                                                   Path  \n",
       "0  /home/jack/Code/GitHub/Polygence/Data/OASIS/data/OAS30001_MR_d3132/OAS30001_Freesurfer53_d3132_brain_transformed.mgz  \n",
       "1  /home/jack/Code/GitHub/Polygence/Data/OASIS/data/OAS30002_MR_d2345/OAS30002_Freesurfer53_d2345_brain_transformed.mgz  \n",
       "2  /home/jack/Code/GitHub/Polygence/Data/OASIS/data/OAS30003_MR_d2682/OAS30003_Freesurfer53_d2682_brain_transformed.mgz  \n",
       "3  /home/jack/Code/GitHub/Polygence/Data/OASIS/data/OAS30004_MR_d2232/OAS30004_Freesurfer53_d2232_brain_transformed.mgz  \n",
       "4  /home/jack/Code/GitHub/Polygence/Data/OASIS/data/OAS30005_MR_d2377/OAS30005_Freesurfer53_d2377_brain_transformed.mgz  "
      ]
     },
     "execution_count": 7,
     "metadata": {},
     "output_type": "execute_result"
    }
   ],
   "source": [
    "df.head(5)"
   ]
  },
  {
   "cell_type": "markdown",
   "id": "4ee0cfc6-f1c6-4c91-9a07-b31d90f054d7",
   "metadata": {},
   "source": [
    "### Step 2 - split the img_paths into a training and testing set"
   ]
  },
  {
   "cell_type": "code",
   "execution_count": 8,
   "id": "99b88d6f-580c-4ae6-8585-d5df691761da",
   "metadata": {},
   "outputs": [
    {
     "name": "stdout",
     "output_type": "stream",
     "text": [
      "(817,) (817,) (205,) (205,)\n"
     ]
    }
   ],
   "source": [
    "X = df['Path']\n",
    "y = df['Diagnosis']\n",
    "\n",
    "X_train, X_test, y_train, y_test = train_test_split(X, y, test_size=0.2, random_state=0)\n",
    "print(X_train.shape, y_train.shape, X_test.shape, y_test.shape)"
   ]
  },
  {
   "cell_type": "markdown",
   "id": "d988e3cc-8e89-4421-8949-af8fa20077c7",
   "metadata": {},
   "source": [
    "### Main loop"
   ]
  },
  {
   "cell_type": "code",
   "execution_count": 9,
   "id": "2ac98bd5-6d42-4db9-8933-e314fe00f1ba",
   "metadata": {},
   "outputs": [],
   "source": [
    "# icpa = IncrementalPCA()\n",
    "# batch_size = 50\n",
    "# for batch_idx, X_df in tqdm(X_train.groupby(np.arange(len(X_train)) // batch_size), desc='Batch id'):\n",
    "#     X_data = []\n",
    "#     for idx, path in tqdm(X_df.iteritems(), desc='Image'):\n",
    "#         image_obj = mgh.load(path)\n",
    "#         image_data = image_obj.get_fdata()\n",
    "#         flat = image_data.flatten()\n",
    "#         X_data.append(flat)\n",
    "#     X_data = np.array(X_data)\n",
    "#     icpa.partial_fit(X_data)\n",
    "#     print(icpa.n_samples_seen_)"
   ]
  },
  {
   "cell_type": "code",
   "execution_count": 18,
   "id": "c3a2903a-aa00-4b6c-99be-ad2032cd001a",
   "metadata": {},
   "outputs": [
    {
     "data": {
      "application/vnd.jupyter.widget-view+json": {
       "model_id": "dd4f5c409b7e40f7b0493250a95dfabf",
       "version_major": 2,
       "version_minor": 0
      },
      "text/plain": [
       "Image:   0%|          | 0/50 [00:00<?, ?it/s]"
      ]
     },
     "metadata": {},
     "output_type": "display_data"
    }
   ],
   "source": [
    "samp_df = df.groupby(['Diagnosis']).apply(lambda x: x.sample(n=25, random_state=0)).reset_index(drop = True)\n",
    "X_data = []\n",
    "for idx, row in tqdm(samp_df.iterrows(), desc='Image', total=samp_df.shape[0]):\n",
    "    path = row['Path']\n",
    "    image_obj = mgh.load(path)\n",
    "    image_data = image_obj.get_fdata()\n",
    "    flat = image_data.flatten()\n",
    "    X_data.append(flat)"
   ]
  },
  {
   "cell_type": "code",
   "execution_count": 19,
   "id": "67688bfc-5689-4103-8da6-aed3d560c891",
   "metadata": {},
   "outputs": [],
   "source": [
    "ipca = IncrementalPCA(n_components=50)"
   ]
  },
  {
   "cell_type": "code",
   "execution_count": 20,
   "id": "477c3f9a-042f-43cb-bd63-6eaae5623079",
   "metadata": {},
   "outputs": [
    {
     "name": "stderr",
     "output_type": "stream",
     "text": [
      "/home/jack/anaconda3/lib/python3.8/site-packages/sklearn/decomposition/_incremental_pca.py:316: RuntimeWarning: Mean of empty slice.\n",
      "  explained_variance[self.n_components_:].mean()\n",
      "/home/jack/.local/lib/python3.8/site-packages/numpy/core/_methods.py:188: RuntimeWarning: invalid value encountered in double_scalars\n",
      "  ret = ret.dtype.type(ret / rcount)\n"
     ]
    },
    {
     "data": {
      "text/plain": [
       "IncrementalPCA(n_components=50)"
      ]
     },
     "execution_count": 20,
     "metadata": {},
     "output_type": "execute_result"
    }
   ],
   "source": [
    "ipca.partial_fit(X_data)"
   ]
  },
  {
   "cell_type": "code",
   "execution_count": 21,
   "id": "b23ffafb-14c3-4268-be27-9a4bc7c085c2",
   "metadata": {},
   "outputs": [
    {
     "name": "stdout",
     "output_type": "stream",
     "text": [
      "50\n",
      "[0.1101766  0.14962012 0.18624374 0.21741254 0.24750689 0.27730677\n",
      " 0.30477262 0.33005956 0.35421709 0.37754948 0.40036158 0.42156025\n",
      " 0.44247179 0.46304432 0.48292204 0.50254033 0.52172139 0.54024394\n",
      " 0.55843217 0.57621908 0.59387866 0.61152234 0.62853229 0.64520673\n",
      " 0.6615367  0.67775323 0.69373074 0.70958436 0.72537378 0.74077704\n",
      " 0.7560394  0.77126206 0.78626232 0.8011535  0.81573102 0.83008291\n",
      " 0.84436403 0.85853718 0.87263183 0.88665222 0.90023829 0.91333879\n",
      " 0.92623598 0.93905003 0.95165447 0.96410137 0.97631003 0.98842671\n",
      " 1.         1.        ]\n"
     ]
    }
   ],
   "source": [
    "print(ipca.n_samples_seen_)\n",
    "print(ipca.explained_variance_ratio_.cumsum())"
   ]
  },
  {
   "cell_type": "code",
   "execution_count": 24,
   "id": "c9f2081b-dc7e-4ccc-814e-f666cbdda79d",
   "metadata": {},
   "outputs": [],
   "source": [
    "X_ipca = ipca.transform(X_data)"
   ]
  },
  {
   "cell_type": "code",
   "execution_count": 25,
   "id": "cc03e95b-3e52-4900-a849-e092f45faa1e",
   "metadata": {},
   "outputs": [
    {
     "name": "stdout",
     "output_type": "stream",
     "text": [
      "(50, 50)\n"
     ]
    }
   ],
   "source": [
    "print(X_ipca.shape)"
   ]
  }
 ],
 "metadata": {
  "kernelspec": {
   "display_name": "Python 3 (ipykernel)",
   "language": "python",
   "name": "python3"
  },
  "language_info": {
   "codemirror_mode": {
    "name": "ipython",
    "version": 3
   },
   "file_extension": ".py",
   "mimetype": "text/x-python",
   "name": "python",
   "nbconvert_exporter": "python",
   "pygments_lexer": "ipython3",
   "version": "3.8.10"
  }
 },
 "nbformat": 4,
 "nbformat_minor": 5
}
