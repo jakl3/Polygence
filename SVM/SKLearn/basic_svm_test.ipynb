{
 "cells": [
  {
   "cell_type": "markdown",
   "id": "b962ab17-5c6d-41a6-9347-c1e0d6c26f0f",
   "metadata": {},
   "source": [
    "# SKLearn SVM - testing file"
   ]
  },
  {
   "cell_type": "markdown",
   "id": "7c958f14-ee51-4c5c-a340-9a06a4539137",
   "metadata": {},
   "source": [
    "## Data Use Agreements\n",
    "The data used for this project were provided in part by OASIS and ADNI.\n",
    "\n",
    "OASIS-3: Principal Investigators: T. Benzinger, D. Marcus, J. Morris; NIH P50 AG00561, P30 NS09857781, P01 AG026276, P01 AG003991, R01 AG043434, UL1 TR000448, R01 EB009352. AV-45 doses were provided by Avid Radiopharmaceuticals, a wholly owned subsidiary of Eli Lilly.\n",
    "\n",
    "Data collection for this project was done through the Alzheimer's Disease Neuroimaging Initiative (ADNI) (National Institutes of Health Grant U01 AG024904) and DOD ADNI (Department of Defense award number W81XWH-12-2-0012). ADNI is funded by the National Institute on Aging, the National Institute of Biomedical Imaging and Bioengineering, and through generous contributions from the following: AbbVie, Alzheimer’s Association; Alzheimer’s Drug Discovery Foundation; Araclon Biotech; BioClinica, Inc.; Biogen; Bristol-Myers Squibb Company; CereSpir, Inc.; Cogstate; Eisai Inc.; Elan Pharmaceuticals, Inc.; Eli Lilly and Company; EuroImmun; F. Hoffmann-La Roche Ltd and its affiliated company Genentech, Inc.; Fujirebio; GE Healthcare; IXICO Ltd.; Janssen Alzheimer Immunotherapy Research & Development, LLC.; Johnson & Johnson Pharmaceutical Research & Development LLC.; Lumosity; Lundbeck; Merck & Co., Inc.; Meso Scale Diagnostics, LLC.; NeuroRx Research; Neurotrack Technologies; Novartis Pharmaceuticals Corporation; Pfizer Inc.; Piramal Imaging; Servier; Takeda Pharmaceutical Company; and Transition Therapeutics. The Canadian Institutes of Health Research is providing funds to support ADNI clinical sites in Canada. Private sector contributions are facilitated by the Foundation for the National Institutes of Health (www.fnih.org). The grantee organization is the Northern California Institute for Research and Education, and the study is coordinated by the Alzheimer’s Therapeutic Research Institute at the University of Southern California. ADNI data are disseminated by the Laboratory for Neuro Imaging at the University of Southern California."
   ]
  },
  {
   "cell_type": "code",
   "execution_count": 1,
   "id": "0b4d136a-1ec4-44fb-83e0-83aff96ebb4e",
   "metadata": {},
   "outputs": [],
   "source": [
    "import pandas as pd\n",
    "import numpy as np\n",
    "import seaborn as sns\n",
    "import matplotlib.pyplot as plt\n",
    "import warnings\n",
    "warnings.filterwarnings('ignore')\n",
    "%matplotlib inline"
   ]
  },
  {
   "cell_type": "code",
   "execution_count": 2,
   "id": "30d9a40b-3b27-4d41-b0ff-4ad7f9897d46",
   "metadata": {},
   "outputs": [],
   "source": [
    "# Loading dataset\n",
    "df = pd.read_csv('../../Data/OASIS/oasis_3.csv')"
   ]
  },
  {
   "cell_type": "code",
   "execution_count": 3,
   "id": "44da357b-203d-4a14-8b8a-74938911b7c0",
   "metadata": {},
   "outputs": [
    {
     "data": {
      "text/html": [
       "<div>\n",
       "<style scoped>\n",
       "    .dataframe tbody tr th:only-of-type {\n",
       "        vertical-align: middle;\n",
       "    }\n",
       "\n",
       "    .dataframe tbody tr th {\n",
       "        vertical-align: top;\n",
       "    }\n",
       "\n",
       "    .dataframe thead th {\n",
       "        text-align: right;\n",
       "    }\n",
       "</style>\n",
       "<table border=\"1\" class=\"dataframe\">\n",
       "  <thead>\n",
       "    <tr style=\"text-align: right;\">\n",
       "      <th></th>\n",
       "      <th>Subject</th>\n",
       "      <th>MR ID</th>\n",
       "      <th>id</th>\n",
       "      <th>Age</th>\n",
       "      <th>M/F</th>\n",
       "      <th>dx1</th>\n",
       "      <th>mmse</th>\n",
       "      <th>cdr</th>\n",
       "      <th>apoe</th>\n",
       "      <th>TOTAL_HIPPOCAMPUS_VOLUME</th>\n",
       "      <th>...</th>\n",
       "      <th>rhCortexVol</th>\n",
       "      <th>CortexVol</th>\n",
       "      <th>SubCortGrayVol</th>\n",
       "      <th>TotalGrayVol</th>\n",
       "      <th>SupraTentorialVol</th>\n",
       "      <th>lhCorticalWhiteMatterVol</th>\n",
       "      <th>rhCorticalWhiteMatterVol</th>\n",
       "      <th>CorticalWhiteMatterVol</th>\n",
       "      <th>L.SurfArea</th>\n",
       "      <th>R.SurfArea</th>\n",
       "    </tr>\n",
       "  </thead>\n",
       "  <tbody>\n",
       "    <tr>\n",
       "      <th>0</th>\n",
       "      <td>OAS30001</td>\n",
       "      <td>OAS30001_MR_d3132</td>\n",
       "      <td>OAS30001_Freesurfer53_d3132</td>\n",
       "      <td>73.0</td>\n",
       "      <td>F</td>\n",
       "      <td>Cognitively normal</td>\n",
       "      <td>30.0</td>\n",
       "      <td>0.0</td>\n",
       "      <td>23.0</td>\n",
       "      <td>6861.9</td>\n",
       "      <td>...</td>\n",
       "      <td>178031.558882</td>\n",
       "      <td>359975.257636</td>\n",
       "      <td>48400.0</td>\n",
       "      <td>491102.257636</td>\n",
       "      <td>7.736716e+05</td>\n",
       "      <td>174372.329393</td>\n",
       "      <td>173244.012238</td>\n",
       "      <td>347616.341631</td>\n",
       "      <td>67598.1</td>\n",
       "      <td>67185.8</td>\n",
       "    </tr>\n",
       "    <tr>\n",
       "      <th>1</th>\n",
       "      <td>OAS30001</td>\n",
       "      <td>OAS30001_MR_d0129</td>\n",
       "      <td>OAS30001_Freesurfer53_d0129</td>\n",
       "      <td>65.0</td>\n",
       "      <td>F</td>\n",
       "      <td>Cognitively normal</td>\n",
       "      <td>30.0</td>\n",
       "      <td>0.0</td>\n",
       "      <td>23.0</td>\n",
       "      <td>7678.9</td>\n",
       "      <td>...</td>\n",
       "      <td>187528.786036</td>\n",
       "      <td>379446.180091</td>\n",
       "      <td>50687.0</td>\n",
       "      <td>517683.180091</td>\n",
       "      <td>8.105851e+05</td>\n",
       "      <td>184600.488060</td>\n",
       "      <td>182662.445419</td>\n",
       "      <td>367262.933479</td>\n",
       "      <td>70168.1</td>\n",
       "      <td>69483.8</td>\n",
       "    </tr>\n",
       "    <tr>\n",
       "      <th>2</th>\n",
       "      <td>OAS30001</td>\n",
       "      <td>OAS30001_MR_d2430</td>\n",
       "      <td>OAS30001_Freesurfer53_d2430</td>\n",
       "      <td>71.0</td>\n",
       "      <td>F</td>\n",
       "      <td>Cognitively normal</td>\n",
       "      <td>30.0</td>\n",
       "      <td>0.0</td>\n",
       "      <td>23.0</td>\n",
       "      <td>7105.9</td>\n",
       "      <td>...</td>\n",
       "      <td>178872.680224</td>\n",
       "      <td>357784.489639</td>\n",
       "      <td>49058.0</td>\n",
       "      <td>487405.489639</td>\n",
       "      <td>7.779313e+05</td>\n",
       "      <td>175955.968883</td>\n",
       "      <td>178172.812666</td>\n",
       "      <td>354128.781549</td>\n",
       "      <td>67905.7</td>\n",
       "      <td>68000.2</td>\n",
       "    </tr>\n",
       "    <tr>\n",
       "      <th>3</th>\n",
       "      <td>OAS30001</td>\n",
       "      <td>OAS30001_MR_d0757</td>\n",
       "      <td>OAS30001_Freesurfer53_d0757</td>\n",
       "      <td>67.0</td>\n",
       "      <td>F</td>\n",
       "      <td>Cognitively normal</td>\n",
       "      <td>29.0</td>\n",
       "      <td>0.0</td>\n",
       "      <td>23.0</td>\n",
       "      <td>7648.2</td>\n",
       "      <td>...</td>\n",
       "      <td>177566.874682</td>\n",
       "      <td>362040.150904</td>\n",
       "      <td>50071.0</td>\n",
       "      <td>500699.150904</td>\n",
       "      <td>7.993419e+05</td>\n",
       "      <td>185224.779932</td>\n",
       "      <td>188151.990316</td>\n",
       "      <td>373376.770247</td>\n",
       "      <td>69142.3</td>\n",
       "      <td>68558.8</td>\n",
       "    </tr>\n",
       "    <tr>\n",
       "      <th>4</th>\n",
       "      <td>OAS30002</td>\n",
       "      <td>OAS30002_MR_d2345</td>\n",
       "      <td>OAS30002_Freesurfer53_d2345</td>\n",
       "      <td>73.0</td>\n",
       "      <td>M</td>\n",
       "      <td>Cognitively normal</td>\n",
       "      <td>29.0</td>\n",
       "      <td>0.0</td>\n",
       "      <td>34.0</td>\n",
       "      <td>7833.2</td>\n",
       "      <td>...</td>\n",
       "      <td>230240.532783</td>\n",
       "      <td>457342.035802</td>\n",
       "      <td>56773.0</td>\n",
       "      <td>607473.035802</td>\n",
       "      <td>1.051714e+06</td>\n",
       "      <td>239168.338419</td>\n",
       "      <td>245361.377267</td>\n",
       "      <td>484529.715686</td>\n",
       "      <td>83138.1</td>\n",
       "      <td>85742.3</td>\n",
       "    </tr>\n",
       "  </tbody>\n",
       "</table>\n",
       "<p>5 rows × 22 columns</p>\n",
       "</div>"
      ],
      "text/plain": [
       "    Subject              MR ID                           id   Age M/F  \\\n",
       "0  OAS30001  OAS30001_MR_d3132  OAS30001_Freesurfer53_d3132  73.0   F   \n",
       "1  OAS30001  OAS30001_MR_d0129  OAS30001_Freesurfer53_d0129  65.0   F   \n",
       "2  OAS30001  OAS30001_MR_d2430  OAS30001_Freesurfer53_d2430  71.0   F   \n",
       "3  OAS30001  OAS30001_MR_d0757  OAS30001_Freesurfer53_d0757  67.0   F   \n",
       "4  OAS30002  OAS30002_MR_d2345  OAS30002_Freesurfer53_d2345  73.0   M   \n",
       "\n",
       "                  dx1  mmse  cdr  apoe  TOTAL_HIPPOCAMPUS_VOLUME  ...  \\\n",
       "0  Cognitively normal  30.0  0.0  23.0                    6861.9  ...   \n",
       "1  Cognitively normal  30.0  0.0  23.0                    7678.9  ...   \n",
       "2  Cognitively normal  30.0  0.0  23.0                    7105.9  ...   \n",
       "3  Cognitively normal  29.0  0.0  23.0                    7648.2  ...   \n",
       "4  Cognitively normal  29.0  0.0  34.0                    7833.2  ...   \n",
       "\n",
       "     rhCortexVol      CortexVol  SubCortGrayVol   TotalGrayVol  \\\n",
       "0  178031.558882  359975.257636         48400.0  491102.257636   \n",
       "1  187528.786036  379446.180091         50687.0  517683.180091   \n",
       "2  178872.680224  357784.489639         49058.0  487405.489639   \n",
       "3  177566.874682  362040.150904         50071.0  500699.150904   \n",
       "4  230240.532783  457342.035802         56773.0  607473.035802   \n",
       "\n",
       "   SupraTentorialVol  lhCorticalWhiteMatterVol  rhCorticalWhiteMatterVol  \\\n",
       "0       7.736716e+05             174372.329393             173244.012238   \n",
       "1       8.105851e+05             184600.488060             182662.445419   \n",
       "2       7.779313e+05             175955.968883             178172.812666   \n",
       "3       7.993419e+05             185224.779932             188151.990316   \n",
       "4       1.051714e+06             239168.338419             245361.377267   \n",
       "\n",
       "   CorticalWhiteMatterVol  L.SurfArea  R.SurfArea  \n",
       "0           347616.341631     67598.1     67185.8  \n",
       "1           367262.933479     70168.1     69483.8  \n",
       "2           354128.781549     67905.7     68000.2  \n",
       "3           373376.770247     69142.3     68558.8  \n",
       "4           484529.715686     83138.1     85742.3  \n",
       "\n",
       "[5 rows x 22 columns]"
      ]
     },
     "execution_count": 3,
     "metadata": {},
     "output_type": "execute_result"
    }
   ],
   "source": [
    "df.head()"
   ]
  },
  {
   "cell_type": "markdown",
   "id": "47851ad5-c7d3-4d4d-a934-edcb83325778",
   "metadata": {},
   "source": [
    "## Data Preprocessing"
   ]
  },
  {
   "cell_type": "code",
   "execution_count": 4,
   "id": "4a49f034-c227-4fee-adea-c8193ae8fafb",
   "metadata": {},
   "outputs": [],
   "source": [
    "from sklearn.preprocessing import MinMaxScaler, LabelEncoder\n",
    "from sklearn.model_selection import train_test_split"
   ]
  },
  {
   "cell_type": "code",
   "execution_count": 5,
   "id": "4ee427a1-f4f1-4b02-a97f-30f45966506f",
   "metadata": {},
   "outputs": [],
   "source": [
    "df = df.dropna(axis=1, how='all') # Drop any empty columns\n",
    "df = df.dropna(axis=0, how='any') # Drop any rows with empty values \n",
    "df = df.rename(columns={'id':'Freesurfer ID', 'dx1':'Diagnosis', \n",
    "                        'TOTAL_HIPPOCAMPUS_VOLUME':'TotalHippocampusVol'}) # Rename columns\n",
    "df = df.drop_duplicates(subset='Subject', keep='first') # Keep only the first visit; this is possible because\n",
    "                                                        # df is sorted by age\n",
    "df = df.reset_index(drop=True) # Reset the index\n",
    "df = df.set_index('Subject')"
   ]
  },
  {
   "cell_type": "code",
   "execution_count": 6,
   "id": "b654622d-5a93-4d92-a5b2-4e5f3eadc990",
   "metadata": {},
   "outputs": [],
   "source": [
    "cols = df.columns.tolist()\n",
    "cols[2], cols[4] = cols[4], cols[2]\n",
    "df = df[cols]"
   ]
  },
  {
   "cell_type": "code",
   "execution_count": 7,
   "id": "30182242-4b82-4121-8399-40862be62fec",
   "metadata": {},
   "outputs": [
    {
     "data": {
      "text/plain": [
       "Cognitively normal    708\n",
       "No dementia             3\n",
       "ProAph w/o dement       1\n",
       "Name: Diagnosis, dtype: int64"
      ]
     },
     "execution_count": 7,
     "metadata": {},
     "output_type": "execute_result"
    }
   ],
   "source": [
    "# This shows that CDR is a good value to separate dementia vs control patients\n",
    "df.loc[df['cdr'] < 0.5]['Diagnosis'].value_counts()"
   ]
  },
  {
   "cell_type": "code",
   "execution_count": 8,
   "id": "fa35b8fe-5368-4ba8-94f5-162de711d355",
   "metadata": {},
   "outputs": [
    {
     "data": {
      "text/plain": [
       "array(['control', 'dementia'], dtype=object)"
      ]
     },
     "execution_count": 8,
     "metadata": {},
     "output_type": "execute_result"
    }
   ],
   "source": [
    "df.loc[df['cdr'] < 0.5, 'Diagnosis'] = 'control'\n",
    "df.loc[~(df['cdr'] < 0.5), 'Diagnosis'] = 'dementia'\n",
    "df['Diagnosis'].unique()"
   ]
  },
  {
   "cell_type": "code",
   "execution_count": 9,
   "id": "d5379620-2331-4023-806a-a01295598643",
   "metadata": {},
   "outputs": [
    {
     "data": {
      "text/plain": [
       "control     712\n",
       "dementia    310\n",
       "Name: Diagnosis, dtype: int64"
      ]
     },
     "execution_count": 9,
     "metadata": {},
     "output_type": "execute_result"
    }
   ],
   "source": [
    "# 0 indicates control, 1 indicates dementia\n",
    "df['Diagnosis'].value_counts()"
   ]
  },
  {
   "cell_type": "code",
   "execution_count": 10,
   "id": "7b596111-8b02-481b-bdfb-87971c2a904f",
   "metadata": {},
   "outputs": [],
   "source": [
    "label_diagnosis = LabelEncoder()"
   ]
  },
  {
   "cell_type": "code",
   "execution_count": 11,
   "id": "c8909594-f801-47c0-ae50-a6a7afe5868c",
   "metadata": {},
   "outputs": [],
   "source": [
    "df['Diagnosis'] = label_diagnosis.fit_transform(df['Diagnosis'])"
   ]
  },
  {
   "cell_type": "code",
   "execution_count": 12,
   "id": "65377525-4854-4c8d-906b-558b680d4c76",
   "metadata": {},
   "outputs": [
    {
     "data": {
      "text/plain": [
       "<AxesSubplot:xlabel='Diagnosis', ylabel='count'>"
      ]
     },
     "execution_count": 12,
     "metadata": {},
     "output_type": "execute_result"
    },
    {
     "data": {
      "image/png": "[encoded data removed]",
      "text/plain": [
       "<Figure size 432x288 with 1 Axes>"
      ]
     },
     "metadata": {
      "needs_background": "light"
     },
     "output_type": "display_data"
    }
   ],
   "source": [
    "sns.countplot(df['Diagnosis'])"
   ]
  },
  {
   "cell_type": "code",
   "execution_count": 13,
   "id": "492a6140-ea8f-47c9-8505-526db5013e71",
   "metadata": {},
   "outputs": [
    {
     "data": {
      "text/html": [
       "<div>\n",
       "<style scoped>\n",
       "    .dataframe tbody tr th:only-of-type {\n",
       "        vertical-align: middle;\n",
       "    }\n",
       "\n",
       "    .dataframe tbody tr th {\n",
       "        vertical-align: top;\n",
       "    }\n",
       "\n",
       "    .dataframe thead th {\n",
       "        text-align: right;\n",
       "    }\n",
       "</style>\n",
       "<table border=\"1\" class=\"dataframe\">\n",
       "  <thead>\n",
       "    <tr style=\"text-align: right;\">\n",
       "      <th></th>\n",
       "      <th>MR ID</th>\n",
       "      <th>Freesurfer ID</th>\n",
       "      <th>Diagnosis</th>\n",
       "      <th>M/F</th>\n",
       "      <th>Age</th>\n",
       "      <th>mmse</th>\n",
       "      <th>cdr</th>\n",
       "      <th>apoe</th>\n",
       "      <th>TotalHippocampusVol</th>\n",
       "      <th>IntraCranialVol</th>\n",
       "      <th>...</th>\n",
       "      <th>rhCortexVol</th>\n",
       "      <th>CortexVol</th>\n",
       "      <th>SubCortGrayVol</th>\n",
       "      <th>TotalGrayVol</th>\n",
       "      <th>SupraTentorialVol</th>\n",
       "      <th>lhCorticalWhiteMatterVol</th>\n",
       "      <th>rhCorticalWhiteMatterVol</th>\n",
       "      <th>CorticalWhiteMatterVol</th>\n",
       "      <th>L.SurfArea</th>\n",
       "      <th>R.SurfArea</th>\n",
       "    </tr>\n",
       "    <tr>\n",
       "      <th>Subject</th>\n",
       "      <th></th>\n",
       "      <th></th>\n",
       "      <th></th>\n",
       "      <th></th>\n",
       "      <th></th>\n",
       "      <th></th>\n",
       "      <th></th>\n",
       "      <th></th>\n",
       "      <th></th>\n",
       "      <th></th>\n",
       "      <th></th>\n",
       "      <th></th>\n",
       "      <th></th>\n",
       "      <th></th>\n",
       "      <th></th>\n",
       "      <th></th>\n",
       "      <th></th>\n",
       "      <th></th>\n",
       "      <th></th>\n",
       "      <th></th>\n",
       "      <th></th>\n",
       "    </tr>\n",
       "  </thead>\n",
       "  <tbody>\n",
       "    <tr>\n",
       "      <th>OAS30001</th>\n",
       "      <td>OAS30001_MR_d3132</td>\n",
       "      <td>OAS30001_Freesurfer53_d3132</td>\n",
       "      <td>0</td>\n",
       "      <td>F</td>\n",
       "      <td>73.0</td>\n",
       "      <td>30.0</td>\n",
       "      <td>0.0</td>\n",
       "      <td>23.0</td>\n",
       "      <td>6861.9</td>\n",
       "      <td>1.186091e+06</td>\n",
       "      <td>...</td>\n",
       "      <td>178031.558882</td>\n",
       "      <td>359975.257636</td>\n",
       "      <td>48400.0</td>\n",
       "      <td>491102.257636</td>\n",
       "      <td>7.736716e+05</td>\n",
       "      <td>174372.329393</td>\n",
       "      <td>173244.012238</td>\n",
       "      <td>347616.341631</td>\n",
       "      <td>67598.1</td>\n",
       "      <td>67185.8</td>\n",
       "    </tr>\n",
       "    <tr>\n",
       "      <th>OAS30002</th>\n",
       "      <td>OAS30002_MR_d2345</td>\n",
       "      <td>OAS30002_Freesurfer53_d2345</td>\n",
       "      <td>0</td>\n",
       "      <td>M</td>\n",
       "      <td>73.0</td>\n",
       "      <td>29.0</td>\n",
       "      <td>0.0</td>\n",
       "      <td>34.0</td>\n",
       "      <td>7833.2</td>\n",
       "      <td>1.714636e+06</td>\n",
       "      <td>...</td>\n",
       "      <td>230240.532783</td>\n",
       "      <td>457342.035802</td>\n",
       "      <td>56773.0</td>\n",
       "      <td>607473.035802</td>\n",
       "      <td>1.051714e+06</td>\n",
       "      <td>239168.338419</td>\n",
       "      <td>245361.377267</td>\n",
       "      <td>484529.715686</td>\n",
       "      <td>83138.1</td>\n",
       "      <td>85742.3</td>\n",
       "    </tr>\n",
       "    <tr>\n",
       "      <th>OAS30003</th>\n",
       "      <td>OAS30003_MR_d2682</td>\n",
       "      <td>OAS30003_Freesurfer53_d2682</td>\n",
       "      <td>0</td>\n",
       "      <td>F</td>\n",
       "      <td>66.0</td>\n",
       "      <td>29.0</td>\n",
       "      <td>0.0</td>\n",
       "      <td>33.0</td>\n",
       "      <td>7983.5</td>\n",
       "      <td>1.405092e+06</td>\n",
       "      <td>...</td>\n",
       "      <td>209641.219733</td>\n",
       "      <td>414466.938306</td>\n",
       "      <td>59379.0</td>\n",
       "      <td>557900.938306</td>\n",
       "      <td>9.299305e+05</td>\n",
       "      <td>213905.159729</td>\n",
       "      <td>222232.368895</td>\n",
       "      <td>436137.528624</td>\n",
       "      <td>76695.5</td>\n",
       "      <td>78697.9</td>\n",
       "    </tr>\n",
       "    <tr>\n",
       "      <th>OAS30004</th>\n",
       "      <td>OAS30004_MR_d2232</td>\n",
       "      <td>OAS30004_Freesurfer53_d2232</td>\n",
       "      <td>0</td>\n",
       "      <td>F</td>\n",
       "      <td>61.0</td>\n",
       "      <td>30.0</td>\n",
       "      <td>0.0</td>\n",
       "      <td>23.0</td>\n",
       "      <td>8525.1</td>\n",
       "      <td>1.443177e+06</td>\n",
       "      <td>...</td>\n",
       "      <td>206884.661369</td>\n",
       "      <td>420746.332475</td>\n",
       "      <td>53910.0</td>\n",
       "      <td>566477.332475</td>\n",
       "      <td>9.709780e+05</td>\n",
       "      <td>242595.702097</td>\n",
       "      <td>233016.992108</td>\n",
       "      <td>475612.694206</td>\n",
       "      <td>87710.1</td>\n",
       "      <td>84634.9</td>\n",
       "    </tr>\n",
       "    <tr>\n",
       "      <th>OAS30005</th>\n",
       "      <td>OAS30005_MR_d2377</td>\n",
       "      <td>OAS30005_Freesurfer53_d2377</td>\n",
       "      <td>0</td>\n",
       "      <td>F</td>\n",
       "      <td>54.0</td>\n",
       "      <td>30.0</td>\n",
       "      <td>0.0</td>\n",
       "      <td>33.0</td>\n",
       "      <td>9298.2</td>\n",
       "      <td>1.554566e+06</td>\n",
       "      <td>...</td>\n",
       "      <td>224311.450543</td>\n",
       "      <td>450055.106418</td>\n",
       "      <td>63545.0</td>\n",
       "      <td>611117.106418</td>\n",
       "      <td>9.867349e+05</td>\n",
       "      <td>229534.963360</td>\n",
       "      <td>230927.823126</td>\n",
       "      <td>460462.786487</td>\n",
       "      <td>82224.0</td>\n",
       "      <td>81421.3</td>\n",
       "    </tr>\n",
       "    <tr>\n",
       "      <th>OAS30006</th>\n",
       "      <td>OAS30006_MR_d2341</td>\n",
       "      <td>OAS30006_Freesurfer53_d2341</td>\n",
       "      <td>0</td>\n",
       "      <td>M</td>\n",
       "      <td>68.0</td>\n",
       "      <td>30.0</td>\n",
       "      <td>0.0</td>\n",
       "      <td>33.0</td>\n",
       "      <td>7634.1</td>\n",
       "      <td>1.946884e+06</td>\n",
       "      <td>...</td>\n",
       "      <td>237733.402077</td>\n",
       "      <td>472739.331515</td>\n",
       "      <td>58907.0</td>\n",
       "      <td>643328.331515</td>\n",
       "      <td>1.147571e+06</td>\n",
       "      <td>277185.190999</td>\n",
       "      <td>273057.137812</td>\n",
       "      <td>550242.328811</td>\n",
       "      <td>101915.0</td>\n",
       "      <td>99983.6</td>\n",
       "    </tr>\n",
       "    <tr>\n",
       "      <th>OAS30007</th>\n",
       "      <td>OAS30007_MR_d0061</td>\n",
       "      <td>OAS30007_Freesurfer53_d0061</td>\n",
       "      <td>1</td>\n",
       "      <td>M</td>\n",
       "      <td>71.0</td>\n",
       "      <td>28.0</td>\n",
       "      <td>0.5</td>\n",
       "      <td>24.0</td>\n",
       "      <td>8164.0</td>\n",
       "      <td>1.641880e+06</td>\n",
       "      <td>...</td>\n",
       "      <td>227909.170952</td>\n",
       "      <td>452008.699617</td>\n",
       "      <td>53490.0</td>\n",
       "      <td>608098.699617</td>\n",
       "      <td>9.575827e+05</td>\n",
       "      <td>206922.892386</td>\n",
       "      <td>206879.116423</td>\n",
       "      <td>413802.008808</td>\n",
       "      <td>84418.8</td>\n",
       "      <td>83142.6</td>\n",
       "    </tr>\n",
       "  </tbody>\n",
       "</table>\n",
       "<p>7 rows × 21 columns</p>\n",
       "</div>"
      ],
      "text/plain": [
       "                      MR ID                Freesurfer ID  Diagnosis M/F   Age  \\\n",
       "Subject                                                                         \n",
       "OAS30001  OAS30001_MR_d3132  OAS30001_Freesurfer53_d3132          0   F  73.0   \n",
       "OAS30002  OAS30002_MR_d2345  OAS30002_Freesurfer53_d2345          0   M  73.0   \n",
       "OAS30003  OAS30003_MR_d2682  OAS30003_Freesurfer53_d2682          0   F  66.0   \n",
       "OAS30004  OAS30004_MR_d2232  OAS30004_Freesurfer53_d2232          0   F  61.0   \n",
       "OAS30005  OAS30005_MR_d2377  OAS30005_Freesurfer53_d2377          0   F  54.0   \n",
       "OAS30006  OAS30006_MR_d2341  OAS30006_Freesurfer53_d2341          0   M  68.0   \n",
       "OAS30007  OAS30007_MR_d0061  OAS30007_Freesurfer53_d0061          1   M  71.0   \n",
       "\n",
       "          mmse  cdr  apoe  TotalHippocampusVol  IntraCranialVol  ...  \\\n",
       "Subject                                                          ...   \n",
       "OAS30001  30.0  0.0  23.0               6861.9     1.186091e+06  ...   \n",
       "OAS30002  29.0  0.0  34.0               7833.2     1.714636e+06  ...   \n",
       "OAS30003  29.0  0.0  33.0               7983.5     1.405092e+06  ...   \n",
       "OAS30004  30.0  0.0  23.0               8525.1     1.443177e+06  ...   \n",
       "OAS30005  30.0  0.0  33.0               9298.2     1.554566e+06  ...   \n",
       "OAS30006  30.0  0.0  33.0               7634.1     1.946884e+06  ...   \n",
       "OAS30007  28.0  0.5  24.0               8164.0     1.641880e+06  ...   \n",
       "\n",
       "            rhCortexVol      CortexVol  SubCortGrayVol   TotalGrayVol  \\\n",
       "Subject                                                                 \n",
       "OAS30001  178031.558882  359975.257636         48400.0  491102.257636   \n",
       "OAS30002  230240.532783  457342.035802         56773.0  607473.035802   \n",
       "OAS30003  209641.219733  414466.938306         59379.0  557900.938306   \n",
       "OAS30004  206884.661369  420746.332475         53910.0  566477.332475   \n",
       "OAS30005  224311.450543  450055.106418         63545.0  611117.106418   \n",
       "OAS30006  237733.402077  472739.331515         58907.0  643328.331515   \n",
       "OAS30007  227909.170952  452008.699617         53490.0  608098.699617   \n",
       "\n",
       "          SupraTentorialVol  lhCorticalWhiteMatterVol  \\\n",
       "Subject                                                 \n",
       "OAS30001       7.736716e+05             174372.329393   \n",
       "OAS30002       1.051714e+06             239168.338419   \n",
       "OAS30003       9.299305e+05             213905.159729   \n",
       "OAS30004       9.709780e+05             242595.702097   \n",
       "OAS30005       9.867349e+05             229534.963360   \n",
       "OAS30006       1.147571e+06             277185.190999   \n",
       "OAS30007       9.575827e+05             206922.892386   \n",
       "\n",
       "          rhCorticalWhiteMatterVol  CorticalWhiteMatterVol  L.SurfArea  \\\n",
       "Subject                                                                  \n",
       "OAS30001             173244.012238           347616.341631     67598.1   \n",
       "OAS30002             245361.377267           484529.715686     83138.1   \n",
       "OAS30003             222232.368895           436137.528624     76695.5   \n",
       "OAS30004             233016.992108           475612.694206     87710.1   \n",
       "OAS30005             230927.823126           460462.786487     82224.0   \n",
       "OAS30006             273057.137812           550242.328811    101915.0   \n",
       "OAS30007             206879.116423           413802.008808     84418.8   \n",
       "\n",
       "          R.SurfArea  \n",
       "Subject               \n",
       "OAS30001     67185.8  \n",
       "OAS30002     85742.3  \n",
       "OAS30003     78697.9  \n",
       "OAS30004     84634.9  \n",
       "OAS30005     81421.3  \n",
       "OAS30006     99983.6  \n",
       "OAS30007     83142.6  \n",
       "\n",
       "[7 rows x 21 columns]"
      ]
     },
     "execution_count": 13,
     "metadata": {},
     "output_type": "execute_result"
    }
   ],
   "source": [
    "df.head(7)"
   ]
  },
  {
   "cell_type": "code",
   "execution_count": 14,
   "id": "0d34727f-ffa1-4c8d-b2b8-5f42f79179c6",
   "metadata": {},
   "outputs": [],
   "source": [
    "df = df.drop(['MR ID', 'Freesurfer ID', 'M/F', 'cdr'], axis=1) # Drop categorical and redundant columns\n",
    "# df = df.drop(['lhCortexVol', 'rhCortexVol', 'lhCorticalWhiteMatterVol', 'rhCorticalWhiteMatterVol', 'L.SurfArea', 'R.SurfArea'], axis=1) # Test drop to reduce dimensionality"
   ]
  },
  {
   "cell_type": "code",
   "execution_count": 15,
   "id": "3ec761df-a269-4fc9-8c10-8fe4ce1a76f1",
   "metadata": {},
   "outputs": [
    {
     "data": {
      "text/html": [
       "<div>\n",
       "<style scoped>\n",
       "    .dataframe tbody tr th:only-of-type {\n",
       "        vertical-align: middle;\n",
       "    }\n",
       "\n",
       "    .dataframe tbody tr th {\n",
       "        vertical-align: top;\n",
       "    }\n",
       "\n",
       "    .dataframe thead th {\n",
       "        text-align: right;\n",
       "    }\n",
       "</style>\n",
       "<table border=\"1\" class=\"dataframe\">\n",
       "  <thead>\n",
       "    <tr style=\"text-align: right;\">\n",
       "      <th></th>\n",
       "      <th>Diagnosis</th>\n",
       "      <th>Age</th>\n",
       "      <th>mmse</th>\n",
       "      <th>apoe</th>\n",
       "      <th>TotalHippocampusVol</th>\n",
       "      <th>IntraCranialVol</th>\n",
       "      <th>lhCortexVol</th>\n",
       "      <th>rhCortexVol</th>\n",
       "      <th>CortexVol</th>\n",
       "      <th>SubCortGrayVol</th>\n",
       "      <th>TotalGrayVol</th>\n",
       "      <th>SupraTentorialVol</th>\n",
       "      <th>lhCorticalWhiteMatterVol</th>\n",
       "      <th>rhCorticalWhiteMatterVol</th>\n",
       "      <th>CorticalWhiteMatterVol</th>\n",
       "      <th>L.SurfArea</th>\n",
       "      <th>R.SurfArea</th>\n",
       "    </tr>\n",
       "    <tr>\n",
       "      <th>Subject</th>\n",
       "      <th></th>\n",
       "      <th></th>\n",
       "      <th></th>\n",
       "      <th></th>\n",
       "      <th></th>\n",
       "      <th></th>\n",
       "      <th></th>\n",
       "      <th></th>\n",
       "      <th></th>\n",
       "      <th></th>\n",
       "      <th></th>\n",
       "      <th></th>\n",
       "      <th></th>\n",
       "      <th></th>\n",
       "      <th></th>\n",
       "      <th></th>\n",
       "      <th></th>\n",
       "    </tr>\n",
       "  </thead>\n",
       "  <tbody>\n",
       "    <tr>\n",
       "      <th>OAS30001</th>\n",
       "      <td>0</td>\n",
       "      <td>73.0</td>\n",
       "      <td>30.0</td>\n",
       "      <td>23.0</td>\n",
       "      <td>6861.9</td>\n",
       "      <td>1.186091e+06</td>\n",
       "      <td>181943.698754</td>\n",
       "      <td>178031.558882</td>\n",
       "      <td>359975.257636</td>\n",
       "      <td>48400.0</td>\n",
       "      <td>491102.257636</td>\n",
       "      <td>7.736716e+05</td>\n",
       "      <td>174372.329393</td>\n",
       "      <td>173244.012238</td>\n",
       "      <td>347616.341631</td>\n",
       "      <td>67598.1</td>\n",
       "      <td>67185.8</td>\n",
       "    </tr>\n",
       "    <tr>\n",
       "      <th>OAS30002</th>\n",
       "      <td>0</td>\n",
       "      <td>73.0</td>\n",
       "      <td>29.0</td>\n",
       "      <td>34.0</td>\n",
       "      <td>7833.2</td>\n",
       "      <td>1.714636e+06</td>\n",
       "      <td>227101.503019</td>\n",
       "      <td>230240.532783</td>\n",
       "      <td>457342.035802</td>\n",
       "      <td>56773.0</td>\n",
       "      <td>607473.035802</td>\n",
       "      <td>1.051714e+06</td>\n",
       "      <td>239168.338419</td>\n",
       "      <td>245361.377267</td>\n",
       "      <td>484529.715686</td>\n",
       "      <td>83138.1</td>\n",
       "      <td>85742.3</td>\n",
       "    </tr>\n",
       "    <tr>\n",
       "      <th>OAS30003</th>\n",
       "      <td>0</td>\n",
       "      <td>66.0</td>\n",
       "      <td>29.0</td>\n",
       "      <td>33.0</td>\n",
       "      <td>7983.5</td>\n",
       "      <td>1.405092e+06</td>\n",
       "      <td>204825.718573</td>\n",
       "      <td>209641.219733</td>\n",
       "      <td>414466.938306</td>\n",
       "      <td>59379.0</td>\n",
       "      <td>557900.938306</td>\n",
       "      <td>9.299305e+05</td>\n",
       "      <td>213905.159729</td>\n",
       "      <td>222232.368895</td>\n",
       "      <td>436137.528624</td>\n",
       "      <td>76695.5</td>\n",
       "      <td>78697.9</td>\n",
       "    </tr>\n",
       "    <tr>\n",
       "      <th>OAS30004</th>\n",
       "      <td>0</td>\n",
       "      <td>61.0</td>\n",
       "      <td>30.0</td>\n",
       "      <td>23.0</td>\n",
       "      <td>8525.1</td>\n",
       "      <td>1.443177e+06</td>\n",
       "      <td>213861.671106</td>\n",
       "      <td>206884.661369</td>\n",
       "      <td>420746.332475</td>\n",
       "      <td>53910.0</td>\n",
       "      <td>566477.332475</td>\n",
       "      <td>9.709780e+05</td>\n",
       "      <td>242595.702097</td>\n",
       "      <td>233016.992108</td>\n",
       "      <td>475612.694206</td>\n",
       "      <td>87710.1</td>\n",
       "      <td>84634.9</td>\n",
       "    </tr>\n",
       "    <tr>\n",
       "      <th>OAS30005</th>\n",
       "      <td>0</td>\n",
       "      <td>54.0</td>\n",
       "      <td>30.0</td>\n",
       "      <td>33.0</td>\n",
       "      <td>9298.2</td>\n",
       "      <td>1.554566e+06</td>\n",
       "      <td>225743.655875</td>\n",
       "      <td>224311.450543</td>\n",
       "      <td>450055.106418</td>\n",
       "      <td>63545.0</td>\n",
       "      <td>611117.106418</td>\n",
       "      <td>9.867349e+05</td>\n",
       "      <td>229534.963360</td>\n",
       "      <td>230927.823126</td>\n",
       "      <td>460462.786487</td>\n",
       "      <td>82224.0</td>\n",
       "      <td>81421.3</td>\n",
       "    </tr>\n",
       "    <tr>\n",
       "      <th>OAS30006</th>\n",
       "      <td>0</td>\n",
       "      <td>68.0</td>\n",
       "      <td>30.0</td>\n",
       "      <td>33.0</td>\n",
       "      <td>7634.1</td>\n",
       "      <td>1.946884e+06</td>\n",
       "      <td>235005.929438</td>\n",
       "      <td>237733.402077</td>\n",
       "      <td>472739.331515</td>\n",
       "      <td>58907.0</td>\n",
       "      <td>643328.331515</td>\n",
       "      <td>1.147571e+06</td>\n",
       "      <td>277185.190999</td>\n",
       "      <td>273057.137812</td>\n",
       "      <td>550242.328811</td>\n",
       "      <td>101915.0</td>\n",
       "      <td>99983.6</td>\n",
       "    </tr>\n",
       "    <tr>\n",
       "      <th>OAS30007</th>\n",
       "      <td>1</td>\n",
       "      <td>71.0</td>\n",
       "      <td>28.0</td>\n",
       "      <td>24.0</td>\n",
       "      <td>8164.0</td>\n",
       "      <td>1.641880e+06</td>\n",
       "      <td>224099.528666</td>\n",
       "      <td>227909.170952</td>\n",
       "      <td>452008.699617</td>\n",
       "      <td>53490.0</td>\n",
       "      <td>608098.699617</td>\n",
       "      <td>9.575827e+05</td>\n",
       "      <td>206922.892386</td>\n",
       "      <td>206879.116423</td>\n",
       "      <td>413802.008808</td>\n",
       "      <td>84418.8</td>\n",
       "      <td>83142.6</td>\n",
       "    </tr>\n",
       "  </tbody>\n",
       "</table>\n",
       "</div>"
      ],
      "text/plain": [
       "          Diagnosis   Age  mmse  apoe  TotalHippocampusVol  IntraCranialVol  \\\n",
       "Subject                                                                       \n",
       "OAS30001          0  73.0  30.0  23.0               6861.9     1.186091e+06   \n",
       "OAS30002          0  73.0  29.0  34.0               7833.2     1.714636e+06   \n",
       "OAS30003          0  66.0  29.0  33.0               7983.5     1.405092e+06   \n",
       "OAS30004          0  61.0  30.0  23.0               8525.1     1.443177e+06   \n",
       "OAS30005          0  54.0  30.0  33.0               9298.2     1.554566e+06   \n",
       "OAS30006          0  68.0  30.0  33.0               7634.1     1.946884e+06   \n",
       "OAS30007          1  71.0  28.0  24.0               8164.0     1.641880e+06   \n",
       "\n",
       "            lhCortexVol    rhCortexVol      CortexVol  SubCortGrayVol  \\\n",
       "Subject                                                                 \n",
       "OAS30001  181943.698754  178031.558882  359975.257636         48400.0   \n",
       "OAS30002  227101.503019  230240.532783  457342.035802         56773.0   \n",
       "OAS30003  204825.718573  209641.219733  414466.938306         59379.0   \n",
       "OAS30004  213861.671106  206884.661369  420746.332475         53910.0   \n",
       "OAS30005  225743.655875  224311.450543  450055.106418         63545.0   \n",
       "OAS30006  235005.929438  237733.402077  472739.331515         58907.0   \n",
       "OAS30007  224099.528666  227909.170952  452008.699617         53490.0   \n",
       "\n",
       "           TotalGrayVol  SupraTentorialVol  lhCorticalWhiteMatterVol  \\\n",
       "Subject                                                                \n",
       "OAS30001  491102.257636       7.736716e+05             174372.329393   \n",
       "OAS30002  607473.035802       1.051714e+06             239168.338419   \n",
       "OAS30003  557900.938306       9.299305e+05             213905.159729   \n",
       "OAS30004  566477.332475       9.709780e+05             242595.702097   \n",
       "OAS30005  611117.106418       9.867349e+05             229534.963360   \n",
       "OAS30006  643328.331515       1.147571e+06             277185.190999   \n",
       "OAS30007  608098.699617       9.575827e+05             206922.892386   \n",
       "\n",
       "          rhCorticalWhiteMatterVol  CorticalWhiteMatterVol  L.SurfArea  \\\n",
       "Subject                                                                  \n",
       "OAS30001             173244.012238           347616.341631     67598.1   \n",
       "OAS30002             245361.377267           484529.715686     83138.1   \n",
       "OAS30003             222232.368895           436137.528624     76695.5   \n",
       "OAS30004             233016.992108           475612.694206     87710.1   \n",
       "OAS30005             230927.823126           460462.786487     82224.0   \n",
       "OAS30006             273057.137812           550242.328811    101915.0   \n",
       "OAS30007             206879.116423           413802.008808     84418.8   \n",
       "\n",
       "          R.SurfArea  \n",
       "Subject               \n",
       "OAS30001     67185.8  \n",
       "OAS30002     85742.3  \n",
       "OAS30003     78697.9  \n",
       "OAS30004     84634.9  \n",
       "OAS30005     81421.3  \n",
       "OAS30006     99983.6  \n",
       "OAS30007     83142.6  "
      ]
     },
     "execution_count": 15,
     "metadata": {},
     "output_type": "execute_result"
    }
   ],
   "source": [
    "df.head(7)"
   ]
  },
  {
   "cell_type": "code",
   "execution_count": 16,
   "id": "76a6b912-9de4-4565-afcc-0edc5a114028",
   "metadata": {},
   "outputs": [],
   "source": [
    "# Separate the dataset into features and response variable\n",
    "X = df.drop(['Diagnosis'], axis=1)\n",
    "y = df['Diagnosis']"
   ]
  },
  {
   "cell_type": "code",
   "execution_count": 17,
   "id": "3355cc7f-7062-402f-8dbc-9281627459b3",
   "metadata": {},
   "outputs": [],
   "source": [
    "# Splitting data into training and testing data\n",
    "X_train, X_test, y_train, y_test = train_test_split(X, y, test_size=0.2, random_state=12)"
   ]
  },
  {
   "cell_type": "code",
   "execution_count": 18,
   "id": "db2d570c-b5d9-4755-b30e-425462ba5b0f",
   "metadata": {},
   "outputs": [],
   "source": [
    "# Applying mixmax scaling to data\n",
    "\"\"\"\n",
    "The purpose of this is to prevent any one column from 'overpowering' the effect\n",
    "of another column due to it's values being large. It would scale the 10^6 scale\n",
    "of data in the IntraCranialVol and the 10^1 scale of data in age into the same\n",
    "range of data, such as between 0 and 1.\n",
    "\"\"\"\n",
    "sc = MinMaxScaler()\n",
    "X_train = sc.fit_transform(X_train)\n",
    "X_test = sc.transform(X_test)"
   ]
  },
  {
   "cell_type": "markdown",
   "id": "0b5b76a5-dcbd-478c-ad75-a173dde50fb9",
   "metadata": {},
   "source": [
    "## SVM"
   ]
  },
  {
   "cell_type": "code",
   "execution_count": 19,
   "id": "66513209-22af-4007-b98f-9b6014ffe701",
   "metadata": {},
   "outputs": [],
   "source": [
    "from sklearn.svm import SVC, LinearSVC\n",
    "from sklearn.metrics import accuracy_score, recall_score, roc_curve, auc, classification_report, plot_confusion_matrix\n",
    "from sklearn.ensemble import BaggingClassifier\n",
    "from sklearn.model_selection import cross_val_score"
   ]
  },
  {
   "cell_type": "markdown",
   "id": "b665df67-5e0a-4482-aed4-5449edb2ab72",
   "metadata": {},
   "source": [
    "## Testing to see what kernel performs the best"
   ]
  },
  {
   "cell_type": "markdown",
   "id": "0f62908f",
   "metadata": {},
   "source": [
    "### A large portion of this code is taken from a [publicly available notebook](https://www.kaggle.com/hyunseokc/detecting-early-alzheimer-s#6.C-SVM) by Hyunseok Choi."
   ]
  },
  {
   "cell_type": "code",
   "execution_count": 20,
   "id": "479eed05-8797-4970-9331-24e084d8b6ca",
   "metadata": {},
   "outputs": [],
   "source": [
    "# best_score = 0\n",
    "\n",
    "# for c_parameter in [0.001, 0.01, 0.1, 1, 10, 100, 1000]: #iterate over the values we need to try for the parameter C\n",
    "#     for gamma_parameter in [0.001, 0.01, 0.1, 1, 10, 100, 1000]: #iterate over the values we need to try for the parameter gamma\n",
    "#         for k_parameter in ['rbf', 'poly', 'sigmoid', 'linear']: # iterate over the values we need to try for the kernel parameter\n",
    "#             n_estimators = 10\n",
    "#             svmModel = BaggingClassifier(SVC(kernel=k_parameter, C=c_parameter, gamma=gamma_parameter, cache_size=7000, random_state=12), \n",
    "#                                          max_samples=1.0 / n_estimators, n_estimators=n_estimators, n_jobs=-1)\n",
    "#             #svmModel = SVC(kernel=k_parameter, C=c_parameter, gamma=gamma_parameter, cache_size=7000, n_jobs=-1) #define the model\n",
    "            \n",
    "#             # perform cross-validation\n",
    "#             scores = cross_val_score(svmModel, X_train, y_train, cv=5, scoring='accuracy')\n",
    "#             # the training set will be split internally into training and cross validation\n",
    "\n",
    "#             # compute mean cross-validation accuracy\n",
    "#             score = np.mean(scores)\n",
    "#             # if we got a better score, store the score and parameters\n",
    "#             if score > best_score:\n",
    "#                 print(f'Currently on: {c_parameter}, {gamma_parameter}, {k_parameter}')\n",
    "#                 print(f'{k_parameter}: {score}')\n",
    "#                 best_score = score #store the score \n",
    "#                 best_parameter_c = c_parameter #store the parameter c\n",
    "#                 best_parameter_gamma = gamma_parameter #store the parameter gamma\n",
    "#                 best_parameter_k = k_parameter\n",
    "            \n",
    "\n",
    "# # rebuild a model with best parameters to get score \n",
    "# SelectedSVMmodel = SVC(C=best_parameter_c, gamma=best_parameter_gamma, kernel=best_parameter_k, random_state=12).fit(X_train, y_train)\n",
    "\n",
    "# test_score = SelectedSVMmodel.score(X_test, y_test)\n",
    "# PredictedOutput = SelectedSVMmodel.predict(X_test)\n",
    "# test_recall = recall_score(y_test, PredictedOutput, pos_label=1)\n",
    "# fpr, tpr, thresholds = roc_curve(y_test, PredictedOutput, pos_label=1)\n",
    "# test_auc = auc(fpr, tpr)\n",
    "# print(\"Best accuracy on cross validation set is:\", best_score)\n",
    "# print(\"Best parameter for c is: \", best_parameter_c)\n",
    "# print(\"Best parameter for gamma is: \", best_parameter_gamma)\n",
    "# print(\"Best parameter for kernel is: \", best_parameter_k)\n",
    "# print(\"Test accuracy with the best parameters is\", test_score)\n",
    "# print(\"Test recall with the best parameters is\", test_recall)\n",
    "# print(\"Test recall with the best parameter is\", test_auc)"
   ]
  },
  {
   "cell_type": "markdown",
   "id": "6f888bb1-f805-4e04-9032-1d1bf76b106c",
   "metadata": {},
   "source": [
    "## Linear SVM based on the best kernel parameters found"
   ]
  },
  {
   "cell_type": "code",
   "execution_count": 21,
   "id": "17dbcebe-8685-4134-bfaf-85c91384266f",
   "metadata": {},
   "outputs": [
    {
     "name": "stdout",
     "output_type": "stream",
     "text": [
      "Accuracy of Linear SVC 1: 0.848780487804878\n"
     ]
    }
   ],
   "source": [
    "SVCmodel = SVC(C=100, kernel='linear', random_state=12).fit(X_train, y_train)\n",
    "score = SVCmodel.score(X_test, y_test)\n",
    "print(\"Accuracy of Linear SVC 1:\", score)"
   ]
  },
  {
   "cell_type": "code",
   "execution_count": 22,
   "id": "f2db2bd8-2e95-43bc-a10b-c131aee51480",
   "metadata": {},
   "outputs": [],
   "source": [
    "pred_svm = SVCmodel.predict(X_test)"
   ]
  },
  {
   "cell_type": "code",
   "execution_count": 23,
   "id": "5de8b74a-242a-4c1f-a71f-f43d7189a6d5",
   "metadata": {},
   "outputs": [
    {
     "name": "stdout",
     "output_type": "stream",
     "text": [
      "              precision    recall  f1-score   support\n",
      "\n",
      "           0       0.86      0.94      0.90       142\n",
      "           1       0.82      0.65      0.73        63\n",
      "\n",
      "    accuracy                           0.85       205\n",
      "   macro avg       0.84      0.79      0.81       205\n",
      "weighted avg       0.85      0.85      0.84       205\n",
      "\n"
     ]
    }
   ],
   "source": [
    "print(classification_report(y_test, pred_svm))"
   ]
  },
  {
   "cell_type": "code",
   "execution_count": 24,
   "id": "1c9b9706-2243-4e5f-8190-d578436436c3",
   "metadata": {},
   "outputs": [
    {
     "data": {
      "text/plain": [
       "<sklearn.metrics._plot.confusion_matrix.ConfusionMatrixDisplay at 0x7f20eebed910>"
      ]
     },
     "execution_count": 24,
     "metadata": {},
     "output_type": "execute_result"
    },
    {
     "data": {
      "image/png": "[encoded data removed]",
      "text/plain": [
       "<Figure size 432x288 with 2 Axes>"
      ]
     },
     "metadata": {
      "needs_background": "light"
     },
     "output_type": "display_data"
    }
   ],
   "source": [
    "plot_confusion_matrix(SVCmodel, X_test, y_test, display_labels=['Control', 'Dementia'], cmap=plt.cm.Blues)"
   ]
  },
  {
   "cell_type": "markdown",
   "id": "1a92ff92-0411-44c6-a63c-5c3a3ef587f8",
   "metadata": {},
   "source": [
    "### Linear SVM using the LinearSVC module"
   ]
  },
  {
   "cell_type": "code",
   "execution_count": 25,
   "id": "8afbb1d2-01a4-4015-8270-461ff1cdeea0",
   "metadata": {},
   "outputs": [
    {
     "name": "stdout",
     "output_type": "stream",
     "text": [
      "Accuracy of Linear SVC 2: 0.848780487804878\n"
     ]
    }
   ],
   "source": [
    "LinearSVCmodel = LinearSVC(C=100, random_state=12).fit(X_train, y_train)\n",
    "score = LinearSVCmodel.score(X_test, y_test)\n",
    "print(\"Accuracy of Linear SVC 2:\", score)"
   ]
  },
  {
   "cell_type": "code",
   "execution_count": 26,
   "id": "bc896752-32a9-4682-a22d-bbf3c9a3bf12",
   "metadata": {},
   "outputs": [],
   "source": [
    "pred_svm_clf = LinearSVCmodel.predict(X_test)"
   ]
  },
  {
   "cell_type": "code",
   "execution_count": 27,
   "id": "1336e009-2d58-47dc-84e3-0264f52c1790",
   "metadata": {},
   "outputs": [
    {
     "name": "stdout",
     "output_type": "stream",
     "text": [
      "              precision    recall  f1-score   support\n",
      "\n",
      "           0       0.86      0.93      0.89       142\n",
      "           1       0.81      0.67      0.73        63\n",
      "\n",
      "    accuracy                           0.85       205\n",
      "   macro avg       0.84      0.80      0.81       205\n",
      "weighted avg       0.85      0.85      0.84       205\n",
      "\n"
     ]
    }
   ],
   "source": [
    "print(classification_report(y_test, pred_svm_clf))"
   ]
  },
  {
   "cell_type": "code",
   "execution_count": 28,
   "id": "547e1ca3-3aeb-4a4b-b41f-ff588b18808e",
   "metadata": {},
   "outputs": [
    {
     "data": {
      "text/plain": [
       "<sklearn.metrics._plot.confusion_matrix.ConfusionMatrixDisplay at 0x7f2170ef5610>"
      ]
     },
     "execution_count": 28,
     "metadata": {},
     "output_type": "execute_result"
    },
    {
     "data": {
      "image/png": "[encoded data removed]",
      "text/plain": [
       "<Figure size 432x288 with 2 Axes>"
      ]
     },
     "metadata": {
      "needs_background": "light"
     },
     "output_type": "display_data"
    }
   ],
   "source": [
    "plot_confusion_matrix(LinearSVCmodel, X_test, y_test, display_labels=['Control', 'Dementia'], cmap=plt.cm.Blues)"
   ]
  },
  {
   "cell_type": "markdown",
   "id": "d7be91f4-1e6d-4270-8133-44b1f4983a7c",
   "metadata": {},
   "source": [
    "#### Print all combinations of an array, taken from [GeekForGeeks](https://www.geeksforgeeks.org/print-all-possible-combinations-of-r-elements-in-a-given-array-of-size-n/)"
   ]
  },
  {
   "cell_type": "code",
   "execution_count": 29,
   "id": "36a7687a-531e-4e03-98e3-ee87b365ea64",
   "metadata": {},
   "outputs": [],
   "source": [
    "def printCombination(arr, n, r):\n",
    "    data = [0]*r\n",
    "    combos = []\n",
    "    combinationUtil(arr, data, 0, n - 1, 0, r, combos)\n",
    "    return combos\n",
    " \n",
    "    \n",
    "def combinationUtil(arr, data, start, end, index, r, combos):\n",
    "    if (index == r):\n",
    "        temp = []\n",
    "        for j in range(r):\n",
    "            temp.append(data[j])\n",
    "        combos.append(temp)\n",
    "        return\n",
    "    i = start\n",
    "    while(i <= end and end - i + 1 >= r - index):\n",
    "        data[index] = arr[i]\n",
    "        combinationUtil(arr, data, i + 1, end, index + 1, r, combos)\n",
    "        i += 1"
   ]
  },
  {
   "cell_type": "code",
   "execution_count": 30,
   "id": "8a02c9f3-0881-49e1-b674-a4fc99107a73",
   "metadata": {},
   "outputs": [],
   "source": [
    "def find_best_parameter(X_train, X_test, y_train, y_test):\n",
    "    #LinearSVCmodel = LinearSVC(C=100, random_state=12).fit(X_train, y_train)\n",
    "    n_estimators = 10\n",
    "    svmModel = BaggingClassifier(SVC(kernel='linear', C=100, cache_size=7000, random_state=12), \n",
    "                                         max_samples=1.0 / n_estimators, n_estimators=n_estimators, n_jobs=-1)\n",
    "    svmModel.fit(X_train, y_train)\n",
    "    score = svmModel.score(X_test, y_test)\n",
    "    return score"
   ]
  },
  {
   "cell_type": "code",
   "execution_count": 31,
   "id": "e7fca92f-2673-499a-ab81-98c4086766e4",
   "metadata": {},
   "outputs": [],
   "source": [
    "from tqdm.notebook import trange, tqdm\n",
    "import sys"
   ]
  },
  {
   "cell_type": "code",
   "execution_count": 32,
   "id": "3667ef5f-848c-456a-93f6-cde033bc222d",
   "metadata": {},
   "outputs": [],
   "source": [
    "def find_best_score(arr):\n",
    "    n = len(arr)\n",
    "    cnt = 0\n",
    "    best = 0\n",
    "    best_combo = []\n",
    "    for i in trange((len(arr)-1), desc='Outer', position=0, leave=True):\n",
    "        combos = printCombination(arr, n, i+1)\n",
    "        for item in tqdm(combos, desc='Inner', position=0, leave=True):\n",
    "            df2 = df.drop(item, axis=1)\n",
    "            # Separate the dataset into features and response variable\n",
    "            X = df2.drop(['Diagnosis'], axis=1)\n",
    "            y = df2['Diagnosis']\n",
    "\n",
    "            # Splitting data into training and testing data\n",
    "            X_train, X_test, y_train, y_test = train_test_split(X, y, test_size=0.2, random_state=12)\n",
    "\n",
    "            # Applying mixmax scaling to data\n",
    "            sc = MinMaxScaler()\n",
    "            X_train = sc.fit_transform(X_train)\n",
    "            X_test = sc.transform(X_test)\n",
    "\n",
    "            newscore = find_best_parameter(X_train, X_test, y_train, y_test)\n",
    "            if newscore > best:\n",
    "                best = newscore\n",
    "                best_combo = item\n",
    "                tqdm.write(f'New best accuracy of {best} if we drop {best_combo}')"
   ]
  },
  {
   "cell_type": "code",
   "execution_count": 33,
   "id": "d3bd944a-fe6f-459d-b2ad-7e41f36b850f",
   "metadata": {
    "scrolled": true,
    "tags": []
   },
   "outputs": [
    {
     "data": {
      "application/vnd.jupyter.widget-view+json": {
       "model_id": "162d7b5ef92346b2ac72cb5c78f6d1de",
       "version_major": 2,
       "version_minor": 0
      },
      "text/plain": [
       "Outer:   0%|          | 0/15 [00:00<?, ?it/s]"
      ]
     },
     "metadata": {},
     "output_type": "display_data"
    },
    {
     "data": {
      "application/vnd.jupyter.widget-view+json": {
       "model_id": "f533e7dc01914b22ae88935d0b7266b6",
       "version_major": 2,
       "version_minor": 0
      },
      "text/plain": [
       "Inner:   0%|          | 0/16 [00:00<?, ?it/s]"
      ]
     },
     "metadata": {},
     "output_type": "display_data"
    },
    {
     "name": "stdout",
     "output_type": "stream",
     "text": [
      "New best accuracy of 0.8536585365853658 if we drop ['Age']\n",
      "New best accuracy of 0.8634146341463415 if we drop ['lhCortexVol']\n",
      "New best accuracy of 0.8682926829268293 if we drop ['SubCortGrayVol']\n",
      "New best accuracy of 0.8731707317073171 if we drop ['R.SurfArea']\n"
     ]
    },
    {
     "data": {
      "application/vnd.jupyter.widget-view+json": {
       "model_id": "d9a94843cae848c3ac4ecefe7eb635f5",
       "version_major": 2,
       "version_minor": 0
      },
      "text/plain": [
       "Inner:   0%|          | 0/120 [00:00<?, ?it/s]"
      ]
     },
     "metadata": {},
     "output_type": "display_data"
    },
    {
     "name": "stdout",
     "output_type": "stream",
     "text": [
      "New best accuracy of 0.8780487804878049 if we drop ['Age', 'TotalGrayVol']\n"
     ]
    },
    {
     "data": {
      "application/vnd.jupyter.widget-view+json": {
       "model_id": "6a8bf1d8127641c188aa821e2995a4c2",
       "version_major": 2,
       "version_minor": 0
      },
      "text/plain": [
       "Inner:   0%|          | 0/560 [00:00<?, ?it/s]"
      ]
     },
     "metadata": {},
     "output_type": "display_data"
    },
    {
     "data": {
      "application/vnd.jupyter.widget-view+json": {
       "model_id": "3f24c676979a4f22a6ba5f1f3d948748",
       "version_major": 2,
       "version_minor": 0
      },
      "text/plain": [
       "Inner:   0%|          | 0/1820 [00:00<?, ?it/s]"
      ]
     },
     "metadata": {},
     "output_type": "display_data"
    },
    {
     "name": "stdout",
     "output_type": "stream",
     "text": [
      "New best accuracy of 0.8878048780487805 if we drop ['Age', 'apoe', 'IntraCranialVol', 'L.SurfArea']\n"
     ]
    },
    {
     "data": {
      "application/vnd.jupyter.widget-view+json": {
       "model_id": "dbf46750481e417fb63e7e8a5db86692",
       "version_major": 2,
       "version_minor": 0
      },
      "text/plain": [
       "Inner:   0%|          | 0/4368 [00:00<?, ?it/s]"
      ]
     },
     "metadata": {},
     "output_type": "display_data"
    },
    {
     "data": {
      "application/vnd.jupyter.widget-view+json": {
       "model_id": "1adac7346b584f4890a8795bb9296282",
       "version_major": 2,
       "version_minor": 0
      },
      "text/plain": [
       "Inner:   0%|          | 0/8008 [00:00<?, ?it/s]"
      ]
     },
     "metadata": {},
     "output_type": "display_data"
    },
    {
     "name": "stdout",
     "output_type": "stream",
     "text": [
      "New best accuracy of 0.8975609756097561 if we drop ['Age', 'apoe', 'rhCortexVol', 'CortexVol', 'rhCorticalWhiteMatterVol', 'R.SurfArea']\n"
     ]
    },
    {
     "data": {
      "application/vnd.jupyter.widget-view+json": {
       "model_id": "7d40458bae8d4a9ea93e4f73af6df1a0",
       "version_major": 2,
       "version_minor": 0
      },
      "text/plain": [
       "Inner:   0%|          | 0/11440 [00:00<?, ?it/s]"
      ]
     },
     "metadata": {},
     "output_type": "display_data"
    },
    {
     "data": {
      "application/vnd.jupyter.widget-view+json": {
       "model_id": "605c6d870bf640659e98ed0e9c1f5fc8",
       "version_major": 2,
       "version_minor": 0
      },
      "text/plain": [
       "Inner:   0%|          | 0/12870 [00:00<?, ?it/s]"
      ]
     },
     "metadata": {},
     "output_type": "display_data"
    },
    {
     "data": {
      "application/vnd.jupyter.widget-view+json": {
       "model_id": "ff7c0ad3b94c467fa8472b701b4a6e03",
       "version_major": 2,
       "version_minor": 0
      },
      "text/plain": [
       "Inner:   0%|          | 0/11440 [00:00<?, ?it/s]"
      ]
     },
     "metadata": {},
     "output_type": "display_data"
    },
    {
     "data": {
      "application/vnd.jupyter.widget-view+json": {
       "model_id": "2d2e8348ee294bcaa79d5b97e8025871",
       "version_major": 2,
       "version_minor": 0
      },
      "text/plain": [
       "Inner:   0%|          | 0/8008 [00:00<?, ?it/s]"
      ]
     },
     "metadata": {},
     "output_type": "display_data"
    },
    {
     "data": {
      "application/vnd.jupyter.widget-view+json": {
       "model_id": "705a0822c9b942699098e5257936a9a1",
       "version_major": 2,
       "version_minor": 0
      },
      "text/plain": [
       "Inner:   0%|          | 0/4368 [00:00<?, ?it/s]"
      ]
     },
     "metadata": {},
     "output_type": "display_data"
    },
    {
     "data": {
      "application/vnd.jupyter.widget-view+json": {
       "model_id": "50ac385eb3f7442a84df883b0997bb75",
       "version_major": 2,
       "version_minor": 0
      },
      "text/plain": [
       "Inner:   0%|          | 0/1820 [00:00<?, ?it/s]"
      ]
     },
     "metadata": {},
     "output_type": "display_data"
    },
    {
     "data": {
      "application/vnd.jupyter.widget-view+json": {
       "model_id": "8ce13aaa06d642208dfb81efabfecf66",
       "version_major": 2,
       "version_minor": 0
      },
      "text/plain": [
       "Inner:   0%|          | 0/560 [00:00<?, ?it/s]"
      ]
     },
     "metadata": {},
     "output_type": "display_data"
    },
    {
     "data": {
      "application/vnd.jupyter.widget-view+json": {
       "model_id": "bc19865cc25b48ca8c6da415c8b0d937",
       "version_major": 2,
       "version_minor": 0
      },
      "text/plain": [
       "Inner:   0%|          | 0/120 [00:00<?, ?it/s]"
      ]
     },
     "metadata": {},
     "output_type": "display_data"
    },
    {
     "data": {
      "application/vnd.jupyter.widget-view+json": {
       "model_id": "4319d6a8afec4feba1aa7964176c61df",
       "version_major": 2,
       "version_minor": 0
      },
      "text/plain": [
       "Inner:   0%|          | 0/16 [00:00<?, ?it/s]"
      ]
     },
     "metadata": {},
     "output_type": "display_data"
    }
   ],
   "source": [
    "arr = df.drop('Diagnosis', axis=1).columns\n",
    "find_best_score(arr)"
   ]
  }
 ],
 "metadata": {
  "kernelspec": {
   "display_name": "Python 3",
   "language": "python",
   "name": "python3"
  },
  "language_info": {
   "codemirror_mode": {
    "name": "ipython",
    "version": 3
   },
   "file_extension": ".py",
   "mimetype": "text/x-python",
   "name": "python",
   "nbconvert_exporter": "python",
   "pygments_lexer": "ipython3",
   "version": "3.8.8"
  }
 },
 "nbformat": 4,
 "nbformat_minor": 5
}
