{
 "cells": [
  {
   "cell_type": "markdown",
   "id": "75f69d6c-05b1-428b-99e5-43a8e4007cd1",
   "metadata": {},
   "source": [
    "# SKLearn SVM"
   ]
  },
  {
   "cell_type": "markdown",
   "id": "dae90a74-4573-4fe5-9472-7ced452294c1",
   "metadata": {},
   "source": [
    "## Data Use Agreements\n",
    "The data used for this project were provided in part by OASIS and ADNI.\n",
    "\n",
    "OASIS-3: Principal Investigators: T. Benzinger, D. Marcus, J. Morris; NIH P50 AG00561, P30 NS09857781, P01 AG026276, P01 AG003991, R01 AG043434, UL1 TR000448, R01 EB009352. AV-45 doses were provided by Avid Radiopharmaceuticals, a wholly owned subsidiary of Eli Lilly.\n",
    "\n",
    "Data collection for this project was done through the Alzheimer's Disease Neuroimaging Initiative (ADNI) (National Institutes of Health Grant U01 AG024904) and DOD ADNI (Department of Defense award number W81XWH-12-2-0012). ADNI is funded by the National Institute on Aging, the National Institute of Biomedical Imaging and Bioengineering, and through generous contributions from the following: AbbVie, Alzheimer’s Association; Alzheimer’s Drug Discovery Foundation; Araclon Biotech; BioClinica, Inc.; Biogen; Bristol-Myers Squibb Company; CereSpir, Inc.; Cogstate; Eisai Inc.; Elan Pharmaceuticals, Inc.; Eli Lilly and Company; EuroImmun; F. Hoffmann-La Roche Ltd and its affiliated company Genentech, Inc.; Fujirebio; GE Healthcare; IXICO Ltd.; Janssen Alzheimer Immunotherapy Research & Development, LLC.; Johnson & Johnson Pharmaceutical Research & Development LLC.; Lumosity; Lundbeck; Merck & Co., Inc.; Meso Scale Diagnostics, LLC.; NeuroRx Research; Neurotrack Technologies; Novartis Pharmaceuticals Corporation; Pfizer Inc.; Piramal Imaging; Servier; Takeda Pharmaceutical Company; and Transition Therapeutics. The Canadian Institutes of Health Research is providing funds to support ADNI clinical sites in Canada. Private sector contributions are facilitated by the Foundation for the National Institutes of Health (www.fnih.org). The grantee organization is the Northern California Institute for Research and Education, and the study is coordinated by the Alzheimer’s Therapeutic Research Institute at the University of Southern California. ADNI data are disseminated by the Laboratory for Neuro Imaging at the University of Southern California."
   ]
  },
  {
   "cell_type": "code",
   "execution_count": 1,
   "id": "3089df12",
   "metadata": {},
   "outputs": [],
   "source": [
    "import pandas as pd\n",
    "import numpy as np\n",
    "import seaborn as sns\n",
    "import matplotlib.pyplot as plt\n",
    "import warnings\n",
    "warnings.filterwarnings('ignore')\n",
    "%matplotlib inline"
   ]
  },
  {
   "cell_type": "code",
   "execution_count": 2,
   "id": "c91ff72a",
   "metadata": {},
   "outputs": [],
   "source": [
    "# Loading dataset\n",
    "df = pd.read_csv('../../Data/OASIS/oasis_3.csv')"
   ]
  },
  {
   "cell_type": "code",
   "execution_count": 3,
   "id": "bedba08f",
   "metadata": {},
   "outputs": [
    {
     "data": {
      "text/html": [
       "<div>\n",
       "<style scoped>\n",
       "    .dataframe tbody tr th:only-of-type {\n",
       "        vertical-align: middle;\n",
       "    }\n",
       "\n",
       "    .dataframe tbody tr th {\n",
       "        vertical-align: top;\n",
       "    }\n",
       "\n",
       "    .dataframe thead th {\n",
       "        text-align: right;\n",
       "    }\n",
       "</style>\n",
       "<table border=\"1\" class=\"dataframe\">\n",
       "  <thead>\n",
       "    <tr style=\"text-align: right;\">\n",
       "      <th></th>\n",
       "      <th>Subject</th>\n",
       "      <th>MR ID</th>\n",
       "      <th>id</th>\n",
       "      <th>Age</th>\n",
       "      <th>M/F</th>\n",
       "      <th>dx1</th>\n",
       "      <th>mmse</th>\n",
       "      <th>cdr</th>\n",
       "      <th>apoe</th>\n",
       "      <th>TOTAL_HIPPOCAMPUS_VOLUME</th>\n",
       "      <th>...</th>\n",
       "      <th>rhCortexVol</th>\n",
       "      <th>CortexVol</th>\n",
       "      <th>SubCortGrayVol</th>\n",
       "      <th>TotalGrayVol</th>\n",
       "      <th>SupraTentorialVol</th>\n",
       "      <th>lhCorticalWhiteMatterVol</th>\n",
       "      <th>rhCorticalWhiteMatterVol</th>\n",
       "      <th>CorticalWhiteMatterVol</th>\n",
       "      <th>L.SurfArea</th>\n",
       "      <th>R.SurfArea</th>\n",
       "    </tr>\n",
       "  </thead>\n",
       "  <tbody>\n",
       "    <tr>\n",
       "      <th>0</th>\n",
       "      <td>OAS30001</td>\n",
       "      <td>OAS30001_MR_d3132</td>\n",
       "      <td>OAS30001_Freesurfer53_d3132</td>\n",
       "      <td>73.0</td>\n",
       "      <td>F</td>\n",
       "      <td>Cognitively normal</td>\n",
       "      <td>30.0</td>\n",
       "      <td>0.0</td>\n",
       "      <td>23.0</td>\n",
       "      <td>6861.9</td>\n",
       "      <td>...</td>\n",
       "      <td>178031.558882</td>\n",
       "      <td>359975.257636</td>\n",
       "      <td>48400.0</td>\n",
       "      <td>491102.257636</td>\n",
       "      <td>7.736716e+05</td>\n",
       "      <td>174372.329393</td>\n",
       "      <td>173244.012238</td>\n",
       "      <td>347616.341631</td>\n",
       "      <td>67598.1</td>\n",
       "      <td>67185.8</td>\n",
       "    </tr>\n",
       "    <tr>\n",
       "      <th>1</th>\n",
       "      <td>OAS30001</td>\n",
       "      <td>OAS30001_MR_d0129</td>\n",
       "      <td>OAS30001_Freesurfer53_d0129</td>\n",
       "      <td>65.0</td>\n",
       "      <td>F</td>\n",
       "      <td>Cognitively normal</td>\n",
       "      <td>30.0</td>\n",
       "      <td>0.0</td>\n",
       "      <td>23.0</td>\n",
       "      <td>7678.9</td>\n",
       "      <td>...</td>\n",
       "      <td>187528.786036</td>\n",
       "      <td>379446.180091</td>\n",
       "      <td>50687.0</td>\n",
       "      <td>517683.180091</td>\n",
       "      <td>8.105851e+05</td>\n",
       "      <td>184600.488060</td>\n",
       "      <td>182662.445419</td>\n",
       "      <td>367262.933479</td>\n",
       "      <td>70168.1</td>\n",
       "      <td>69483.8</td>\n",
       "    </tr>\n",
       "    <tr>\n",
       "      <th>2</th>\n",
       "      <td>OAS30001</td>\n",
       "      <td>OAS30001_MR_d2430</td>\n",
       "      <td>OAS30001_Freesurfer53_d2430</td>\n",
       "      <td>71.0</td>\n",
       "      <td>F</td>\n",
       "      <td>Cognitively normal</td>\n",
       "      <td>30.0</td>\n",
       "      <td>0.0</td>\n",
       "      <td>23.0</td>\n",
       "      <td>7105.9</td>\n",
       "      <td>...</td>\n",
       "      <td>178872.680224</td>\n",
       "      <td>357784.489639</td>\n",
       "      <td>49058.0</td>\n",
       "      <td>487405.489639</td>\n",
       "      <td>7.779313e+05</td>\n",
       "      <td>175955.968883</td>\n",
       "      <td>178172.812666</td>\n",
       "      <td>354128.781549</td>\n",
       "      <td>67905.7</td>\n",
       "      <td>68000.2</td>\n",
       "    </tr>\n",
       "    <tr>\n",
       "      <th>3</th>\n",
       "      <td>OAS30001</td>\n",
       "      <td>OAS30001_MR_d0757</td>\n",
       "      <td>OAS30001_Freesurfer53_d0757</td>\n",
       "      <td>67.0</td>\n",
       "      <td>F</td>\n",
       "      <td>Cognitively normal</td>\n",
       "      <td>29.0</td>\n",
       "      <td>0.0</td>\n",
       "      <td>23.0</td>\n",
       "      <td>7648.2</td>\n",
       "      <td>...</td>\n",
       "      <td>177566.874682</td>\n",
       "      <td>362040.150904</td>\n",
       "      <td>50071.0</td>\n",
       "      <td>500699.150904</td>\n",
       "      <td>7.993419e+05</td>\n",
       "      <td>185224.779932</td>\n",
       "      <td>188151.990316</td>\n",
       "      <td>373376.770247</td>\n",
       "      <td>69142.3</td>\n",
       "      <td>68558.8</td>\n",
       "    </tr>\n",
       "    <tr>\n",
       "      <th>4</th>\n",
       "      <td>OAS30002</td>\n",
       "      <td>OAS30002_MR_d2345</td>\n",
       "      <td>OAS30002_Freesurfer53_d2345</td>\n",
       "      <td>73.0</td>\n",
       "      <td>M</td>\n",
       "      <td>Cognitively normal</td>\n",
       "      <td>29.0</td>\n",
       "      <td>0.0</td>\n",
       "      <td>34.0</td>\n",
       "      <td>7833.2</td>\n",
       "      <td>...</td>\n",
       "      <td>230240.532783</td>\n",
       "      <td>457342.035802</td>\n",
       "      <td>56773.0</td>\n",
       "      <td>607473.035802</td>\n",
       "      <td>1.051714e+06</td>\n",
       "      <td>239168.338419</td>\n",
       "      <td>245361.377267</td>\n",
       "      <td>484529.715686</td>\n",
       "      <td>83138.1</td>\n",
       "      <td>85742.3</td>\n",
       "    </tr>\n",
       "  </tbody>\n",
       "</table>\n",
       "<p>5 rows × 22 columns</p>\n",
       "</div>"
      ],
      "text/plain": [
       "    Subject              MR ID                           id   Age M/F  \\\n",
       "0  OAS30001  OAS30001_MR_d3132  OAS30001_Freesurfer53_d3132  73.0   F   \n",
       "1  OAS30001  OAS30001_MR_d0129  OAS30001_Freesurfer53_d0129  65.0   F   \n",
       "2  OAS30001  OAS30001_MR_d2430  OAS30001_Freesurfer53_d2430  71.0   F   \n",
       "3  OAS30001  OAS30001_MR_d0757  OAS30001_Freesurfer53_d0757  67.0   F   \n",
       "4  OAS30002  OAS30002_MR_d2345  OAS30002_Freesurfer53_d2345  73.0   M   \n",
       "\n",
       "                  dx1  mmse  cdr  apoe  TOTAL_HIPPOCAMPUS_VOLUME  ...  \\\n",
       "0  Cognitively normal  30.0  0.0  23.0                    6861.9  ...   \n",
       "1  Cognitively normal  30.0  0.0  23.0                    7678.9  ...   \n",
       "2  Cognitively normal  30.0  0.0  23.0                    7105.9  ...   \n",
       "3  Cognitively normal  29.0  0.0  23.0                    7648.2  ...   \n",
       "4  Cognitively normal  29.0  0.0  34.0                    7833.2  ...   \n",
       "\n",
       "     rhCortexVol      CortexVol  SubCortGrayVol   TotalGrayVol  \\\n",
       "0  178031.558882  359975.257636         48400.0  491102.257636   \n",
       "1  187528.786036  379446.180091         50687.0  517683.180091   \n",
       "2  178872.680224  357784.489639         49058.0  487405.489639   \n",
       "3  177566.874682  362040.150904         50071.0  500699.150904   \n",
       "4  230240.532783  457342.035802         56773.0  607473.035802   \n",
       "\n",
       "   SupraTentorialVol  lhCorticalWhiteMatterVol  rhCorticalWhiteMatterVol  \\\n",
       "0       7.736716e+05             174372.329393             173244.012238   \n",
       "1       8.105851e+05             184600.488060             182662.445419   \n",
       "2       7.779313e+05             175955.968883             178172.812666   \n",
       "3       7.993419e+05             185224.779932             188151.990316   \n",
       "4       1.051714e+06             239168.338419             245361.377267   \n",
       "\n",
       "   CorticalWhiteMatterVol  L.SurfArea  R.SurfArea  \n",
       "0           347616.341631     67598.1     67185.8  \n",
       "1           367262.933479     70168.1     69483.8  \n",
       "2           354128.781549     67905.7     68000.2  \n",
       "3           373376.770247     69142.3     68558.8  \n",
       "4           484529.715686     83138.1     85742.3  \n",
       "\n",
       "[5 rows x 22 columns]"
      ]
     },
     "execution_count": 3,
     "metadata": {},
     "output_type": "execute_result"
    }
   ],
   "source": [
    "df.head()"
   ]
  },
  {
   "cell_type": "markdown",
   "id": "6c51d806",
   "metadata": {},
   "source": [
    "## Data Preprocessing"
   ]
  },
  {
   "cell_type": "code",
   "execution_count": 4,
   "id": "8bf89492",
   "metadata": {},
   "outputs": [],
   "source": [
    "from sklearn.preprocessing import MinMaxScaler, LabelEncoder\n",
    "from sklearn.model_selection import train_test_split"
   ]
  },
  {
   "cell_type": "code",
   "execution_count": 5,
   "id": "9843f9d6",
   "metadata": {},
   "outputs": [],
   "source": [
    "df = df.dropna(axis=1, how='all') # Drop any empty columns\n",
    "df = df.dropna(axis=0, how='any') # Drop any rows with empty values \n",
    "df = df.rename(columns={'id':'Freesurfer ID', 'dx1':'Diagnosis', \n",
    "                        'TOTAL_HIPPOCAMPUS_VOLUME':'TotalHippocampusVol'}) # Rename columns\n",
    "df = df.drop_duplicates(subset='Subject', keep='first') # Keep only the first visit; this is possible because\n",
    "                                                        # df is sorted by age\n",
    "df = df.reset_index(drop=True) # Reset the index\n",
    "df = df.set_index('Subject')"
   ]
  },
  {
   "cell_type": "code",
   "execution_count": 6,
   "id": "3a2e820f",
   "metadata": {},
   "outputs": [],
   "source": [
    "cols = df.columns.tolist()\n",
    "cols[2], cols[4] = cols[4], cols[2]\n",
    "df = df[cols]"
   ]
  },
  {
   "cell_type": "code",
   "execution_count": 7,
   "id": "03e6c865",
   "metadata": {},
   "outputs": [
    {
     "data": {
      "text/plain": [
       "AD Dementia                              163\n",
       "uncertain dementia                        59\n",
       "DLBD- primary                             11\n",
       "AD dem w/depresss- not contribut           8\n",
       "Unc: ques. Impairment                      6\n",
       "Frontotemporal demt. prim                  6\n",
       "AD dem Language dysf with                  6\n",
       "AD dem Language dysf after                 6\n",
       "AD dem w/depresss- contribut               5\n",
       "Dementia/PD- primary                       5\n",
       "0.5 in memory only                         5\n",
       "Vascular Demt- primary                     4\n",
       "AD dem w/oth (list B) contribut            3\n",
       "AD dem distrubed social- with              2\n",
       "Unc: impair reversible                     2\n",
       "DAT                                        2\n",
       "AD dem w/oth (list B) not contrib          2\n",
       "AD dem Language dysf prior                 2\n",
       "Non AD dem- Other primary                  2\n",
       "AD dem w/CVD contribut                     2\n",
       "AD dem cannot be primary                   2\n",
       "AD dem w/Frontal lobe/demt at onset        1\n",
       "AD dem w/PDI after AD dem contribut        1\n",
       "AD dem distrubed social- after             1\n",
       "AD dem w/CVD not contrib                   1\n",
       "AD dem distrubed social- prior             1\n",
       "Vascular Demt  primary                     1\n",
       "AD dem w/PDI after AD dem not contrib      1\n",
       "Name: Diagnosis, dtype: int64"
      ]
     },
     "execution_count": 7,
     "metadata": {},
     "output_type": "execute_result"
    }
   ],
   "source": [
    "# This shows that CDR is a good value to separate dementia vs control patients\n",
    "df.loc[df['cdr'] >= 0.5]['Diagnosis'].value_counts()"
   ]
  },
  {
   "cell_type": "code",
   "execution_count": 8,
   "id": "53e295a6",
   "metadata": {},
   "outputs": [
    {
     "data": {
      "text/plain": [
       "array(['control', 'dementia'], dtype=object)"
      ]
     },
     "execution_count": 8,
     "metadata": {},
     "output_type": "execute_result"
    }
   ],
   "source": [
    "df.loc[df['cdr'] < 0.5, 'Diagnosis'] = 'control'\n",
    "df.loc[~(df['cdr'] < 0.5), 'Diagnosis'] = 'dementia'\n",
    "df['Diagnosis'].unique()"
   ]
  },
  {
   "cell_type": "code",
   "execution_count": 9,
   "id": "d6230254",
   "metadata": {},
   "outputs": [
    {
     "data": {
      "text/plain": [
       "control     712\n",
       "dementia    310\n",
       "Name: Diagnosis, dtype: int64"
      ]
     },
     "execution_count": 9,
     "metadata": {},
     "output_type": "execute_result"
    }
   ],
   "source": [
    "# 0 indicates control, 1 indicates dementia\n",
    "df['Diagnosis'].value_counts()"
   ]
  },
  {
   "cell_type": "code",
   "execution_count": 10,
   "id": "63663b12-4714-4077-b20e-f42f81ce8750",
   "metadata": {},
   "outputs": [],
   "source": [
    "df.loc[df['Diagnosis'] == 'control', 'Diagnosis'] = 0\n",
    "df.loc[df['Diagnosis'] == 'dementia', 'Diagnosis'] = 1"
   ]
  },
  {
   "cell_type": "code",
   "execution_count": 11,
   "id": "6df2b14a",
   "metadata": {},
   "outputs": [
    {
     "data": {
      "text/plain": [
       "<AxesSubplot:xlabel='Diagnosis', ylabel='count'>"
      ]
     },
     "execution_count": 11,
     "metadata": {},
     "output_type": "execute_result"
    },
    {
     "data": {
      "image/png": "[encoded data removed]",
      "text/plain": [
       "<Figure size 432x288 with 1 Axes>"
      ]
     },
     "metadata": {
      "needs_background": "light"
     },
     "output_type": "display_data"
    }
   ],
   "source": [
    "sns.countplot(df['Diagnosis'])"
   ]
  },
  {
   "cell_type": "code",
   "execution_count": 12,
   "id": "63c535ef",
   "metadata": {},
   "outputs": [
    {
     "data": {
      "text/html": [
       "<div>\n",
       "<style scoped>\n",
       "    .dataframe tbody tr th:only-of-type {\n",
       "        vertical-align: middle;\n",
       "    }\n",
       "\n",
       "    .dataframe tbody tr th {\n",
       "        vertical-align: top;\n",
       "    }\n",
       "\n",
       "    .dataframe thead th {\n",
       "        text-align: right;\n",
       "    }\n",
       "</style>\n",
       "<table border=\"1\" class=\"dataframe\">\n",
       "  <thead>\n",
       "    <tr style=\"text-align: right;\">\n",
       "      <th></th>\n",
       "      <th>MR ID</th>\n",
       "      <th>Freesurfer ID</th>\n",
       "      <th>Diagnosis</th>\n",
       "      <th>M/F</th>\n",
       "      <th>Age</th>\n",
       "      <th>mmse</th>\n",
       "      <th>cdr</th>\n",
       "      <th>apoe</th>\n",
       "      <th>TotalHippocampusVol</th>\n",
       "      <th>IntraCranialVol</th>\n",
       "      <th>...</th>\n",
       "      <th>rhCortexVol</th>\n",
       "      <th>CortexVol</th>\n",
       "      <th>SubCortGrayVol</th>\n",
       "      <th>TotalGrayVol</th>\n",
       "      <th>SupraTentorialVol</th>\n",
       "      <th>lhCorticalWhiteMatterVol</th>\n",
       "      <th>rhCorticalWhiteMatterVol</th>\n",
       "      <th>CorticalWhiteMatterVol</th>\n",
       "      <th>L.SurfArea</th>\n",
       "      <th>R.SurfArea</th>\n",
       "    </tr>\n",
       "    <tr>\n",
       "      <th>Subject</th>\n",
       "      <th></th>\n",
       "      <th></th>\n",
       "      <th></th>\n",
       "      <th></th>\n",
       "      <th></th>\n",
       "      <th></th>\n",
       "      <th></th>\n",
       "      <th></th>\n",
       "      <th></th>\n",
       "      <th></th>\n",
       "      <th></th>\n",
       "      <th></th>\n",
       "      <th></th>\n",
       "      <th></th>\n",
       "      <th></th>\n",
       "      <th></th>\n",
       "      <th></th>\n",
       "      <th></th>\n",
       "      <th></th>\n",
       "      <th></th>\n",
       "      <th></th>\n",
       "    </tr>\n",
       "  </thead>\n",
       "  <tbody>\n",
       "    <tr>\n",
       "      <th>OAS30001</th>\n",
       "      <td>OAS30001_MR_d3132</td>\n",
       "      <td>OAS30001_Freesurfer53_d3132</td>\n",
       "      <td>0</td>\n",
       "      <td>F</td>\n",
       "      <td>73.0</td>\n",
       "      <td>30.0</td>\n",
       "      <td>0.0</td>\n",
       "      <td>23.0</td>\n",
       "      <td>6861.9</td>\n",
       "      <td>1.186091e+06</td>\n",
       "      <td>...</td>\n",
       "      <td>178031.558882</td>\n",
       "      <td>359975.257636</td>\n",
       "      <td>48400.0</td>\n",
       "      <td>491102.257636</td>\n",
       "      <td>7.736716e+05</td>\n",
       "      <td>174372.329393</td>\n",
       "      <td>173244.012238</td>\n",
       "      <td>347616.341631</td>\n",
       "      <td>67598.1</td>\n",
       "      <td>67185.8</td>\n",
       "    </tr>\n",
       "    <tr>\n",
       "      <th>OAS30002</th>\n",
       "      <td>OAS30002_MR_d2345</td>\n",
       "      <td>OAS30002_Freesurfer53_d2345</td>\n",
       "      <td>0</td>\n",
       "      <td>M</td>\n",
       "      <td>73.0</td>\n",
       "      <td>29.0</td>\n",
       "      <td>0.0</td>\n",
       "      <td>34.0</td>\n",
       "      <td>7833.2</td>\n",
       "      <td>1.714636e+06</td>\n",
       "      <td>...</td>\n",
       "      <td>230240.532783</td>\n",
       "      <td>457342.035802</td>\n",
       "      <td>56773.0</td>\n",
       "      <td>607473.035802</td>\n",
       "      <td>1.051714e+06</td>\n",
       "      <td>239168.338419</td>\n",
       "      <td>245361.377267</td>\n",
       "      <td>484529.715686</td>\n",
       "      <td>83138.1</td>\n",
       "      <td>85742.3</td>\n",
       "    </tr>\n",
       "    <tr>\n",
       "      <th>OAS30003</th>\n",
       "      <td>OAS30003_MR_d2682</td>\n",
       "      <td>OAS30003_Freesurfer53_d2682</td>\n",
       "      <td>0</td>\n",
       "      <td>F</td>\n",
       "      <td>66.0</td>\n",
       "      <td>29.0</td>\n",
       "      <td>0.0</td>\n",
       "      <td>33.0</td>\n",
       "      <td>7983.5</td>\n",
       "      <td>1.405092e+06</td>\n",
       "      <td>...</td>\n",
       "      <td>209641.219733</td>\n",
       "      <td>414466.938306</td>\n",
       "      <td>59379.0</td>\n",
       "      <td>557900.938306</td>\n",
       "      <td>9.299305e+05</td>\n",
       "      <td>213905.159729</td>\n",
       "      <td>222232.368895</td>\n",
       "      <td>436137.528624</td>\n",
       "      <td>76695.5</td>\n",
       "      <td>78697.9</td>\n",
       "    </tr>\n",
       "    <tr>\n",
       "      <th>OAS30004</th>\n",
       "      <td>OAS30004_MR_d2232</td>\n",
       "      <td>OAS30004_Freesurfer53_d2232</td>\n",
       "      <td>0</td>\n",
       "      <td>F</td>\n",
       "      <td>61.0</td>\n",
       "      <td>30.0</td>\n",
       "      <td>0.0</td>\n",
       "      <td>23.0</td>\n",
       "      <td>8525.1</td>\n",
       "      <td>1.443177e+06</td>\n",
       "      <td>...</td>\n",
       "      <td>206884.661369</td>\n",
       "      <td>420746.332475</td>\n",
       "      <td>53910.0</td>\n",
       "      <td>566477.332475</td>\n",
       "      <td>9.709780e+05</td>\n",
       "      <td>242595.702097</td>\n",
       "      <td>233016.992108</td>\n",
       "      <td>475612.694206</td>\n",
       "      <td>87710.1</td>\n",
       "      <td>84634.9</td>\n",
       "    </tr>\n",
       "    <tr>\n",
       "      <th>OAS30005</th>\n",
       "      <td>OAS30005_MR_d2377</td>\n",
       "      <td>OAS30005_Freesurfer53_d2377</td>\n",
       "      <td>0</td>\n",
       "      <td>F</td>\n",
       "      <td>54.0</td>\n",
       "      <td>30.0</td>\n",
       "      <td>0.0</td>\n",
       "      <td>33.0</td>\n",
       "      <td>9298.2</td>\n",
       "      <td>1.554566e+06</td>\n",
       "      <td>...</td>\n",
       "      <td>224311.450543</td>\n",
       "      <td>450055.106418</td>\n",
       "      <td>63545.0</td>\n",
       "      <td>611117.106418</td>\n",
       "      <td>9.867349e+05</td>\n",
       "      <td>229534.963360</td>\n",
       "      <td>230927.823126</td>\n",
       "      <td>460462.786487</td>\n",
       "      <td>82224.0</td>\n",
       "      <td>81421.3</td>\n",
       "    </tr>\n",
       "    <tr>\n",
       "      <th>OAS30006</th>\n",
       "      <td>OAS30006_MR_d2341</td>\n",
       "      <td>OAS30006_Freesurfer53_d2341</td>\n",
       "      <td>0</td>\n",
       "      <td>M</td>\n",
       "      <td>68.0</td>\n",
       "      <td>30.0</td>\n",
       "      <td>0.0</td>\n",
       "      <td>33.0</td>\n",
       "      <td>7634.1</td>\n",
       "      <td>1.946884e+06</td>\n",
       "      <td>...</td>\n",
       "      <td>237733.402077</td>\n",
       "      <td>472739.331515</td>\n",
       "      <td>58907.0</td>\n",
       "      <td>643328.331515</td>\n",
       "      <td>1.147571e+06</td>\n",
       "      <td>277185.190999</td>\n",
       "      <td>273057.137812</td>\n",
       "      <td>550242.328811</td>\n",
       "      <td>101915.0</td>\n",
       "      <td>99983.6</td>\n",
       "    </tr>\n",
       "    <tr>\n",
       "      <th>OAS30007</th>\n",
       "      <td>OAS30007_MR_d0061</td>\n",
       "      <td>OAS30007_Freesurfer53_d0061</td>\n",
       "      <td>1</td>\n",
       "      <td>M</td>\n",
       "      <td>71.0</td>\n",
       "      <td>28.0</td>\n",
       "      <td>0.5</td>\n",
       "      <td>24.0</td>\n",
       "      <td>8164.0</td>\n",
       "      <td>1.641880e+06</td>\n",
       "      <td>...</td>\n",
       "      <td>227909.170952</td>\n",
       "      <td>452008.699617</td>\n",
       "      <td>53490.0</td>\n",
       "      <td>608098.699617</td>\n",
       "      <td>9.575827e+05</td>\n",
       "      <td>206922.892386</td>\n",
       "      <td>206879.116423</td>\n",
       "      <td>413802.008808</td>\n",
       "      <td>84418.8</td>\n",
       "      <td>83142.6</td>\n",
       "    </tr>\n",
       "  </tbody>\n",
       "</table>\n",
       "<p>7 rows × 21 columns</p>\n",
       "</div>"
      ],
      "text/plain": [
       "                      MR ID                Freesurfer ID Diagnosis M/F   Age  \\\n",
       "Subject                                                                        \n",
       "OAS30001  OAS30001_MR_d3132  OAS30001_Freesurfer53_d3132         0   F  73.0   \n",
       "OAS30002  OAS30002_MR_d2345  OAS30002_Freesurfer53_d2345         0   M  73.0   \n",
       "OAS30003  OAS30003_MR_d2682  OAS30003_Freesurfer53_d2682         0   F  66.0   \n",
       "OAS30004  OAS30004_MR_d2232  OAS30004_Freesurfer53_d2232         0   F  61.0   \n",
       "OAS30005  OAS30005_MR_d2377  OAS30005_Freesurfer53_d2377         0   F  54.0   \n",
       "OAS30006  OAS30006_MR_d2341  OAS30006_Freesurfer53_d2341         0   M  68.0   \n",
       "OAS30007  OAS30007_MR_d0061  OAS30007_Freesurfer53_d0061         1   M  71.0   \n",
       "\n",
       "          mmse  cdr  apoe  TotalHippocampusVol  IntraCranialVol  ...  \\\n",
       "Subject                                                          ...   \n",
       "OAS30001  30.0  0.0  23.0               6861.9     1.186091e+06  ...   \n",
       "OAS30002  29.0  0.0  34.0               7833.2     1.714636e+06  ...   \n",
       "OAS30003  29.0  0.0  33.0               7983.5     1.405092e+06  ...   \n",
       "OAS30004  30.0  0.0  23.0               8525.1     1.443177e+06  ...   \n",
       "OAS30005  30.0  0.0  33.0               9298.2     1.554566e+06  ...   \n",
       "OAS30006  30.0  0.0  33.0               7634.1     1.946884e+06  ...   \n",
       "OAS30007  28.0  0.5  24.0               8164.0     1.641880e+06  ...   \n",
       "\n",
       "            rhCortexVol      CortexVol  SubCortGrayVol   TotalGrayVol  \\\n",
       "Subject                                                                 \n",
       "OAS30001  178031.558882  359975.257636         48400.0  491102.257636   \n",
       "OAS30002  230240.532783  457342.035802         56773.0  607473.035802   \n",
       "OAS30003  209641.219733  414466.938306         59379.0  557900.938306   \n",
       "OAS30004  206884.661369  420746.332475         53910.0  566477.332475   \n",
       "OAS30005  224311.450543  450055.106418         63545.0  611117.106418   \n",
       "OAS30006  237733.402077  472739.331515         58907.0  643328.331515   \n",
       "OAS30007  227909.170952  452008.699617         53490.0  608098.699617   \n",
       "\n",
       "          SupraTentorialVol  lhCorticalWhiteMatterVol  \\\n",
       "Subject                                                 \n",
       "OAS30001       7.736716e+05             174372.329393   \n",
       "OAS30002       1.051714e+06             239168.338419   \n",
       "OAS30003       9.299305e+05             213905.159729   \n",
       "OAS30004       9.709780e+05             242595.702097   \n",
       "OAS30005       9.867349e+05             229534.963360   \n",
       "OAS30006       1.147571e+06             277185.190999   \n",
       "OAS30007       9.575827e+05             206922.892386   \n",
       "\n",
       "          rhCorticalWhiteMatterVol  CorticalWhiteMatterVol  L.SurfArea  \\\n",
       "Subject                                                                  \n",
       "OAS30001             173244.012238           347616.341631     67598.1   \n",
       "OAS30002             245361.377267           484529.715686     83138.1   \n",
       "OAS30003             222232.368895           436137.528624     76695.5   \n",
       "OAS30004             233016.992108           475612.694206     87710.1   \n",
       "OAS30005             230927.823126           460462.786487     82224.0   \n",
       "OAS30006             273057.137812           550242.328811    101915.0   \n",
       "OAS30007             206879.116423           413802.008808     84418.8   \n",
       "\n",
       "          R.SurfArea  \n",
       "Subject               \n",
       "OAS30001     67185.8  \n",
       "OAS30002     85742.3  \n",
       "OAS30003     78697.9  \n",
       "OAS30004     84634.9  \n",
       "OAS30005     81421.3  \n",
       "OAS30006     99983.6  \n",
       "OAS30007     83142.6  \n",
       "\n",
       "[7 rows x 21 columns]"
      ]
     },
     "execution_count": 12,
     "metadata": {},
     "output_type": "execute_result"
    }
   ],
   "source": [
    "df.head(7)"
   ]
  },
  {
   "cell_type": "code",
   "execution_count": 13,
   "id": "a68441cd",
   "metadata": {},
   "outputs": [],
   "source": [
    "df = df.drop(['MR ID', 'Freesurfer ID', 'M/F', 'cdr', 'apoe'], axis=1) # Drop categorical and redundant columns\n",
    "# df = df.drop(['lhCortexVol', 'rhCortexVol', 'lhCorticalWhiteMatterVol', 'rhCorticalWhiteMatterVol', 'L.SurfArea', 'R.SurfArea'], axis=1) # Test drop to reduce dimensionality"
   ]
  },
  {
   "cell_type": "code",
   "execution_count": 14,
   "id": "7a404e44",
   "metadata": {},
   "outputs": [
    {
     "data": {
      "text/html": [
       "<div>\n",
       "<style scoped>\n",
       "    .dataframe tbody tr th:only-of-type {\n",
       "        vertical-align: middle;\n",
       "    }\n",
       "\n",
       "    .dataframe tbody tr th {\n",
       "        vertical-align: top;\n",
       "    }\n",
       "\n",
       "    .dataframe thead th {\n",
       "        text-align: right;\n",
       "    }\n",
       "</style>\n",
       "<table border=\"1\" class=\"dataframe\">\n",
       "  <thead>\n",
       "    <tr style=\"text-align: right;\">\n",
       "      <th></th>\n",
       "      <th>Diagnosis</th>\n",
       "      <th>Age</th>\n",
       "      <th>mmse</th>\n",
       "      <th>TotalHippocampusVol</th>\n",
       "      <th>IntraCranialVol</th>\n",
       "      <th>lhCortexVol</th>\n",
       "      <th>rhCortexVol</th>\n",
       "      <th>CortexVol</th>\n",
       "      <th>SubCortGrayVol</th>\n",
       "      <th>TotalGrayVol</th>\n",
       "      <th>SupraTentorialVol</th>\n",
       "      <th>lhCorticalWhiteMatterVol</th>\n",
       "      <th>rhCorticalWhiteMatterVol</th>\n",
       "      <th>CorticalWhiteMatterVol</th>\n",
       "      <th>L.SurfArea</th>\n",
       "      <th>R.SurfArea</th>\n",
       "    </tr>\n",
       "    <tr>\n",
       "      <th>Subject</th>\n",
       "      <th></th>\n",
       "      <th></th>\n",
       "      <th></th>\n",
       "      <th></th>\n",
       "      <th></th>\n",
       "      <th></th>\n",
       "      <th></th>\n",
       "      <th></th>\n",
       "      <th></th>\n",
       "      <th></th>\n",
       "      <th></th>\n",
       "      <th></th>\n",
       "      <th></th>\n",
       "      <th></th>\n",
       "      <th></th>\n",
       "      <th></th>\n",
       "    </tr>\n",
       "  </thead>\n",
       "  <tbody>\n",
       "    <tr>\n",
       "      <th>OAS30001</th>\n",
       "      <td>0</td>\n",
       "      <td>73.0</td>\n",
       "      <td>30.0</td>\n",
       "      <td>6861.9</td>\n",
       "      <td>1.186091e+06</td>\n",
       "      <td>181943.698754</td>\n",
       "      <td>178031.558882</td>\n",
       "      <td>359975.257636</td>\n",
       "      <td>48400.0</td>\n",
       "      <td>491102.257636</td>\n",
       "      <td>7.736716e+05</td>\n",
       "      <td>174372.329393</td>\n",
       "      <td>173244.012238</td>\n",
       "      <td>347616.341631</td>\n",
       "      <td>67598.1</td>\n",
       "      <td>67185.8</td>\n",
       "    </tr>\n",
       "    <tr>\n",
       "      <th>OAS30002</th>\n",
       "      <td>0</td>\n",
       "      <td>73.0</td>\n",
       "      <td>29.0</td>\n",
       "      <td>7833.2</td>\n",
       "      <td>1.714636e+06</td>\n",
       "      <td>227101.503019</td>\n",
       "      <td>230240.532783</td>\n",
       "      <td>457342.035802</td>\n",
       "      <td>56773.0</td>\n",
       "      <td>607473.035802</td>\n",
       "      <td>1.051714e+06</td>\n",
       "      <td>239168.338419</td>\n",
       "      <td>245361.377267</td>\n",
       "      <td>484529.715686</td>\n",
       "      <td>83138.1</td>\n",
       "      <td>85742.3</td>\n",
       "    </tr>\n",
       "    <tr>\n",
       "      <th>OAS30003</th>\n",
       "      <td>0</td>\n",
       "      <td>66.0</td>\n",
       "      <td>29.0</td>\n",
       "      <td>7983.5</td>\n",
       "      <td>1.405092e+06</td>\n",
       "      <td>204825.718573</td>\n",
       "      <td>209641.219733</td>\n",
       "      <td>414466.938306</td>\n",
       "      <td>59379.0</td>\n",
       "      <td>557900.938306</td>\n",
       "      <td>9.299305e+05</td>\n",
       "      <td>213905.159729</td>\n",
       "      <td>222232.368895</td>\n",
       "      <td>436137.528624</td>\n",
       "      <td>76695.5</td>\n",
       "      <td>78697.9</td>\n",
       "    </tr>\n",
       "    <tr>\n",
       "      <th>OAS30004</th>\n",
       "      <td>0</td>\n",
       "      <td>61.0</td>\n",
       "      <td>30.0</td>\n",
       "      <td>8525.1</td>\n",
       "      <td>1.443177e+06</td>\n",
       "      <td>213861.671106</td>\n",
       "      <td>206884.661369</td>\n",
       "      <td>420746.332475</td>\n",
       "      <td>53910.0</td>\n",
       "      <td>566477.332475</td>\n",
       "      <td>9.709780e+05</td>\n",
       "      <td>242595.702097</td>\n",
       "      <td>233016.992108</td>\n",
       "      <td>475612.694206</td>\n",
       "      <td>87710.1</td>\n",
       "      <td>84634.9</td>\n",
       "    </tr>\n",
       "    <tr>\n",
       "      <th>OAS30005</th>\n",
       "      <td>0</td>\n",
       "      <td>54.0</td>\n",
       "      <td>30.0</td>\n",
       "      <td>9298.2</td>\n",
       "      <td>1.554566e+06</td>\n",
       "      <td>225743.655875</td>\n",
       "      <td>224311.450543</td>\n",
       "      <td>450055.106418</td>\n",
       "      <td>63545.0</td>\n",
       "      <td>611117.106418</td>\n",
       "      <td>9.867349e+05</td>\n",
       "      <td>229534.963360</td>\n",
       "      <td>230927.823126</td>\n",
       "      <td>460462.786487</td>\n",
       "      <td>82224.0</td>\n",
       "      <td>81421.3</td>\n",
       "    </tr>\n",
       "  </tbody>\n",
       "</table>\n",
       "</div>"
      ],
      "text/plain": [
       "         Diagnosis   Age  mmse  TotalHippocampusVol  IntraCranialVol  \\\n",
       "Subject                                                                \n",
       "OAS30001         0  73.0  30.0               6861.9     1.186091e+06   \n",
       "OAS30002         0  73.0  29.0               7833.2     1.714636e+06   \n",
       "OAS30003         0  66.0  29.0               7983.5     1.405092e+06   \n",
       "OAS30004         0  61.0  30.0               8525.1     1.443177e+06   \n",
       "OAS30005         0  54.0  30.0               9298.2     1.554566e+06   \n",
       "\n",
       "            lhCortexVol    rhCortexVol      CortexVol  SubCortGrayVol  \\\n",
       "Subject                                                                 \n",
       "OAS30001  181943.698754  178031.558882  359975.257636         48400.0   \n",
       "OAS30002  227101.503019  230240.532783  457342.035802         56773.0   \n",
       "OAS30003  204825.718573  209641.219733  414466.938306         59379.0   \n",
       "OAS30004  213861.671106  206884.661369  420746.332475         53910.0   \n",
       "OAS30005  225743.655875  224311.450543  450055.106418         63545.0   \n",
       "\n",
       "           TotalGrayVol  SupraTentorialVol  lhCorticalWhiteMatterVol  \\\n",
       "Subject                                                                \n",
       "OAS30001  491102.257636       7.736716e+05             174372.329393   \n",
       "OAS30002  607473.035802       1.051714e+06             239168.338419   \n",
       "OAS30003  557900.938306       9.299305e+05             213905.159729   \n",
       "OAS30004  566477.332475       9.709780e+05             242595.702097   \n",
       "OAS30005  611117.106418       9.867349e+05             229534.963360   \n",
       "\n",
       "          rhCorticalWhiteMatterVol  CorticalWhiteMatterVol  L.SurfArea  \\\n",
       "Subject                                                                  \n",
       "OAS30001             173244.012238           347616.341631     67598.1   \n",
       "OAS30002             245361.377267           484529.715686     83138.1   \n",
       "OAS30003             222232.368895           436137.528624     76695.5   \n",
       "OAS30004             233016.992108           475612.694206     87710.1   \n",
       "OAS30005             230927.823126           460462.786487     82224.0   \n",
       "\n",
       "          R.SurfArea  \n",
       "Subject               \n",
       "OAS30001     67185.8  \n",
       "OAS30002     85742.3  \n",
       "OAS30003     78697.9  \n",
       "OAS30004     84634.9  \n",
       "OAS30005     81421.3  "
      ]
     },
     "execution_count": 14,
     "metadata": {},
     "output_type": "execute_result"
    }
   ],
   "source": [
    "df.head()"
   ]
  },
  {
   "cell_type": "code",
   "execution_count": 15,
   "id": "d8a12ecb-0f7f-4800-9a37-48eb9994046e",
   "metadata": {},
   "outputs": [
    {
     "data": {
      "text/plain": [
       "0    712\n",
       "1    310\n",
       "Name: Diagnosis, dtype: int64"
      ]
     },
     "execution_count": 15,
     "metadata": {},
     "output_type": "execute_result"
    }
   ],
   "source": [
    "df.Diagnosis.value_counts()"
   ]
  },
  {
   "cell_type": "code",
   "execution_count": 16,
   "id": "cfb89d65",
   "metadata": {},
   "outputs": [],
   "source": [
    "# Separate the dataset into features and response variable\n",
    "X = df.drop(['Diagnosis'], axis=1)\n",
    "y = df['Diagnosis']\n",
    "y=y.astype('int')"
   ]
  },
  {
   "cell_type": "code",
   "execution_count": 17,
   "id": "39c876f1",
   "metadata": {},
   "outputs": [],
   "source": [
    "# Splitting data into training and testing data\n",
    "X_train, X_test, y_train, y_test = train_test_split(X, y, test_size=0.2, random_state=0)"
   ]
  },
  {
   "cell_type": "code",
   "execution_count": 18,
   "id": "20ed3a75-4042-43ba-9b4b-79a04ce97dfa",
   "metadata": {},
   "outputs": [
    {
     "name": "stdout",
     "output_type": "stream",
     "text": [
      "(817, 15) (817,) (205, 15) (205,)\n"
     ]
    }
   ],
   "source": [
    "print(X_train.shape, y_train.shape, X_test.shape, y_test.shape)"
   ]
  },
  {
   "cell_type": "code",
   "execution_count": 19,
   "id": "8c030dab",
   "metadata": {},
   "outputs": [],
   "source": [
    "# Applying mixmax scaling to data\n",
    "\"\"\"\n",
    "The purpose of this is to prevent any one column from 'overpowering' the effect\n",
    "of another column due to it's values being large. It would scale the 10^6 scale\n",
    "of data in the IntraCranialVol and the 10^1 scale of data in age into the same\n",
    "range of data, such as between 0 and 1.\n",
    "\"\"\"\n",
    "sc = MinMaxScaler()\n",
    "X_train = sc.fit_transform(X_train)\n",
    "X_test = sc.transform(X_test)"
   ]
  },
  {
   "cell_type": "markdown",
   "id": "1d6d496a",
   "metadata": {},
   "source": [
    "## SVM"
   ]
  },
  {
   "cell_type": "code",
   "execution_count": 20,
   "id": "d6ca8587",
   "metadata": {},
   "outputs": [],
   "source": [
    "from sklearn.svm import SVC, LinearSVC\n",
    "from sklearn.metrics import accuracy_score, recall_score, roc_curve, auc, classification_report, plot_confusion_matrix\n",
    "from sklearn.ensemble import BaggingClassifier\n",
    "from sklearn.model_selection import cross_val_score"
   ]
  },
  {
   "cell_type": "markdown",
   "id": "d3d7871c",
   "metadata": {},
   "source": [
    "## Testing to see what kernel performs the best"
   ]
  },
  {
   "cell_type": "markdown",
   "id": "7673eb04",
   "metadata": {},
   "source": [
    "### A large portion of this code is taken from a [publicly available notebook](https://www.kaggle.com/hyunseokc/detecting-early-alzheimer-s#6.C-SVM) by Hyunseok Choi."
   ]
  },
  {
   "cell_type": "markdown",
   "id": "b3cab8d4",
   "metadata": {},
   "source": [
    "##### This section is commented out since it takes a very long time to run and really only needs to be run once."
   ]
  },
  {
   "cell_type": "code",
   "execution_count": 21,
   "id": "f637efc8",
   "metadata": {},
   "outputs": [],
   "source": [
    "# best_score = 0\n",
    "\n",
    "# for c_parameter in [0.001, 0.01, 0.1, 1, 10, 100, 1000]: #iterate over the values we need to try for the parameter C\n",
    "#     for gamma_parameter in [0.001, 0.01, 0.1, 1, 10, 100, 1000]: #iterate over the values we need to try for the parameter gamma\n",
    "#         for k_parameter in ['rbf', 'poly', 'sigmoid', 'linear']: # iterate over the values we need to try for the kernel parameter\n",
    "#             n_estimators = 10\n",
    "#             svmModel = BaggingClassifier(SVC(kernel=k_parameter, C=c_parameter, gamma=gamma_parameter, cache_size=7000, random_state=0), \n",
    "#                                          max_samples=1.0 / n_estimators, n_estimators=n_estimators, n_jobs=-1)\n",
    "#             #svmModel = SVC(kernel=k_parameter, C=c_parameter, gamma=gamma_parameter, cache_size=7000, n_jobs=-1) #define the model\n",
    "            \n",
    "#             # perform cross-validation\n",
    "#             scores = cross_val_score(svmModel, X_train, y_train, cv=5, scoring='accuracy')\n",
    "#             # the training set will be split internally into training and cross validation\n",
    "\n",
    "#             # compute mean cross-validation accuracy\n",
    "#             score = np.mean(scores)\n",
    "#             # if we got a better score, store the score and parameters\n",
    "#             if score > best_score:\n",
    "#                 print(f'Currently on: {c_parameter}, {gamma_parameter}, {k_parameter}')\n",
    "#                 print(f'{k_parameter}: {score}')\n",
    "#                 best_score = score #store the score \n",
    "#                 best_parameter_c = c_parameter #store the parameter c\n",
    "#                 best_parameter_gamma = gamma_parameter #store the parameter gamma\n",
    "#                 best_parameter_k = k_parameter\n",
    "            \n",
    "\n",
    "# # rebuild a model with best parameters to get score \n",
    "# SelectedSVMmodel = SVC(C=best_parameter_c, gamma=best_parameter_gamma, kernel=best_parameter_k, random_state=0).fit(X_train, y_train)\n",
    "\n",
    "# test_score = SelectedSVMmodel.score(X_test, y_test)\n",
    "# PredictedOutput = SelectedSVMmodel.predict(X_test)\n",
    "# test_recall = recall_score(y_test, PredictedOutput, pos_label=1)\n",
    "# fpr, tpr, thresholds = roc_curve(y_test, PredictedOutput, pos_label=1)\n",
    "# test_auc = auc(fpr, tpr)\n",
    "# print(\"Best accuracy on cross validation set is:\", best_score)\n",
    "# print(\"Best parameter for c is: \", best_parameter_c)\n",
    "# print(\"Best parameter for gamma is: \", best_parameter_gamma)\n",
    "# print(\"Best parameter for kernel is: \", best_parameter_k)\n",
    "# print(\"Test accuracy with the best parameters is\", test_score)\n",
    "# print(\"Test recall with the best parameters is\", test_recall)\n",
    "# print(\"Test recall with the best parameter is\", test_auc)"
   ]
  },
  {
   "cell_type": "markdown",
   "id": "c9132aeb",
   "metadata": {},
   "source": [
    "## Linear SVM based on the best kernel parameters found"
   ]
  },
  {
   "cell_type": "code",
   "execution_count": 22,
   "id": "0dae8ca1-3e2a-4e33-b71e-7616a8c0ed42",
   "metadata": {},
   "outputs": [
    {
     "data": {
      "text/plain": [
       "Subject\n",
       "OAS30878    1\n",
       "OAS30238    1\n",
       "OAS30410    1\n",
       "OAS30006    0\n",
       "OAS30405    0\n",
       "           ..\n",
       "OAS30966    0\n",
       "OAS30225    0\n",
       "OAS30726    0\n",
       "OAS30644    0\n",
       "OAS30790    0\n",
       "Name: Diagnosis, Length: 817, dtype: int64"
      ]
     },
     "execution_count": 22,
     "metadata": {},
     "output_type": "execute_result"
    }
   ],
   "source": [
    "y_train"
   ]
  },
  {
   "cell_type": "code",
   "execution_count": 23,
   "id": "0e14705b",
   "metadata": {},
   "outputs": [
    {
     "name": "stdout",
     "output_type": "stream",
     "text": [
      "Accuracy of Linear SVC: 0.8682926829268293\n"
     ]
    }
   ],
   "source": [
    "SVCmodel = SVC(C=100, kernel='linear', random_state=0).fit(X_train, y_train)\n",
    "score = SVCmodel.score(X_test, y_test)\n",
    "print(\"Accuracy of Linear SVC:\", score)"
   ]
  },
  {
   "cell_type": "code",
   "execution_count": 24,
   "id": "29a7d4c2",
   "metadata": {},
   "outputs": [
    {
     "name": "stdout",
     "output_type": "stream",
     "text": [
      "0.8682926829268293\n"
     ]
    }
   ],
   "source": [
    "pred_svm = SVCmodel.predict(X_test)\n",
    "correct_preds = np.sum(pred_svm == y_test)\n",
    "print(correct_preds/y_test.size)"
   ]
  },
  {
   "cell_type": "code",
   "execution_count": 25,
   "id": "de347d76",
   "metadata": {},
   "outputs": [
    {
     "name": "stdout",
     "output_type": "stream",
     "text": [
      "              precision    recall  f1-score   support\n",
      "\n",
      "           0       0.90      0.92      0.91       152\n",
      "           1       0.76      0.72      0.74        53\n",
      "\n",
      "    accuracy                           0.87       205\n",
      "   macro avg       0.83      0.82      0.82       205\n",
      "weighted avg       0.87      0.87      0.87       205\n",
      "\n"
     ]
    }
   ],
   "source": [
    "print(classification_report(y_test, pred_svm))"
   ]
  },
  {
   "cell_type": "code",
   "execution_count": 26,
   "id": "bae7a6c8",
   "metadata": {},
   "outputs": [
    {
     "data": {
      "text/plain": [
       "<sklearn.metrics._plot.confusion_matrix.ConfusionMatrixDisplay at 0x7f54167fcfd0>"
      ]
     },
     "execution_count": 26,
     "metadata": {},
     "output_type": "execute_result"
    },
    {
     "data": {
      "image/png": "[encoded data removed]",
      "text/plain": [
       "<Figure size 432x288 with 2 Axes>"
      ]
     },
     "metadata": {
      "needs_background": "light"
     },
     "output_type": "display_data"
    }
   ],
   "source": [
    "plot_confusion_matrix(SVCmodel, X_test, y_test, display_labels=['Control', 'Dementia'], cmap=plt.cm.Blues)"
   ]
  }
 ],
 "metadata": {
  "kernelspec": {
   "display_name": "Python 3",
   "language": "python",
   "name": "python3"
  },
  "language_info": {
   "codemirror_mode": {
    "name": "ipython",
    "version": 3
   },
   "file_extension": ".py",
   "mimetype": "text/x-python",
   "name": "python",
   "nbconvert_exporter": "python",
   "pygments_lexer": "ipython3",
   "version": "3.8.8"
  },
  "metadata": {
   "interpreter": {
    "hash": "42cb58b48a5b659a396a24814bcfd32dcd1941660c5b52f5924fc03ede52bc36"
   }
  }
 },
 "nbformat": 4,
 "nbformat_minor": 5
}
