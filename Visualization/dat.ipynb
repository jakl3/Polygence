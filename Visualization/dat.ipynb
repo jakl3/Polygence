{
 "cells": [
  {
   "cell_type": "code",
   "execution_count": 1,
   "id": "74cf8cf6-2366-4a7d-94cd-0832f2652393",
   "metadata": {},
   "outputs": [],
   "source": [
    "# Imports\n",
    "import numpy as np\n",
    "import pandas as pd\n",
    "pd.options.display.float_format = '{:,.3f}'.format\n",
    "\n",
    "import matplotlib.pyplot as plt\n",
    "import seaborn as sns\n",
    "%matplotlib inline\n",
    "\n",
    "from tqdm.notebook import tqdm\n",
    "np.set_printoptions(linewidth=200, suppress=True, formatter={'float': lambda x: \"{0:0.3f}\".format(x)})"
   ]
  },
  {
   "cell_type": "code",
   "execution_count": 2,
   "id": "debcff8c-50a8-48cb-8910-6ac27a416110",
   "metadata": {},
   "outputs": [
    {
     "name": "stdout",
     "output_type": "stream",
     "text": [
      "(2168, 22)\n"
     ]
    },
    {
     "data": {
      "text/html": [
       "<div>\n",
       "<style scoped>\n",
       "    .dataframe tbody tr th:only-of-type {\n",
       "        vertical-align: middle;\n",
       "    }\n",
       "\n",
       "    .dataframe tbody tr th {\n",
       "        vertical-align: top;\n",
       "    }\n",
       "\n",
       "    .dataframe thead th {\n",
       "        text-align: right;\n",
       "    }\n",
       "</style>\n",
       "<table border=\"1\" class=\"dataframe\">\n",
       "  <thead>\n",
       "    <tr style=\"text-align: right;\">\n",
       "      <th></th>\n",
       "      <th>Subject</th>\n",
       "      <th>MR ID</th>\n",
       "      <th>id</th>\n",
       "      <th>Age</th>\n",
       "      <th>M/F</th>\n",
       "      <th>dx1</th>\n",
       "      <th>mmse</th>\n",
       "      <th>cdr</th>\n",
       "      <th>apoe</th>\n",
       "      <th>TOTAL_HIPPOCAMPUS_VOLUME</th>\n",
       "      <th>...</th>\n",
       "      <th>rhCortexVol</th>\n",
       "      <th>CortexVol</th>\n",
       "      <th>SubCortGrayVol</th>\n",
       "      <th>TotalGrayVol</th>\n",
       "      <th>SupraTentorialVol</th>\n",
       "      <th>lhCorticalWhiteMatterVol</th>\n",
       "      <th>rhCorticalWhiteMatterVol</th>\n",
       "      <th>CorticalWhiteMatterVol</th>\n",
       "      <th>L.SurfArea</th>\n",
       "      <th>R.SurfArea</th>\n",
       "    </tr>\n",
       "  </thead>\n",
       "  <tbody>\n",
       "    <tr>\n",
       "      <th>0</th>\n",
       "      <td>OAS30001</td>\n",
       "      <td>OAS30001_MR_d3132</td>\n",
       "      <td>OAS30001_Freesurfer53_d3132</td>\n",
       "      <td>73.000</td>\n",
       "      <td>F</td>\n",
       "      <td>Cognitively normal</td>\n",
       "      <td>30.000</td>\n",
       "      <td>0.000</td>\n",
       "      <td>23.000</td>\n",
       "      <td>6,861.900</td>\n",
       "      <td>...</td>\n",
       "      <td>178,031.559</td>\n",
       "      <td>359,975.258</td>\n",
       "      <td>48,400.000</td>\n",
       "      <td>491,102.258</td>\n",
       "      <td>773,671.599</td>\n",
       "      <td>174,372.329</td>\n",
       "      <td>173,244.012</td>\n",
       "      <td>347,616.342</td>\n",
       "      <td>67,598.100</td>\n",
       "      <td>67,185.800</td>\n",
       "    </tr>\n",
       "    <tr>\n",
       "      <th>1</th>\n",
       "      <td>OAS30001</td>\n",
       "      <td>OAS30001_MR_d0129</td>\n",
       "      <td>OAS30001_Freesurfer53_d0129</td>\n",
       "      <td>65.000</td>\n",
       "      <td>F</td>\n",
       "      <td>Cognitively normal</td>\n",
       "      <td>30.000</td>\n",
       "      <td>0.000</td>\n",
       "      <td>23.000</td>\n",
       "      <td>7,678.900</td>\n",
       "      <td>...</td>\n",
       "      <td>187,528.786</td>\n",
       "      <td>379,446.180</td>\n",
       "      <td>50,687.000</td>\n",
       "      <td>517,683.180</td>\n",
       "      <td>810,585.114</td>\n",
       "      <td>184,600.488</td>\n",
       "      <td>182,662.445</td>\n",
       "      <td>367,262.933</td>\n",
       "      <td>70,168.100</td>\n",
       "      <td>69,483.800</td>\n",
       "    </tr>\n",
       "    <tr>\n",
       "      <th>2</th>\n",
       "      <td>OAS30001</td>\n",
       "      <td>OAS30001_MR_d2430</td>\n",
       "      <td>OAS30001_Freesurfer53_d2430</td>\n",
       "      <td>71.000</td>\n",
       "      <td>F</td>\n",
       "      <td>Cognitively normal</td>\n",
       "      <td>30.000</td>\n",
       "      <td>0.000</td>\n",
       "      <td>23.000</td>\n",
       "      <td>7,105.900</td>\n",
       "      <td>...</td>\n",
       "      <td>178,872.680</td>\n",
       "      <td>357,784.490</td>\n",
       "      <td>49,058.000</td>\n",
       "      <td>487,405.490</td>\n",
       "      <td>777,931.271</td>\n",
       "      <td>175,955.969</td>\n",
       "      <td>178,172.813</td>\n",
       "      <td>354,128.782</td>\n",
       "      <td>67,905.700</td>\n",
       "      <td>68,000.200</td>\n",
       "    </tr>\n",
       "    <tr>\n",
       "      <th>3</th>\n",
       "      <td>OAS30001</td>\n",
       "      <td>OAS30001_MR_d0757</td>\n",
       "      <td>OAS30001_Freesurfer53_d0757</td>\n",
       "      <td>67.000</td>\n",
       "      <td>F</td>\n",
       "      <td>Cognitively normal</td>\n",
       "      <td>29.000</td>\n",
       "      <td>0.000</td>\n",
       "      <td>23.000</td>\n",
       "      <td>7,648.200</td>\n",
       "      <td>...</td>\n",
       "      <td>177,566.875</td>\n",
       "      <td>362,040.151</td>\n",
       "      <td>50,071.000</td>\n",
       "      <td>500,699.151</td>\n",
       "      <td>799,341.921</td>\n",
       "      <td>185,224.780</td>\n",
       "      <td>188,151.990</td>\n",
       "      <td>373,376.770</td>\n",
       "      <td>69,142.300</td>\n",
       "      <td>68,558.800</td>\n",
       "    </tr>\n",
       "    <tr>\n",
       "      <th>4</th>\n",
       "      <td>OAS30002</td>\n",
       "      <td>OAS30002_MR_d2345</td>\n",
       "      <td>OAS30002_Freesurfer53_d2345</td>\n",
       "      <td>73.000</td>\n",
       "      <td>M</td>\n",
       "      <td>Cognitively normal</td>\n",
       "      <td>29.000</td>\n",
       "      <td>0.000</td>\n",
       "      <td>34.000</td>\n",
       "      <td>7,833.200</td>\n",
       "      <td>...</td>\n",
       "      <td>230,240.533</td>\n",
       "      <td>457,342.036</td>\n",
       "      <td>56,773.000</td>\n",
       "      <td>607,473.036</td>\n",
       "      <td>1,051,713.751</td>\n",
       "      <td>239,168.338</td>\n",
       "      <td>245,361.377</td>\n",
       "      <td>484,529.716</td>\n",
       "      <td>83,138.100</td>\n",
       "      <td>85,742.300</td>\n",
       "    </tr>\n",
       "  </tbody>\n",
       "</table>\n",
       "<p>5 rows × 22 columns</p>\n",
       "</div>"
      ],
      "text/plain": [
       "    Subject              MR ID                           id    Age M/F  \\\n",
       "0  OAS30001  OAS30001_MR_d3132  OAS30001_Freesurfer53_d3132 73.000   F   \n",
       "1  OAS30001  OAS30001_MR_d0129  OAS30001_Freesurfer53_d0129 65.000   F   \n",
       "2  OAS30001  OAS30001_MR_d2430  OAS30001_Freesurfer53_d2430 71.000   F   \n",
       "3  OAS30001  OAS30001_MR_d0757  OAS30001_Freesurfer53_d0757 67.000   F   \n",
       "4  OAS30002  OAS30002_MR_d2345  OAS30002_Freesurfer53_d2345 73.000   M   \n",
       "\n",
       "                  dx1   mmse   cdr   apoe  TOTAL_HIPPOCAMPUS_VOLUME  ...  \\\n",
       "0  Cognitively normal 30.000 0.000 23.000                 6,861.900  ...   \n",
       "1  Cognitively normal 30.000 0.000 23.000                 7,678.900  ...   \n",
       "2  Cognitively normal 30.000 0.000 23.000                 7,105.900  ...   \n",
       "3  Cognitively normal 29.000 0.000 23.000                 7,648.200  ...   \n",
       "4  Cognitively normal 29.000 0.000 34.000                 7,833.200  ...   \n",
       "\n",
       "   rhCortexVol   CortexVol  SubCortGrayVol  TotalGrayVol  SupraTentorialVol  \\\n",
       "0  178,031.559 359,975.258      48,400.000   491,102.258        773,671.599   \n",
       "1  187,528.786 379,446.180      50,687.000   517,683.180        810,585.114   \n",
       "2  178,872.680 357,784.490      49,058.000   487,405.490        777,931.271   \n",
       "3  177,566.875 362,040.151      50,071.000   500,699.151        799,341.921   \n",
       "4  230,240.533 457,342.036      56,773.000   607,473.036      1,051,713.751   \n",
       "\n",
       "   lhCorticalWhiteMatterVol  rhCorticalWhiteMatterVol  CorticalWhiteMatterVol  \\\n",
       "0               174,372.329               173,244.012             347,616.342   \n",
       "1               184,600.488               182,662.445             367,262.933   \n",
       "2               175,955.969               178,172.813             354,128.782   \n",
       "3               185,224.780               188,151.990             373,376.770   \n",
       "4               239,168.338               245,361.377             484,529.716   \n",
       "\n",
       "   L.SurfArea  R.SurfArea  \n",
       "0  67,598.100  67,185.800  \n",
       "1  70,168.100  69,483.800  \n",
       "2  67,905.700  68,000.200  \n",
       "3  69,142.300  68,558.800  \n",
       "4  83,138.100  85,742.300  \n",
       "\n",
       "[5 rows x 22 columns]"
      ]
     },
     "execution_count": 2,
     "metadata": {},
     "output_type": "execute_result"
    }
   ],
   "source": [
    "# Load in data\n",
    "# rootdir = '/content/drive/MyDrive/Extracurriculars/Summer_2021/Polygence/Data/OASIS/csv_files/oasis_3.csv'\n",
    "rootdir = '/hdd/Polygence/Data/OASIS/csv_files/oasis_3.csv'\n",
    "df = pd.read_csv(rootdir)\n",
    "print(df.shape)\n",
    "df.head()"
   ]
  },
  {
   "cell_type": "code",
   "execution_count": 3,
   "id": "ec7b492e-4bbd-4609-8240-8b2e38a2302a",
   "metadata": {},
   "outputs": [
    {
     "name": "stdout",
     "output_type": "stream",
     "text": [
      "(1956, 18)\n"
     ]
    }
   ],
   "source": [
    "# Data pre-processing\n",
    "df = df.dropna(axis=1, how='all') # Drop any empty columns\n",
    "df = df.dropna(axis=0, how='any') # Drop any rows with empty values \n",
    "df = df.rename(columns={'id':'Freesurfer ID', 'dx1':'Diagnosis', \n",
    "                        'TOTAL_HIPPOCAMPUS_VOLUME':'TotalHippocampusVol'}) # Rename columns\n",
    "# df = df.drop_duplicates(subset='Subject', keep='first') # Keep only the first visit; this is possible because\n",
    "#                                                         # df is sorted by age\n",
    "df = df.reset_index(drop=True) # Reset the index\n",
    "cols = df.columns.tolist()\n",
    "cols[2], cols[4] = cols[4], cols[2]\n",
    "df = df[cols]\n",
    "df.loc[df['cdr'] < 0.5, 'Diagnosis'] = 0\n",
    "df.loc[~(df['cdr'] < 0.5), 'Diagnosis'] = 1\n",
    "df = df.drop(['MR ID', 'Freesurfer ID', 'cdr', 'M/F'], axis=1) # Drop categorical and redundant columns\n",
    "print(df.shape)"
   ]
  },
  {
   "cell_type": "code",
   "execution_count": 4,
   "id": "12c788eb-755a-4ab6-908c-0842d9bf8f89",
   "metadata": {},
   "outputs": [],
   "source": [
    "index = df[df['Diagnosis'] == 0].index"
   ]
  },
  {
   "cell_type": "code",
   "execution_count": 5,
   "id": "de731836-184e-4e1a-acca-a18dede5e406",
   "metadata": {},
   "outputs": [],
   "source": [
    "df.drop(index[:37], inplace=True)"
   ]
  },
  {
   "cell_type": "code",
   "execution_count": 6,
   "id": "44d3b506-219d-42ae-8263-744ab86935da",
   "metadata": {},
   "outputs": [
    {
     "data": {
      "text/plain": [
       "(1919, 18)"
      ]
     },
     "execution_count": 6,
     "metadata": {},
     "output_type": "execute_result"
    }
   ],
   "source": [
    "df.shape"
   ]
  },
  {
   "cell_type": "code",
   "execution_count": 7,
   "id": "2d6ebca0-d157-4910-810a-724055d3b9cd",
   "metadata": {},
   "outputs": [],
   "source": [
    "df['age_bins'] = pd.cut(x=df['Age'], bins=[40, 60, 80, 100])"
   ]
  },
  {
   "cell_type": "code",
   "execution_count": 8,
   "id": "2cafbb57-93a8-4be4-bed9-9f6f1dbc41d6",
   "metadata": {},
   "outputs": [
    {
     "data": {
      "text/plain": [
       "0    1495\n",
       "1     424\n",
       "Name: Diagnosis, dtype: int64"
      ]
     },
     "execution_count": 8,
     "metadata": {},
     "output_type": "execute_result"
    }
   ],
   "source": [
    "df['Diagnosis'].value_counts()"
   ]
  },
  {
   "cell_type": "code",
   "execution_count": 9,
   "id": "d127e149-e3d1-4da1-8d59-69b415341726",
   "metadata": {},
   "outputs": [
    {
     "data": {
      "text/plain": [
       "(60, 80]     1356\n",
       "(40, 60]      315\n",
       "(80, 100]     248\n",
       "Name: age_bins, dtype: int64"
      ]
     },
     "execution_count": 9,
     "metadata": {},
     "output_type": "execute_result"
    }
   ],
   "source": [
    "df['age_bins'].value_counts()"
   ]
  },
  {
   "cell_type": "code",
   "execution_count": 10,
   "id": "078b7092-ca9a-4268-bd46-f2fc43fdb5da",
   "metadata": {},
   "outputs": [
    {
     "name": "stdout",
     "output_type": "stream",
     "text": [
      "(5375, 12)\n"
     ]
    },
    {
     "data": {
      "text/html": [
       "<div>\n",
       "<style scoped>\n",
       "    .dataframe tbody tr th:only-of-type {\n",
       "        vertical-align: middle;\n",
       "    }\n",
       "\n",
       "    .dataframe tbody tr th {\n",
       "        vertical-align: top;\n",
       "    }\n",
       "\n",
       "    .dataframe thead th {\n",
       "        text-align: right;\n",
       "    }\n",
       "</style>\n",
       "<table border=\"1\" class=\"dataframe\">\n",
       "  <thead>\n",
       "    <tr style=\"text-align: right;\">\n",
       "      <th></th>\n",
       "      <th>Image Data ID</th>\n",
       "      <th>Subject</th>\n",
       "      <th>Group</th>\n",
       "      <th>Sex</th>\n",
       "      <th>Age</th>\n",
       "      <th>Visit</th>\n",
       "      <th>Modality</th>\n",
       "      <th>Description</th>\n",
       "      <th>Type</th>\n",
       "      <th>Acq Date</th>\n",
       "      <th>Format</th>\n",
       "      <th>Downloaded</th>\n",
       "    </tr>\n",
       "  </thead>\n",
       "  <tbody>\n",
       "    <tr>\n",
       "      <th>0</th>\n",
       "      <td>I431036</td>\n",
       "      <td>941_S_4764</td>\n",
       "      <td>EMCI</td>\n",
       "      <td>F</td>\n",
       "      <td>85</td>\n",
       "      <td>30</td>\n",
       "      <td>MRI</td>\n",
       "      <td>MPRAGE</td>\n",
       "      <td>Original</td>\n",
       "      <td>6/16/2014</td>\n",
       "      <td>DCM</td>\n",
       "      <td>8/07/2021</td>\n",
       "    </tr>\n",
       "    <tr>\n",
       "      <th>1</th>\n",
       "      <td>I307653</td>\n",
       "      <td>941_S_4764</td>\n",
       "      <td>EMCI</td>\n",
       "      <td>F</td>\n",
       "      <td>83</td>\n",
       "      <td>22</td>\n",
       "      <td>MRI</td>\n",
       "      <td>MPRAGE</td>\n",
       "      <td>Original</td>\n",
       "      <td>6/01/2012</td>\n",
       "      <td>DCM</td>\n",
       "      <td>8/07/2021</td>\n",
       "    </tr>\n",
       "    <tr>\n",
       "      <th>2</th>\n",
       "      <td>I376064</td>\n",
       "      <td>941_S_4764</td>\n",
       "      <td>EMCI</td>\n",
       "      <td>F</td>\n",
       "      <td>84</td>\n",
       "      <td>28</td>\n",
       "      <td>MRI</td>\n",
       "      <td>MPRAGE</td>\n",
       "      <td>Original</td>\n",
       "      <td>6/10/2013</td>\n",
       "      <td>DCM</td>\n",
       "      <td>8/07/2021</td>\n",
       "    </tr>\n",
       "    <tr>\n",
       "      <th>3</th>\n",
       "      <td>I325119</td>\n",
       "      <td>941_S_4764</td>\n",
       "      <td>EMCI</td>\n",
       "      <td>F</td>\n",
       "      <td>83</td>\n",
       "      <td>24</td>\n",
       "      <td>MRI</td>\n",
       "      <td>MPRAGE</td>\n",
       "      <td>Original</td>\n",
       "      <td>8/20/2012</td>\n",
       "      <td>DCM</td>\n",
       "      <td>8/07/2021</td>\n",
       "    </tr>\n",
       "    <tr>\n",
       "      <th>4</th>\n",
       "      <td>I294080</td>\n",
       "      <td>941_S_4420</td>\n",
       "      <td>EMCI</td>\n",
       "      <td>M</td>\n",
       "      <td>81</td>\n",
       "      <td>22</td>\n",
       "      <td>MRI</td>\n",
       "      <td>MPRAGE</td>\n",
       "      <td>Original</td>\n",
       "      <td>3/28/2012</td>\n",
       "      <td>DCM</td>\n",
       "      <td>8/07/2021</td>\n",
       "    </tr>\n",
       "  </tbody>\n",
       "</table>\n",
       "</div>"
      ],
      "text/plain": [
       "  Image Data ID     Subject Group Sex  Age  Visit Modality Description  \\\n",
       "0       I431036  941_S_4764  EMCI   F   85     30      MRI      MPRAGE   \n",
       "1       I307653  941_S_4764  EMCI   F   83     22      MRI      MPRAGE   \n",
       "2       I376064  941_S_4764  EMCI   F   84     28      MRI      MPRAGE   \n",
       "3       I325119  941_S_4764  EMCI   F   83     24      MRI      MPRAGE   \n",
       "4       I294080  941_S_4420  EMCI   M   81     22      MRI      MPRAGE   \n",
       "\n",
       "       Type   Acq Date Format Downloaded  \n",
       "0  Original  6/16/2014    DCM  8/07/2021  \n",
       "1  Original  6/01/2012    DCM  8/07/2021  \n",
       "2  Original  6/10/2013    DCM  8/07/2021  \n",
       "3  Original  8/20/2012    DCM  8/07/2021  \n",
       "4  Original  3/28/2012    DCM  8/07/2021  "
      ]
     },
     "execution_count": 10,
     "metadata": {},
     "output_type": "execute_result"
    }
   ],
   "source": [
    "# Load in data\n",
    "# rootdir = '/content/drive/MyDrive/Extracurriculars/Summer_2021/Polygence/Data/OASIS/csv_files/oasis_3.csv'\n",
    "rootdir = '/hdd/Polygence/Data/ADNI/patients.csv'\n",
    "df = pd.read_csv(rootdir)\n",
    "print(df.shape)\n",
    "df.head()"
   ]
  },
  {
   "cell_type": "code",
   "execution_count": 11,
   "id": "1234630b-157a-4e6d-a120-1a5f906e1be8",
   "metadata": {},
   "outputs": [
    {
     "data": {
      "text/plain": [
       "CN      1521\n",
       "MCI     1275\n",
       "EMCI    1224\n",
       "AD       718\n",
       "LMCI     637\n",
       "Name: Group, dtype: int64"
      ]
     },
     "execution_count": 11,
     "metadata": {},
     "output_type": "execute_result"
    }
   ],
   "source": [
    "df['Group'].value_counts()"
   ]
  },
  {
   "cell_type": "code",
   "execution_count": 12,
   "id": "81b330a5-7f0a-432a-a37d-1ff04e1f6d1f",
   "metadata": {},
   "outputs": [],
   "source": [
    "df['age_bins'] = pd.cut(x=df['Age'], bins=[40, 60, 80, 100])"
   ]
  },
  {
   "cell_type": "code",
   "execution_count": 13,
   "id": "39232e25-bf91-4ba4-bc9f-a2ad4bff5d5c",
   "metadata": {},
   "outputs": [
    {
     "data": {
      "text/plain": [
       "(60, 80]     3935\n",
       "(80, 100]    1269\n",
       "(40, 60]      171\n",
       "Name: age_bins, dtype: int64"
      ]
     },
     "execution_count": 13,
     "metadata": {},
     "output_type": "execute_result"
    }
   ],
   "source": [
    "df['age_bins'].value_counts()"
   ]
  }
 ],
 "metadata": {
  "kernelspec": {
   "display_name": "Python 3.8 (ml)",
   "language": "python",
   "name": "ml"
  },
  "language_info": {
   "codemirror_mode": {
    "name": "ipython",
    "version": 3
   },
   "file_extension": ".py",
   "mimetype": "text/x-python",
   "name": "python",
   "nbconvert_exporter": "python",
   "pygments_lexer": "ipython3",
   "version": "3.8.11"
  }
 },
 "nbformat": 4,
 "nbformat_minor": 5
}
