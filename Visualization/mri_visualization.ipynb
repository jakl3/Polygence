{
 "cells": [
  {
   "cell_type": "markdown",
   "metadata": {},
   "source": [
    "# MRI VISUALIZATION from OASIS-3\n",
    "### Jack Le - Polygence"
   ]
  },
  {
   "cell_type": "markdown",
   "metadata": {},
   "source": [
    "## Data Use Agreements\n",
    "The data used for this project were provided in part by OASIS and ADNI.\n",
    "\n",
    "OASIS-3: Principal Investigators: T. Benzinger, D. Marcus, J. Morris; NIH P50 AG00561, P30 NS09857781, P01 AG026276, P01 AG003991, R01 AG043434, UL1 TR000448, R01 EB009352. AV-45 doses were provided by Avid Radiopharmaceuticals, a wholly owned subsidiary of Eli Lilly.\n",
    "\n",
    "Data collection for this project was done through the Alzheimer's Disease Neuroimaging Initiative (ADNI) (National Institutes of Health Grant U01 AG024904) and DOD ADNI (Department of Defense award number W81XWH-12-2-0012). ADNI is funded by the National Institute on Aging, the National Institute of Biomedical Imaging and Bioengineering, and through generous contributions from the following: AbbVie, Alzheimer’s Association; Alzheimer’s Drug Discovery Foundation; Araclon Biotech; BioClinica, Inc.; Biogen; Bristol-Myers Squibb Company; CereSpir, Inc.; Cogstate; Eisai Inc.; Elan Pharmaceuticals, Inc.; Eli Lilly and Company; EuroImmun; F. Hoffmann-La Roche Ltd and its affiliated company Genentech, Inc.; Fujirebio; GE Healthcare; IXICO Ltd.; Janssen Alzheimer Immunotherapy Research & Development, LLC.; Johnson & Johnson Pharmaceutical Research & Development LLC.; Lumosity; Lundbeck; Merck & Co., Inc.; Meso Scale Diagnostics, LLC.; NeuroRx Research; Neurotrack Technologies; Novartis Pharmaceuticals Corporation; Pfizer Inc.; Piramal Imaging; Servier; Takeda Pharmaceutical Company; and Transition Therapeutics. The Canadian Institutes of Health Research is providing funds to support ADNI clinical sites in Canada. Private sector contributions are facilitated by the Foundation for the National Institutes of Health (www.fnih.org). The grantee organization is the Northern California Institute for Research and Education, and the study is coordinated by the Alzheimer’s Therapeutic Research Institute at the University of Southern California. ADNI data are disseminated by the Laboratory for Neuro Imaging at the University of Southern California."
   ]
  },
  {
   "cell_type": "code",
   "execution_count": 1,
   "metadata": {},
   "outputs": [],
   "source": [
    "import nibabel.freesurfer.mghformat as mgh\n",
    "import ipywidgets as widgets\n",
    "from scipy import ndimage\n",
    "import os, random\n",
    "import matplotlib.gridspec as gridspec\n",
    "import numpy as np\n",
    "import matplotlib.pyplot as plt\n",
    "import pandas as pd\n",
    "from IPython import display as dspl"
   ]
  },
  {
   "cell_type": "markdown",
   "metadata": {},
   "source": [
    "## MRI Visualizations"
   ]
  },
  {
   "cell_type": "code",
   "execution_count": 2,
   "metadata": {},
   "outputs": [],
   "source": [
    "from skimage.transform import resize, rescale"
   ]
  },
  {
   "cell_type": "code",
   "execution_count": 3,
   "metadata": {},
   "outputs": [],
   "source": [
    "# chooses a random MRI based on the chosen patient type\n",
    "def choose_image(p_type):\n",
    "    # Chooses a random image from the chosen group\n",
    "    print(p_type)\n",
    "    \n",
    "    label_dir = \"/home/jack/Code/GitHub/Polygence/Data/OASIS/mri_data/dementia\" if p_type == 'Demented' else \"/home/jack/Code/GitHub/Polygence/Data/OASIS/mri_data/control\"\n",
    "    mr_id = random.choice(os.listdir(label_dir))\n",
    "    scans = os.path.join(label_dir, mr_id)\n",
    "    img_file = [file for file in os.listdir(scans) if \"transformed\" in file]\n",
    "    scan_dir = os.path.join(scans, img_file[0])\n",
    "\n",
    "    # Loads image\n",
    "    image_obj = mgh.load(scan_dir)\n",
    "    image_data = image_obj.get_fdata()\n",
    "    \n",
    "    # Data preprocessing\n",
    "    def normalize(volume):\n",
    "        \"\"\" Normalize the volume, scaling it to [0, 1] instead of [0, 255] \"\"\"\n",
    "        min = 0.0\n",
    "        max = 255.0\n",
    "        volume[volume < min] = min\n",
    "        volume[volume > max] = max\n",
    "        volume = (volume - min) / (max - min)\n",
    "        volume = volume.astype(\"float32\")\n",
    "        return volume\n",
    "\n",
    "    def scale(volume):\n",
    "        \"\"\" Reduce the volume's dimensions \"\"\"\n",
    "        return rescale(volume, .5)\n",
    "    \n",
    "    image_data = normalize(image_data)\n",
    "    image_data = scale(image_data)\n",
    "\n",
    "    return scan_dir, image_data"
   ]
  },
  {
   "cell_type": "code",
   "execution_count": 4,
   "metadata": {},
   "outputs": [],
   "source": [
    "# graphs the MRI image\n",
    "def show_graph(img, pat_type, height, width, depth, color):\n",
    "    # Plots brain scans in all three dimensions\n",
    "    fig = plt.figure(figsize=(15,7))\n",
    "    gs = gridspec.GridSpec(nrows=2, ncols=3)\n",
    "\n",
    "    ax0 = fig.add_subplot(gs[0:2,0])\n",
    "    ax1 = fig.add_subplot(gs[0:2,1])\n",
    "    ax2 = fig.add_subplot(gs[0:2,2])\n",
    "\n",
    "    ax0.set_title(\"height\")\n",
    "    ax1.set_title(\"width\")\n",
    "    ax2.set_title(\"depth\")\n",
    "\n",
    "    colormap = 'gray' if color == 'Gray' else 'viridis'\n",
    "    ax0.imshow(img[0, height, :, :], cmap=colormap)\n",
    "    ax1.imshow(img[0, :, width, :], cmap=colormap)\n",
    "    ax2.imshow(img[0, :, :, depth], cmap=colormap)"
   ]
  },
  {
   "cell_type": "markdown",
   "metadata": {},
   "source": [
    "## Interactive MRI Display\n",
    "### This may not display correctly on GitHub; to use it, you have to download the file and run it on your own computer"
   ]
  },
  {
   "cell_type": "code",
   "execution_count": 5,
   "metadata": {},
   "outputs": [],
   "source": [
    "def disp(d_scan_dir, d_pat_type, d_image_data):\n",
    "    print(f'Path of current MRI: {d_scan_dir}')\n",
    "    _, d_high, d_wid, d_dep  = d_image_data.shape\n",
    "    print(d_image_data.shape)\n",
    "    co = widgets.ToggleButtons(options=['Gray', 'Color'], description='Color Map')\n",
    "    hi = widgets.IntSlider(value=d_high/2, max=d_high-1, continous_updates=False, description='View 1')\n",
    "    wi = widgets.IntSlider(value=d_wid/2, max=d_wid-1, continous_updates=False, description='View 2')\n",
    "    de = widgets.IntSlider(value=d_dep/2, max=d_dep-1, continous_updates=False, description='View 3')\n",
    "    ui = widgets.HBox([hi, wi, de, co])\n",
    "    \n",
    "    display_output = widgets.interactive_output(show_graph, {'img':widgets.fixed(d_image_data),\n",
    "                                                             'pat_type':widgets.fixed(d_pat_type), \n",
    "                                                             'height':hi,\n",
    "                                                             'width':wi,\n",
    "                                                             'depth':de,\n",
    "                                                             'color':co})\n",
    "    dspl.display(ui, display_output)"
   ]
  },
  {
   "cell_type": "code",
   "execution_count": 6,
   "metadata": {},
   "outputs": [],
   "source": [
    "from monai.transforms import BoundingRect\n",
    "from monai.transforms import SpatialCrop\n",
    "from monai.transforms import AddChannel\n",
    "\n",
    "def show_display(pat_type):\n",
    "    scan_dir, image_data = choose_image(pat_type)\n",
    "#     image_data = image_data[30:220, :, :]\n",
    "    height, width, depth = image_data.shape\n",
    "#     image_data = image_data[int(30/256 * height):int(220/256 * height), \n",
    "#                             int(30/256 * width):int(220/256 * width), \n",
    "#                             int(0/256 * depth):int(220/256 * depth)]\n",
    "\n",
    "\n",
    "    channel = AddChannel()\n",
    "    image_data = channel(image_data)\n",
    "    \n",
    "#     cropper = CropForeground()\n",
    "#     image_data = cropper(image_data)\n",
    "    cropper = SpatialCrop(roi_start=(15, 15, 0), roi_end=(110,110,110))\n",
    "    image_data = cropper(image_data)\n",
    "\n",
    "    disp(scan_dir, pat_type, image_data)"
   ]
  },
  {
   "cell_type": "markdown",
   "metadata": {},
   "source": [
    "### Cognitively Normal Patient Display"
   ]
  },
  {
   "cell_type": "code",
   "execution_count": 7,
   "metadata": {},
   "outputs": [
    {
     "name": "stdout",
     "output_type": "stream",
     "text": [
      "Control\n",
      "Path of current MRI: /home/jack/Code/GitHub/Polygence/Data/OASIS/mri_data/control/OAS30327_MR_d0281/OAS30327_Freesurfer53_d0281_brain_transformed.mgz\n",
      "(1, 95, 95, 110)\n"
     ]
    },
    {
     "data": {
      "application/vnd.jupyter.widget-view+json": {
       "model_id": "dfb8887d2f9941ebaf0a6805a3cad807",
       "version_major": 2,
       "version_minor": 0
      },
      "text/plain": [
       "HBox(children=(IntSlider(value=47, description='View 1', max=94), IntSlider(value=47, description='View 2', ma…"
      ]
     },
     "metadata": {},
     "output_type": "display_data"
    },
    {
     "data": {
      "application/vnd.jupyter.widget-view+json": {
       "model_id": "4dc274fe208e42f9b5825416809cbf58",
       "version_major": 2,
       "version_minor": 0
      },
      "text/plain": [
       "Output()"
      ]
     },
     "metadata": {},
     "output_type": "display_data"
    }
   ],
   "source": [
    "show_display(\"Control\")"
   ]
  },
  {
   "cell_type": "markdown",
   "metadata": {},
   "source": [
    "### Demented Patient Display"
   ]
  },
  {
   "cell_type": "code",
   "execution_count": 8,
   "metadata": {},
   "outputs": [
    {
     "name": "stdout",
     "output_type": "stream",
     "text": [
      "Demented\n",
      "Path of current MRI: /home/jack/Code/GitHub/Polygence/Data/OASIS/mri_data/dementia/OAS30732_MR_d0074/OAS30732_Freesurfer53_d0074_brain_transformed.mgz\n",
      "(1, 95, 95, 110)\n"
     ]
    },
    {
     "data": {
      "application/vnd.jupyter.widget-view+json": {
       "model_id": "18561509202f41f69deb6005ccac5612",
       "version_major": 2,
       "version_minor": 0
      },
      "text/plain": [
       "HBox(children=(IntSlider(value=47, description='View 1', max=94), IntSlider(value=47, description='View 2', ma…"
      ]
     },
     "metadata": {},
     "output_type": "display_data"
    },
    {
     "data": {
      "application/vnd.jupyter.widget-view+json": {
       "model_id": "721c4f74375f495692998b2ec8a1fd19",
       "version_major": 2,
       "version_minor": 0
      },
      "text/plain": [
       "Output()"
      ]
     },
     "metadata": {},
     "output_type": "display_data"
    }
   ],
   "source": [
    "show_display(\"Demented\")"
   ]
  },
  {
   "cell_type": "code",
   "execution_count": 9,
   "metadata": {},
   "outputs": [
    {
     "name": "stdout",
     "output_type": "stream",
     "text": [
      "False\n"
     ]
    }
   ],
   "source": [
    "print((10,9,12) > (10,10,10))"
   ]
  },
  {
   "cell_type": "code",
   "execution_count": null,
   "metadata": {},
   "outputs": [],
   "source": []
  }
 ],
 "metadata": {
  "kernelspec": {
   "display_name": "Python 3 (ipykernel)",
   "language": "python",
   "name": "python3"
  },
  "language_info": {
   "codemirror_mode": {
    "name": "ipython",
    "version": 3
   },
   "file_extension": ".py",
   "mimetype": "text/x-python",
   "name": "python",
   "nbconvert_exporter": "python",
   "pygments_lexer": "ipython3",
   "version": "3.8.10"
  },
  "metadata": {
   "interpreter": {
    "hash": "42cb58b48a5b659a396a24814bcfd32dcd1941660c5b52f5924fc03ede52bc36"
   }
  }
 },
 "nbformat": 4,
 "nbformat_minor": 4
}
